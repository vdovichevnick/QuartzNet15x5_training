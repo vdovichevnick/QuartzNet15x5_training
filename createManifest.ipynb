{
 "cells": [
  {
   "cell_type": "markdown",
   "metadata": {},
   "source": [
    "### Создание манифеста для обучаего/валидационного набора данных для аудио .wav"
   ]
  },
  {
   "cell_type": "markdown",
   "metadata": {},
   "source": [
    "Обучение"
   ]
  },
  {
   "cell_type": "code",
   "execution_count": null,
   "metadata": {},
   "outputs": [],
   "source": [
    "import os\n",
    "import json\n",
    "import wave\n",
    "\n",
    "# Путь к папке с файлами .wav и .txt\n",
    "folder_path = r\"C:\\Users\\vdovichev\\Documents\\DatasetForFineTune\\RuDevicesDataset\\files\"\n",
    "\n",
    "# Путь к выходному файлу manifest.jsonl\n",
    "output_file = r\"C:\\Users\\vdovichev\\Documents\\DatasetForFineTune\\RuDevicesDataset\\manifestRuDevices.jsonl\"\n",
    "\n",
    "# Список для хранения данных о каждом элементе\n",
    "manifest_data = []"
   ]
  },
  {
   "cell_type": "code",
   "execution_count": null,
   "metadata": {},
   "outputs": [],
   "source": [
    "# Функция для получения длительности аудио файла\n",
    "def get_audio_duration(audio_path):\n",
    "    with wave.open(audio_path, 'rb') as audio_file:\n",
    "        frames = audio_file.getnframes()\n",
    "        rate = audio_file.getframerate()\n",
    "        duration = frames / float(rate)\n",
    "        return round(duration, 1)\n",
    "\n",
    "# Перебираем все файлы .txt в папке\n",
    "for file in os.listdir(folder_path):\n",
    "    if file.endswith('.txt'):\n",
    "        text_file_path = os.path.join(folder_path, file)\n",
    "        audio_file_path = os.path.join(folder_path, file[:-4] + '.wav')\n",
    "        if os.path.exists(audio_file_path):\n",
    "            # Создаем уникальный ID из имени файла\n",
    "            file_id = os.path.splitext(file)[0]\n",
    "\n",
    "            # Получаем текст из .txt файла\n",
    "            with open(text_file_path, 'r', encoding='utf-8') as text_file:\n",
    "                text = text_file.read().strip()\n",
    "\n",
    "\n",
    "            # Получаем длительность аудио файла\n",
    "            duration = get_audio_duration(audio_file_path)\n",
    "\n",
    "            # Создаем объект данных для добавления в manifest.jsonl\n",
    "            data = {\n",
    "                \"id\": file_id,\n",
    "                \"audio_filepath\": f\"files/{file_id}.wav\",\n",
    "                \"text\": text,\n",
    "                \"duration\": duration\n",
    "            }\n",
    "            manifest_data.append(data)\n",
    "\n",
    "# Записываем данные в manifest.jsonl\n",
    "with open(output_file, 'w', encoding='utf-8') as manifest_file:\n",
    "    for data in manifest_data:\n",
    "        json.dump(data, manifest_file, ensure_ascii=False)\n",
    "        manifest_file.write('\\n')"
   ]
  },
  {
   "cell_type": "code",
   "execution_count": null,
   "metadata": {},
   "outputs": [],
   "source": [
    "# проверка созданного манифеста\n",
    "\n",
    "# путь к manifest.jsonl\n",
    "manifest_path = output_file\n",
    "\n",
    "#manifest_path = r\"C:\\Users\\vdovichev\\Documents\\DatasetForFineTune\\RuDevicesDataset\\manifestRuDevices.jsonl\"\n",
    "\n",
    "with open(manifest_path, 'r', encoding='utf-8') as f:\n",
    "    manifest_data = [json.loads(line) for line in f]\n",
    "print(len(manifest_data))"
   ]
  },
  {
   "cell_type": "markdown",
   "metadata": {},
   "source": [
    "Валидация"
   ]
  },
  {
   "cell_type": "code",
   "execution_count": null,
   "metadata": {},
   "outputs": [],
   "source": [
    "import os\n",
    "import json\n",
    "import wave\n",
    "\n",
    "# Путь к папке с файлами .wav и .txt\n",
    "folder_path = r\"C:\\Users\\vdovichev\\Documents\\DatasetForFineTune\\RuDevicesDataset\\validationfiles\"\n",
    "\n",
    "# Путь к выходному файлу manifest.jsonl\n",
    "output_file = r\"C:\\Users\\vdovichev\\Documents\\DatasetForFineTune\\RuDevicesDataset\\manifestValidationRuDevices.jsonl\"\n",
    "\n",
    "# Список для хранения данных о каждом элементе\n",
    "manifest_data = []"
   ]
  },
  {
   "cell_type": "code",
   "execution_count": null,
   "metadata": {},
   "outputs": [],
   "source": [
    "# Функция для получения длительности аудио файла\n",
    "def get_audio_duration(audio_path):\n",
    "    with wave.open(audio_path, 'rb') as audio_file:\n",
    "        frames = audio_file.getnframes()\n",
    "        rate = audio_file.getframerate()\n",
    "        duration = frames / float(rate)\n",
    "        return round(duration, 1)\n",
    "\n",
    "# Перебираем все файлы .txt в папке\n",
    "for file in os.listdir(folder_path):\n",
    "    if file.endswith('.txt'):\n",
    "        text_file_path = os.path.join(folder_path, file)\n",
    "        audio_file_path = os.path.join(folder_path, file[:-4] + '.wav')\n",
    "        if os.path.exists(audio_file_path):\n",
    "            # Создаем уникальный ID из имени файла\n",
    "            file_id = os.path.splitext(file)[0]\n",
    "\n",
    "            # Получаем текст из .txt файла\n",
    "            with open(text_file_path, 'r', encoding='utf-8') as text_file:\n",
    "                text = text_file.read().strip()\n",
    "\n",
    "\n",
    "            # Получаем длительность аудио файла\n",
    "            duration = get_audio_duration(audio_file_path)\n",
    "\n",
    "            # Создаем объект данных для добавления в manifest.jsonl\n",
    "            data = {\n",
    "                \"id\": file_id,\n",
    "                \"audio_filepath\": f\"validationfiles/{file_id}.wav\",\n",
    "                \"text\": text,\n",
    "                \"duration\": duration\n",
    "            }\n",
    "            manifest_data.append(data)\n",
    "\n",
    "# Записываем данные в manifest.jsonl\n",
    "with open(output_file, 'w', encoding='utf-8') as manifest_file:\n",
    "    for data in manifest_data:\n",
    "        json.dump(data, manifest_file, ensure_ascii=False)\n",
    "        manifest_file.write('\\n')"
   ]
  },
  {
   "cell_type": "code",
   "execution_count": null,
   "metadata": {},
   "outputs": [],
   "source": [
    "# проверка созданного манифеста\n",
    "# путь к manifest.jsonl\n",
    "manifest_path = output_file\n",
    "\n",
    "#manifest_path = r\"C:\\Users\\vdovichev\\Documents\\DatasetForFineTune\\RuDevicesDataset\\manifestValidationRuDevices.jsonl\"\n",
    "\n",
    "with open(manifest_path, 'r', encoding='utf-8') as f:\n",
    "    manifest_data = [json.loads(line) for line in f]\n",
    "print(len(manifest_data))"
   ]
  },
  {
   "cell_type": "markdown",
   "metadata": {},
   "source": [
    "### Создание манифеста для набора данных Шумов .wav"
   ]
  },
  {
   "cell_type": "code",
   "execution_count": 3,
   "metadata": {},
   "outputs": [],
   "source": [
    "import os\n",
    "import json\n",
    "import wave\n",
    "\n",
    "# Путь к папке с файлами .wav\n",
    "folder_path = r\"C:\\Users\\vdovichev\\Documents\\DatasetForFineTune\\PointSourceNoises\\files\"\n",
    "\n",
    "# Путь к выходному файлу manifest.jsonl\n",
    "output_file = r\"C:\\Users\\vdovichev\\Documents\\DatasetForFineTune\\PointSourceNoises\\manifestNoises.jsonl\"\n",
    "\n",
    "# Список для хранения данных о каждом элементе\n",
    "manifest_data = []\n",
    "\n",
    "# Функция для получения длительности аудио файла (не более 15 секунд)\n",
    "def get_audio_duration(audio_path):\n",
    "    with wave.open(audio_path, 'rb') as audio_file:\n",
    "        frames = audio_file.getnframes()\n",
    "        rate = audio_file.getframerate()\n",
    "        duration = frames / float(rate)\n",
    "        return round(min(duration, 15.0), 1)\n",
    "    \n",
    "\n",
    "# Перебираем все файлы .wav в папке\n",
    "for file in os.listdir(folder_path):\n",
    "    if file.endswith('.wav'):\n",
    "        audio_file_path = os.path.join(folder_path, file)\n",
    "        if os.path.exists(audio_file_path):\n",
    "            \n",
    "            # Создаем уникальный ID из имени файла\n",
    "            file_id = os.path.splitext(file)[0]\n",
    "\n",
    "            # Получаем длительность аудио файла\n",
    "            duration = get_audio_duration(audio_file_path)\n",
    "\n",
    "            # Создаем объект данных для добавления в manifest.jsonl\n",
    "            data = {\n",
    "                \"audio_filepath\": f\"files/{file_id}.wav\",\n",
    "                \"duration\": duration,\n",
    "                \"label\": \"noise\",\n",
    "                \"text\": \"_\",\n",
    "                \"offset\": 0.0,\n",
    "            }\n",
    "            manifest_data.append(data)\n",
    "\n",
    "# Записываем данные в manifest.jsonl\n",
    "with open(output_file, 'w', encoding='utf-8') as manifest_file:\n",
    "    for data in manifest_data:\n",
    "        json.dump(data, manifest_file, ensure_ascii=False)\n",
    "        manifest_file.write('\\n')"
   ]
  },
  {
   "cell_type": "code",
   "execution_count": 5,
   "metadata": {},
   "outputs": [
    {
     "name": "stdout",
     "output_type": "stream",
     "text": [
      "843\n"
     ]
    }
   ],
   "source": [
    "# проверка созданного манифеста\n",
    "# путь к manifest.jsonl\n",
    "manifest_path = output_file\n",
    "\n",
    "#manifest_path = r\"C:\\Users\\vdovichev\\Documents\\DatasetForFineTune\\PointSourceNoises\\manifestNoises.jsonl\"\n",
    "\n",
    "with open(manifest_path, 'r', encoding='utf-8') as f:\n",
    "    manifest_data = [json.loads(line) for line in f]\n",
    "print(len(manifest_data))"
   ]
  }
 ],
 "metadata": {
  "kernelspec": {
   "display_name": "nemo",
   "language": "python",
   "name": "python3"
  },
  "language_info": {
   "codemirror_mode": {
    "name": "ipython",
    "version": 3
   },
   "file_extension": ".py",
   "mimetype": "text/x-python",
   "name": "python",
   "nbconvert_exporter": "python",
   "pygments_lexer": "ipython3",
   "version": "3.10.12"
  }
 },
 "nbformat": 4,
 "nbformat_minor": 2
}
