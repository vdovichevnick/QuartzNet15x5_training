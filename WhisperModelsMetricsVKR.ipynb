{
  "cells": [
    {
      "cell_type": "markdown",
      "metadata": {
        "id": "YAYWwIS7C0pV"
      },
      "source": [
        "# **Содержание**\n",
        "Датасет разбивается по 25 примеров за итерацию для контроля выполнения\n",
        "- [1 - Тестирование Whisper-Large](#1-1)\n",
        "- [2 - Тестирование Whisper-Medium](#1-2)\n",
        "- [3 - Тестирование Whisper-Small](#1-3)\n",
        "- [4 - Тестирование Whisper-Base](#1-4)\n",
        "- [5 - Тестирование Whisper-Tiny](#1-5)"
      ]
    },
    {
      "cell_type": "markdown",
      "metadata": {
        "id": "iJ_pUrRTVV4J"
      },
      "source": [
        "<a name='1-1'></a>\n",
        "## Тестирование Whisper-Large\n",
        "Размер 6.17GB\n",
        "\n",
        "300 примеров:\n",
        "\n",
        "16617.71 секунд (277 минут)\n",
        "\n",
        "55.4 секунды на 1 пример\n",
        "\n",
        "WER 2.106"
      ]
    },
    {
      "cell_type": "code",
      "execution_count": null,
      "metadata": {
        "colab": {
          "base_uri": "https://localhost:8080/"
        },
        "id": "OUqypulpT35G",
        "outputId": "141bd0e1-57d7-4c45-b5f9-8b6034072b0a"
      },
      "outputs": [
        {
          "name": "stdout",
          "output_type": "stream",
          "text": [
            "Requirement already satisfied: datasets in /usr/local/lib/python3.10/dist-packages (2.16.1)\n",
            "Requirement already satisfied: filelock in /usr/local/lib/python3.10/dist-packages (from datasets) (3.13.1)\n",
            "Requirement already satisfied: numpy>=1.17 in /usr/local/lib/python3.10/dist-packages (from datasets) (1.23.5)\n",
            "Requirement already satisfied: pyarrow>=8.0.0 in /usr/local/lib/python3.10/dist-packages (from datasets) (10.0.1)\n",
            "Requirement already satisfied: pyarrow-hotfix in /usr/local/lib/python3.10/dist-packages (from datasets) (0.6)\n",
            "Requirement already satisfied: dill<0.3.8,>=0.3.0 in /usr/local/lib/python3.10/dist-packages (from datasets) (0.3.7)\n",
            "Requirement already satisfied: pandas in /usr/local/lib/python3.10/dist-packages (from datasets) (1.5.3)\n",
            "Requirement already satisfied: requests>=2.19.0 in /usr/local/lib/python3.10/dist-packages (from datasets) (2.31.0)\n",
            "Requirement already satisfied: tqdm>=4.62.1 in /usr/local/lib/python3.10/dist-packages (from datasets) (4.66.1)\n",
            "Requirement already satisfied: xxhash in /usr/local/lib/python3.10/dist-packages (from datasets) (3.4.1)\n",
            "Requirement already satisfied: multiprocess in /usr/local/lib/python3.10/dist-packages (from datasets) (0.70.15)\n",
            "Requirement already satisfied: fsspec[http]<=2023.10.0,>=2023.1.0 in /usr/local/lib/python3.10/dist-packages (from datasets) (2023.6.0)\n",
            "Requirement already satisfied: aiohttp in /usr/local/lib/python3.10/dist-packages (from datasets) (3.9.1)\n",
            "Requirement already satisfied: huggingface-hub>=0.19.4 in /usr/local/lib/python3.10/dist-packages (from datasets) (0.20.3)\n",
            "Requirement already satisfied: packaging in /usr/local/lib/python3.10/dist-packages (from datasets) (23.2)\n",
            "Requirement already satisfied: pyyaml>=5.1 in /usr/local/lib/python3.10/dist-packages (from datasets) (6.0.1)\n",
            "Requirement already satisfied: attrs>=17.3.0 in /usr/local/lib/python3.10/dist-packages (from aiohttp->datasets) (23.2.0)\n",
            "Requirement already satisfied: multidict<7.0,>=4.5 in /usr/local/lib/python3.10/dist-packages (from aiohttp->datasets) (6.0.4)\n",
            "Requirement already satisfied: yarl<2.0,>=1.0 in /usr/local/lib/python3.10/dist-packages (from aiohttp->datasets) (1.9.4)\n",
            "Requirement already satisfied: frozenlist>=1.1.1 in /usr/local/lib/python3.10/dist-packages (from aiohttp->datasets) (1.4.1)\n",
            "Requirement already satisfied: aiosignal>=1.1.2 in /usr/local/lib/python3.10/dist-packages (from aiohttp->datasets) (1.3.1)\n",
            "Requirement already satisfied: async-timeout<5.0,>=4.0 in /usr/local/lib/python3.10/dist-packages (from aiohttp->datasets) (4.0.3)\n",
            "Requirement already satisfied: typing-extensions>=3.7.4.3 in /usr/local/lib/python3.10/dist-packages (from huggingface-hub>=0.19.4->datasets) (4.5.0)\n",
            "Requirement already satisfied: charset-normalizer<4,>=2 in /usr/local/lib/python3.10/dist-packages (from requests>=2.19.0->datasets) (3.3.2)\n",
            "Requirement already satisfied: idna<4,>=2.5 in /usr/local/lib/python3.10/dist-packages (from requests>=2.19.0->datasets) (3.6)\n",
            "Requirement already satisfied: urllib3<3,>=1.21.1 in /usr/local/lib/python3.10/dist-packages (from requests>=2.19.0->datasets) (2.0.7)\n",
            "Requirement already satisfied: certifi>=2017.4.17 in /usr/local/lib/python3.10/dist-packages (from requests>=2.19.0->datasets) (2023.11.17)\n",
            "Requirement already satisfied: python-dateutil>=2.8.1 in /usr/local/lib/python3.10/dist-packages (from pandas->datasets) (2.8.2)\n",
            "Requirement already satisfied: pytz>=2020.1 in /usr/local/lib/python3.10/dist-packages (from pandas->datasets) (2023.3.post1)\n",
            "Requirement already satisfied: six>=1.5 in /usr/local/lib/python3.10/dist-packages (from python-dateutil>=2.8.1->pandas->datasets) (1.16.0)\n"
          ]
        }
      ],
      "source": [
        "!pip install datasets"
      ]
    },
    {
      "cell_type": "code",
      "execution_count": null,
      "metadata": {
        "colab": {
          "base_uri": "https://localhost:8080/"
        },
        "id": "F2x35Ax8T35O",
        "outputId": "28920164-2f7a-4571-f175-76fb27b5fa8a"
      },
      "outputs": [
        {
          "name": "stdout",
          "output_type": "stream",
          "text": [
            "Requirement already satisfied: jiwer in /usr/local/lib/python3.10/dist-packages (3.0.3)\n",
            "Requirement already satisfied: click<9.0.0,>=8.1.3 in /usr/local/lib/python3.10/dist-packages (from jiwer) (8.1.7)\n",
            "Requirement already satisfied: rapidfuzz<4,>=3 in /usr/local/lib/python3.10/dist-packages (from jiwer) (3.6.1)\n"
          ]
        }
      ],
      "source": [
        "!pip install jiwer"
      ]
    },
    {
      "cell_type": "code",
      "execution_count": null,
      "metadata": {
        "colab": {
          "base_uri": "https://localhost:8080/"
        },
        "id": "S63uqUWRT35P",
        "outputId": "0b0bc26a-6247-4456-d499-a5df7fe53958"
      },
      "outputs": [
        {
          "name": "stderr",
          "output_type": "stream",
          "text": [
            "/usr/local/lib/python3.10/dist-packages/huggingface_hub/utils/_token.py:88: UserWarning: \n",
            "The secret `HF_TOKEN` does not exist in your Colab secrets.\n",
            "To authenticate with the Hugging Face Hub, create a token in your settings tab (https://huggingface.co/settings/tokens), set it as secret in your Google Colab and restart your session.\n",
            "You will be able to reuse this secret in all of your notebooks.\n",
            "Please note that authentication is recommended but still optional to access public models or datasets.\n",
            "  warnings.warn(\n"
          ]
        },
        {
          "name": "stdout",
          "output_type": "stream",
          "text": [
            "Device: cpu\n"
          ]
        }
      ],
      "source": [
        "from transformers import WhisperProcessor, WhisperForConditionalGeneration\n",
        "import time\n",
        "import torch\n",
        "device = torch.device(\"cuda\" if torch.cuda.is_available() else \"cpu\")\n",
        "\n",
        "# Загрузите модель и процессор\n",
        "processor = WhisperProcessor.from_pretrained(\"openai/whisper-large\")\n",
        "model = WhisperForConditionalGeneration.from_pretrained(\"openai/whisper-large\")\n",
        "model.config.forced_decoder_ids = None\n",
        "\n",
        "# Перенесите модель на GPU, если CUDA доступен\n",
        "model.to(device)\n",
        "\n",
        "print(\"Device:\", device)\n",
        "\n",
        "# Дополнительная информация о GPU, если доступно\n",
        "if device.type == 'cuda':\n",
        "    print(\"GPU Name:\", torch.cuda.get_device_name(0))\n",
        "    print(\"CUDA Version:\", torch.version.cuda)\n"
      ]
    },
    {
      "cell_type": "code",
      "execution_count": null,
      "metadata": {
        "colab": {
          "base_uri": "https://localhost:8080/"
        },
        "id": "FD_FyRI37ofP",
        "outputId": "ed2f0c8c-9972-4b57-a898-7bc0e110dc8c"
      },
      "outputs": [
        {
          "name": "stdout",
          "output_type": "stream",
          "text": [
            "Collecting datasets\n",
            "  Downloading datasets-2.17.0-py3-none-any.whl (536 kB)\n",
            "\u001b[?25l     \u001b[90m━━━━━━━━━━━━━━━━━━━━━━━━━━━━━━━━━━━━━━━━\u001b[0m \u001b[32m0.0/536.6 kB\u001b[0m \u001b[31m?\u001b[0m eta \u001b[36m-:--:--\u001b[0m\r\u001b[2K     \u001b[91m━━━━━━━━━━━━━━━\u001b[0m\u001b[90m╺\u001b[0m\u001b[90m━━━━━━━━━━━━━━━━━━━━━━━━\u001b[0m \u001b[32m204.8/536.6 kB\u001b[0m \u001b[31m6.0 MB/s\u001b[0m eta \u001b[36m0:00:01\u001b[0m\r\u001b[2K     \u001b[90m━━━━━━━━━━━━━━━━━━━━━━━━━━━━━━━━━━━━━━━━\u001b[0m \u001b[32m536.6/536.6 kB\u001b[0m \u001b[31m8.1 MB/s\u001b[0m eta \u001b[36m0:00:00\u001b[0m\n",
            "\u001b[?25hRequirement already satisfied: filelock in /usr/local/lib/python3.10/dist-packages (from datasets) (3.13.1)\n",
            "Requirement already satisfied: numpy>=1.17 in /usr/local/lib/python3.10/dist-packages (from datasets) (1.25.2)\n",
            "Collecting pyarrow>=12.0.0 (from datasets)\n",
            "  Downloading pyarrow-15.0.0-cp310-cp310-manylinux_2_28_x86_64.whl (38.3 MB)\n",
            "\u001b[2K     \u001b[90m━━━━━━━━━━━━━━━━━━━━━━━━━━━━━━━━━━━━━━━━\u001b[0m \u001b[32m38.3/38.3 MB\u001b[0m \u001b[31m24.5 MB/s\u001b[0m eta \u001b[36m0:00:00\u001b[0m\n",
            "\u001b[?25hRequirement already satisfied: pyarrow-hotfix in /usr/local/lib/python3.10/dist-packages (from datasets) (0.6)\n",
            "Collecting dill<0.3.9,>=0.3.0 (from datasets)\n",
            "  Downloading dill-0.3.8-py3-none-any.whl (116 kB)\n",
            "\u001b[2K     \u001b[90m━━━━━━━━━━━━━━━━━━━━━━━━━━━━━━━━━━━━━━━━\u001b[0m \u001b[32m116.3/116.3 kB\u001b[0m \u001b[31m12.6 MB/s\u001b[0m eta \u001b[36m0:00:00\u001b[0m\n",
            "\u001b[?25hRequirement already satisfied: pandas in /usr/local/lib/python3.10/dist-packages (from datasets) (1.5.3)\n",
            "Requirement already satisfied: requests>=2.19.0 in /usr/local/lib/python3.10/dist-packages (from datasets) (2.31.0)\n",
            "Requirement already satisfied: tqdm>=4.62.1 in /usr/local/lib/python3.10/dist-packages (from datasets) (4.66.1)\n",
            "Requirement already satisfied: xxhash in /usr/local/lib/python3.10/dist-packages (from datasets) (3.4.1)\n",
            "Collecting multiprocess (from datasets)\n",
            "  Downloading multiprocess-0.70.16-py310-none-any.whl (134 kB)\n",
            "\u001b[2K     \u001b[90m━━━━━━━━━━━━━━━━━━━━━━━━━━━━━━━━━━━━━━━━\u001b[0m \u001b[32m134.8/134.8 kB\u001b[0m \u001b[31m15.8 MB/s\u001b[0m eta \u001b[36m0:00:00\u001b[0m\n",
            "\u001b[?25hRequirement already satisfied: fsspec[http]<=2023.10.0,>=2023.1.0 in /usr/local/lib/python3.10/dist-packages (from datasets) (2023.6.0)\n",
            "Requirement already satisfied: aiohttp in /usr/local/lib/python3.10/dist-packages (from datasets) (3.9.3)\n",
            "Requirement already satisfied: huggingface-hub>=0.19.4 in /usr/local/lib/python3.10/dist-packages (from datasets) (0.20.3)\n",
            "Requirement already satisfied: packaging in /usr/local/lib/python3.10/dist-packages (from datasets) (23.2)\n",
            "Requirement already satisfied: pyyaml>=5.1 in /usr/local/lib/python3.10/dist-packages (from datasets) (6.0.1)\n",
            "Requirement already satisfied: aiosignal>=1.1.2 in /usr/local/lib/python3.10/dist-packages (from aiohttp->datasets) (1.3.1)\n",
            "Requirement already satisfied: attrs>=17.3.0 in /usr/local/lib/python3.10/dist-packages (from aiohttp->datasets) (23.2.0)\n",
            "Requirement already satisfied: frozenlist>=1.1.1 in /usr/local/lib/python3.10/dist-packages (from aiohttp->datasets) (1.4.1)\n",
            "Requirement already satisfied: multidict<7.0,>=4.5 in /usr/local/lib/python3.10/dist-packages (from aiohttp->datasets) (6.0.5)\n",
            "Requirement already satisfied: yarl<2.0,>=1.0 in /usr/local/lib/python3.10/dist-packages (from aiohttp->datasets) (1.9.4)\n",
            "Requirement already satisfied: async-timeout<5.0,>=4.0 in /usr/local/lib/python3.10/dist-packages (from aiohttp->datasets) (4.0.3)\n",
            "Requirement already satisfied: typing-extensions>=3.7.4.3 in /usr/local/lib/python3.10/dist-packages (from huggingface-hub>=0.19.4->datasets) (4.9.0)\n",
            "Requirement already satisfied: charset-normalizer<4,>=2 in /usr/local/lib/python3.10/dist-packages (from requests>=2.19.0->datasets) (3.3.2)\n",
            "Requirement already satisfied: idna<4,>=2.5 in /usr/local/lib/python3.10/dist-packages (from requests>=2.19.0->datasets) (3.6)\n",
            "Requirement already satisfied: urllib3<3,>=1.21.1 in /usr/local/lib/python3.10/dist-packages (from requests>=2.19.0->datasets) (2.0.7)\n",
            "Requirement already satisfied: certifi>=2017.4.17 in /usr/local/lib/python3.10/dist-packages (from requests>=2.19.0->datasets) (2024.2.2)\n",
            "Requirement already satisfied: python-dateutil>=2.8.1 in /usr/local/lib/python3.10/dist-packages (from pandas->datasets) (2.8.2)\n",
            "Requirement already satisfied: pytz>=2020.1 in /usr/local/lib/python3.10/dist-packages (from pandas->datasets) (2023.4)\n",
            "Requirement already satisfied: six>=1.5 in /usr/local/lib/python3.10/dist-packages (from python-dateutil>=2.8.1->pandas->datasets) (1.16.0)\n",
            "Installing collected packages: pyarrow, dill, multiprocess, datasets\n",
            "  Attempting uninstall: pyarrow\n",
            "    Found existing installation: pyarrow 10.0.1\n",
            "    Uninstalling pyarrow-10.0.1:\n",
            "      Successfully uninstalled pyarrow-10.0.1\n",
            "\u001b[31mERROR: pip's dependency resolver does not currently take into account all the packages that are installed. This behaviour is the source of the following dependency conflicts.\n",
            "ibis-framework 7.1.0 requires pyarrow<15,>=2, but you have pyarrow 15.0.0 which is incompatible.\u001b[0m\u001b[31m\n",
            "\u001b[0mSuccessfully installed datasets-2.17.0 dill-0.3.8 multiprocess-0.70.16 pyarrow-15.0.0\n"
          ]
        }
      ],
      "source": [
        "!pip install datasets"
      ]
    },
    {
      "cell_type": "code",
      "execution_count": null,
      "metadata": {
        "colab": {
          "base_uri": "https://localhost:8080/",
          "height": 271,
          "referenced_widgets": [
            "1415cf8baf324a35b3e054c5fa215de0",
            "b179b10a50954d35b818134eadb764fb",
            "e7b80bf498584ab68c5d8aeab55a4f9a",
            "c44ed04af467405398304a5f8b2946c8",
            "fe1175be3d114ac28a56c703fbdc8df9",
            "add35c121cf748b0ba38f8362d9525bd",
            "cafd5aadc967433984dff3993bbc2ee8",
            "cc51b37195094299b6d556c3f39d1191",
            "37df4bdd2ece4f5ab96be0301e9f493c",
            "97c596c7f97b4eee80962d22e3b6206b",
            "2d72812902a743b5aa5a88dbdd420d86",
            "6f044524aee74edcb65cd51032f227c7",
            "aafa2adfd00142aebda67b16b3b9d23c",
            "5544801ae87648fbb3d619ce58ca66fc",
            "561958eea2c542508ebcbdbeb36623bc",
            "9b969a562ea740ac9a5b3f6a508b2e4f",
            "639a21aed0004f979085aa066a496af2",
            "28ab7a5c5d674200ab93ab6a7460bfac",
            "0172e78d88a84c6cad3592218de8292d",
            "28508ab0f08940519732d38df7c84c21",
            "aa4cbf9762e549988b640d9bd7ef0643",
            "c3f04355f962411499d9cbbb3b31949d"
          ]
        },
        "id": "2O030VUhT35P",
        "outputId": "f7444696-3385-46d1-d00f-27690fb7519e"
      },
      "outputs": [
        {
          "name": "stderr",
          "output_type": "stream",
          "text": [
            "/usr/local/lib/python3.10/dist-packages/huggingface_hub/utils/_token.py:88: UserWarning: \n",
            "The secret `HF_TOKEN` does not exist in your Colab secrets.\n",
            "To authenticate with the Hugging Face Hub, create a token in your settings tab (https://huggingface.co/settings/tokens), set it as secret in your Google Colab and restart your session.\n",
            "You will be able to reuse this secret in all of your notebooks.\n",
            "Please note that authentication is recommended but still optional to access public models or datasets.\n",
            "  warnings.warn(\n",
            "/usr/local/lib/python3.10/dist-packages/datasets/load.py:1454: FutureWarning: The repository for librispeech_asr contains custom code which must be executed to correctly load the dataset. You can inspect the repository content at https://hf.co/datasets/librispeech_asr\n",
            "You can avoid this message in future by passing the argument `trust_remote_code=True`.\n",
            "Passing `trust_remote_code=True` will be mandatory to load this dataset from the next major release of `datasets`.\n",
            "  warnings.warn(\n"
          ]
        },
        {
          "data": {
            "application/vnd.jupyter.widget-view+json": {
              "model_id": "1415cf8baf324a35b3e054c5fa215de0",
              "version_major": 2,
              "version_minor": 0
            },
            "text/plain": [
              "Downloading builder script:   0%|          | 0.00/11.5k [00:00<?, ?B/s]"
            ]
          },
          "metadata": {},
          "output_type": "display_data"
        },
        {
          "data": {
            "application/vnd.jupyter.widget-view+json": {
              "model_id": "6f044524aee74edcb65cd51032f227c7",
              "version_major": 2,
              "version_minor": 0
            },
            "text/plain": [
              "Downloading readme:   0%|          | 0.00/10.2k [00:00<?, ?B/s]"
            ]
          },
          "metadata": {},
          "output_type": "display_data"
        }
      ],
      "source": [
        "from datasets import load_dataset\n",
        "\n",
        "dset = load_dataset(\"librispeech_asr\", 'clean', split=\"test\", streaming=True)"
      ]
    },
    {
      "cell_type": "code",
      "execution_count": null,
      "metadata": {
        "id": "UjuX7K6iT35Q"
      },
      "outputs": [],
      "source": [
        "dset_iter = iter(dset)  # создаем итератор"
      ]
    },
    {
      "cell_type": "code",
      "execution_count": null,
      "metadata": {
        "id": "cKT9p31M8Uxv"
      },
      "outputs": [],
      "source": [
        "first_element = next(dset_iter)"
      ]
    },
    {
      "cell_type": "code",
      "execution_count": null,
      "metadata": {
        "colab": {
          "base_uri": "https://localhost:8080/"
        },
        "id": "fByyxjbg872x",
        "outputId": "d002577f-fc7b-4733-8937-4509a5cb2486"
      },
      "outputs": [
        {
          "name": "stdout",
          "output_type": "stream",
          "text": [
            "{'file': '6930-75918-0000.flac', 'audio': {'path': '6930-75918-0000.flac', 'array': array([-6.10351562e-05,  9.15527344e-05,  1.06811523e-03, ...,\n",
            "       -2.19726562e-03, -1.13830566e-02, -8.81958008e-03]), 'sampling_rate': 16000}, 'text': 'CONCORD RETURNED TO ITS PLACE AMIDST THE TENTS', 'speaker_id': 6930, 'chapter_id': 75918, 'id': '6930-75918-0000'}\n"
          ]
        }
      ],
      "source": [
        "print(first_element)"
      ]
    },
    {
      "cell_type": "code",
      "execution_count": null,
      "metadata": {
        "colab": {
          "base_uri": "https://localhost:8080/"
        },
        "id": "uIQ9gj2O8YS-",
        "outputId": "13bd33e1-bd46-41f8-f057-a2c51212ee67"
      },
      "outputs": [
        {
          "name": "stdout",
          "output_type": "stream",
          "text": [
            "[-6.10351562e-05  9.15527344e-05  1.06811523e-03 ... -2.19726562e-03\n",
            " -1.13830566e-02 -8.81958008e-03]\n"
          ]
        }
      ],
      "source": [
        "print(first_element[\"audio\"][\"array\"])\n"
      ]
    },
    {
      "cell_type": "code",
      "execution_count": null,
      "metadata": {
        "colab": {
          "base_uri": "https://localhost:8080/"
        },
        "id": "s7S98TGt8uhr",
        "outputId": "e4638bd2-108d-4266-97e6-8a093b957184"
      },
      "outputs": [
        {
          "name": "stdout",
          "output_type": "stream",
          "text": [
            "56080\n"
          ]
        }
      ],
      "source": [
        "print(len(first_element[\"audio\"][\"array\"]))"
      ]
    },
    {
      "cell_type": "code",
      "execution_count": null,
      "metadata": {
        "id": "-X8gJqgZT35Q"
      },
      "outputs": [],
      "source": [
        "#для пропуска первых n элементов датасета\n",
        "n = 250\n",
        "for _ in range(n):\n",
        "  next(dset_iter)\n",
        "  #first_element = next(dset_iter)\n",
        "  #print(first_element)\n"
      ]
    },
    {
      "cell_type": "code",
      "execution_count": null,
      "metadata": {
        "id": "zqjiDwuNT35R"
      },
      "outputs": [],
      "source": [
        "predictions = []\n",
        "references = []\n",
        "total_time = 0"
      ]
    },
    {
      "cell_type": "code",
      "execution_count": null,
      "metadata": {
        "colab": {
          "base_uri": "https://localhost:8080/"
        },
        "id": "31T_RPR0T35R",
        "outputId": "a2f527cb-3359-4ba8-9cb6-2b662e38a6ac"
      },
      "outputs": [
        {
          "name": "stdout",
          "output_type": "stream",
          "text": [
            "the leaders of the conspiracy became distrustful of their power to crush the town\n",
            "the leaders of the conspiracy became distrustful of their power to crush the town\n",
            "one of his militia generals suggested that the governor should require the outlaws at lawrence and elsewhere to surrender the sharps rifles another wrote asking him to call out the government troops at fort leavenworth\n",
            "one of his militia generals suggested that the governor should require the outlaws at lawrence and elsewhere to surrender the sharps rifles another wrote asking him to call out the government troops at fort leavenworth\n",
            "the governor on his part becoming doubtful of the legality of employing missouri militia to enforce kansas laws was also eager to secure the help of federal troops\n",
            "the governor on his part becoming doubtful of the legality of employing missouri militia to enforce kansas laws was also eager to secure the help of federal troops\n",
            "sheriff jones had his pockets always full of writs issued in the spirit of persecution but was often baffled by the sharp wits and ready resources of the free state people and sometimes defied outright\n",
            "sheriff jones had his pockets always full of writs issued in the spirit of persecution but was often baffled by the sharp wits and ready resources of the free state people and sometimes defied outright\n",
            "little by little however the latter became hemmed and bound in the meshes of the various devices and proceedings which the territorial officials evolved from the bogus laws\n",
            "little by little however the latter became hemmed and bound in the meshes of the various devices and proceedings which the territorial officials evolved from the bogus laws\n",
            "to embarrass this damaging exposure judge lecompte issued a writ against the ex governor on a frivolous charge of contempt\n",
            "to embarrass this damaging exposure judge lecompte issued a writ against the ex governor on a frivolous charge of contempt\n",
            "the incident was not violent nor even dramatic no posse was summoned no further effort made and reeder fearing personal violence soon fled in disguise\n",
            "the incident was not violent nor even dramatic no posse was summoned no further effort made and reader fearing personal violence soon fled in disguise\n",
            "but the affair was magnified as a crowning proof that the free state men were insurrectionists and outlaws\n",
            "but the affair was magnified as a crowning proof that the free state men were insurrectionists and outlaws\n",
            "from these again sprang barricaded and fortified dwellings camps and scouting parties finally culminating in roving guerrilla bands half partisan half predatory\n",
            "from these again sprang barricaded and fortified dwellings camps and scout parties finally culminating in roving guerrilla bands half partisan half predatory\n",
            "their distinctive characters however display one broad and unfailing difference\n",
            "their distinctive characters however display one broad and unfailing difference\n",
            "the free state men clung to their prairie towns and prairie ravines with all the obstinacy and courage of true defenders of their homes and firesides\n",
            "the free state men clung to their prairie towns and prairie ravines with all the obstinacy and courage of true defenders of their homes and firesides\n",
            "their assumed character changed with their changing opportunities or necessities\n",
            "their assumed character changed with their changing opportunities or necessities\n",
            "in the shooting of sheriff jones in lawrence and in the refusal of ex governor beeder to allow the deputy marshal to arrest him they discovered grave offenses against the territorial and united states laws\n",
            "in the shooting of sheriff jones in lawrence and in the refusal of ex governor reeder to allow the deputy marshal to arrest him they discovered grave offenses against the territorial and the united states laws\n",
            "footnote sumner to shannon may 12th 1856\n",
            "footnote sumner to shannon may 12 1856\n",
            "private persons who had leased the free state hotel vainly besought the various authorities to prevent the destruction of their property\n",
            "private persons who had leased the free state hotel vainly besought the various authorities to present the destruction of their property\n",
            "10 days were consumed in these negotiations but the spirit of vengeance refused to yield\n",
            "10 days were consumed in these negotiations but the spirit of vengeance refused to yield\n",
            "he summoned half a dozen citizens to join his posse who followed obeyed and assisted him\n",
            "he summoned half a dozen citizens to join his posse who followed obeyed and assisted him\n",
            "he continued his pretended search and to give color to his errand made 2 arrests\n",
            "he continued his pretended search and to give color to his errand made 2 arrests\n",
            "the free state hotel a stone building in dimensions 50 by 70 feet 3 stories high and handsomely furnished previously occupied only for lodging rooms on that day for the 1st time opened its table accommodations to the public and provided a free dinner in honor of the occasion\n",
            "the free state hotel a stone building in dimensions 50 by 70 feet 3 stories high and handsomely furnished previously occupied only for lodging rooms on that day for the 1st time opened its table accommodations to the public and provided a free dinner in honor of the occasion\n",
            "as he had promised to protect the hotel the reassured citizens began to laugh at their own fears\n",
            "as he had promised to protect the hotel the reassured citizens began to laugh at their own fears\n",
            "to their sorrow they were soon undeceived\n",
            "to their sorrow they were soon undeceived\n",
            "the military force partly rabble partly organized had meanwhile moved into the town\n",
            "the military force partly rabble partly organized had meanwhile moved into the town\n",
            "he planted a company before the hotel and demanded a surrender of the arms belonging to the free state military companies\n",
            "he planted a company before the hotel and demanded a surrender of the arms belonging to the free state military companies\n",
            "half an hour later turning a deaf ear to all remonstrance he gave the proprietors until 50 clock to remove their families and personal property from the free state hotel\n",
            "half an hour later turning a deaf ear to all remonstrance he gave the proprietors until 50 clock to remove their families and personal property from the free state hotel\n",
            "atchison who had been haranguing the mob planted his 2 guns before the building and trained them upon it\n",
            "atchison who had been haranguing the mob planted his 2 guns before the building and trained them upon it\n"
          ]
        }
      ],
      "source": [
        "num_of_audio = 25\n",
        "for i in range(num_of_audio):\n",
        "  current_element = next(dset_iter)\n",
        "  audio = current_element[\"audio\"]\n",
        "  input_features = processor(audio[\"array\"], sampling_rate=audio[\"sampling_rate\"], return_tensors=\"pt\").input_features\n",
        "  reference = processor.tokenizer._normalize(current_element['text'])\n",
        "  references.append(reference)\n",
        "  print(reference)\n",
        "\n",
        "  start_time = time.time()\n",
        "  predicted_ids = model.generate(input_features)\n",
        "  transcription = processor.batch_decode(predicted_ids, skip_special_tokens=True)\n",
        "  end_time = time.time()\n",
        "\n",
        "  prediction = processor.tokenizer._normalize(transcription[0])\n",
        "  predictions.append(prediction)\n",
        "  print(prediction)\n",
        "\n",
        "  file_time = end_time - start_time\n",
        "  total_time += file_time"
      ]
    },
    {
      "cell_type": "code",
      "execution_count": null,
      "metadata": {
        "colab": {
          "base_uri": "https://localhost:8080/"
        },
        "id": "xlQpmxiGT35S",
        "outputId": "b5565b9b-9499-4a3a-bb1c-30caea65bfc3"
      },
      "outputs": [
        {
          "name": "stdout",
          "output_type": "stream",
          "text": [
            "50\n",
            "50\n"
          ]
        }
      ],
      "source": [
        "print(len(references))\n",
        "print(len(predictions))"
      ]
    },
    {
      "cell_type": "code",
      "execution_count": null,
      "metadata": {
        "colab": {
          "base_uri": "https://localhost:8080/"
        },
        "id": "VVP0XJyGT35S",
        "outputId": "fb4682d1-3c0b-4615-edfb-1c85a06c9e9d"
      },
      "outputs": [
        {
          "name": "stdout",
          "output_type": "stream",
          "text": [
            "Result wer: 1.4571948998178506\n",
            "Accuracy: 0.98543\n"
          ]
        }
      ],
      "source": [
        "from jiwer import wer\n",
        "wer_result = wer(references, predictions)\n",
        "print(f\"Result wer: {wer_result * 100}\")\n",
        "accuracy = 1 - wer_result\n",
        "print(\"Accuracy: %.5f\" % accuracy)"
      ]
    },
    {
      "cell_type": "code",
      "execution_count": null,
      "metadata": {
        "colab": {
          "base_uri": "https://localhost:8080/"
        },
        "id": "PwOy_F-rT35S",
        "outputId": "b89a85c4-8e55-4236-fa6e-dbee3daa607c"
      },
      "outputs": [
        {
          "name": "stdout",
          "output_type": "stream",
          "text": [
            "Общее время: 3116.22 секунд\n",
            "Среднее время на одно аудио: 124.65 секунд\n"
          ]
        }
      ],
      "source": [
        "print(f\"Общее время: {total_time:.2f} секунд\")\n",
        "print(f\"Среднее время на одно аудио: {total_time/num_of_audio:.2f} секунд\")"
      ]
    },
    {
      "cell_type": "code",
      "execution_count": null,
      "metadata": {
        "colab": {
          "base_uri": "https://localhost:8080/"
        },
        "id": "VhQUc1YFTvN2",
        "outputId": "b5565b9b-9499-4a3a-bb1c-30caea65bfc3"
      },
      "outputs": [
        {
          "name": "stdout",
          "output_type": "stream",
          "text": [
            "50\n",
            "50\n"
          ]
        }
      ],
      "source": [
        "print(len(references))\n",
        "print(len(predictions))"
      ]
    },
    {
      "cell_type": "code",
      "execution_count": null,
      "metadata": {
        "colab": {
          "base_uri": "https://localhost:8080/"
        },
        "id": "0NbgY0lnTvN_",
        "outputId": "fb4682d1-3c0b-4615-edfb-1c85a06c9e9d"
      },
      "outputs": [
        {
          "name": "stdout",
          "output_type": "stream",
          "text": [
            "Result wer: 1.4571948998178506\n",
            "Accuracy: 0.98543\n"
          ]
        }
      ],
      "source": [
        "from jiwer import wer\n",
        "wer_result = wer(references, predictions)\n",
        "print(f\"Result wer: {wer_result * 100}\")\n",
        "accuracy = 1 - wer_result\n",
        "print(\"Accuracy: %.5f\" % accuracy)"
      ]
    },
    {
      "cell_type": "code",
      "execution_count": null,
      "metadata": {
        "colab": {
          "base_uri": "https://localhost:8080/"
        },
        "id": "u_8cSm3yTvN_",
        "outputId": "b89a85c4-8e55-4236-fa6e-dbee3daa607c"
      },
      "outputs": [
        {
          "name": "stdout",
          "output_type": "stream",
          "text": [
            "Общее время: 3116.22 секунд\n",
            "Среднее время на одно аудио: 124.65 секунд\n"
          ]
        }
      ],
      "source": [
        "print(f\"Общее время: {total_time:.2f} секунд\")\n",
        "print(f\"Среднее время на одно аудио: {total_time/num_of_audio:.2f} секунд\")"
      ]
    },
    {
      "cell_type": "markdown",
      "metadata": {
        "id": "npSJ8x79GtzK"
      },
      "source": [
        "<a name='1-2'></a>\n",
        "## Тестирование Whisper-Medium\n",
        "Размер 3.06 GB\n",
        "\n",
        "300 примеров:\n",
        "\n",
        "6600.15 секунд (110 минут)\n",
        "\n",
        "22 секунды на 1 пример\n",
        "\n",
        "WER 2.459"
      ]
    },
    {
      "cell_type": "code",
      "execution_count": null,
      "metadata": {
        "colab": {
          "base_uri": "https://localhost:8080/"
        },
        "id": "cOUubbL56B__",
        "outputId": "339f1934-1488-4d7a-f842-656c3e359587"
      },
      "outputs": [
        {
          "name": "stdout",
          "output_type": "stream",
          "text": [
            "Collecting datasets\n",
            "  Downloading datasets-2.16.1-py3-none-any.whl (507 kB)\n",
            "\u001b[2K     \u001b[90m━━━━━━━━━━━━━━━━━━━━━━━━━━━━━━━━━━━━━━━━\u001b[0m \u001b[32m507.1/507.1 kB\u001b[0m \u001b[31m10.8 MB/s\u001b[0m eta \u001b[36m0:00:00\u001b[0m\n",
            "\u001b[?25hRequirement already satisfied: filelock in /usr/local/lib/python3.10/dist-packages (from datasets) (3.13.1)\n",
            "Requirement already satisfied: numpy>=1.17 in /usr/local/lib/python3.10/dist-packages (from datasets) (1.23.5)\n",
            "Requirement already satisfied: pyarrow>=8.0.0 in /usr/local/lib/python3.10/dist-packages (from datasets) (10.0.1)\n",
            "Requirement already satisfied: pyarrow-hotfix in /usr/local/lib/python3.10/dist-packages (from datasets) (0.6)\n",
            "Collecting dill<0.3.8,>=0.3.0 (from datasets)\n",
            "  Downloading dill-0.3.7-py3-none-any.whl (115 kB)\n",
            "\u001b[2K     \u001b[90m━━━━━━━━━━━━━━━━━━━━━━━━━━━━━━━━━━━━━━━━\u001b[0m \u001b[32m115.3/115.3 kB\u001b[0m \u001b[31m13.9 MB/s\u001b[0m eta \u001b[36m0:00:00\u001b[0m\n",
            "\u001b[?25hRequirement already satisfied: pandas in /usr/local/lib/python3.10/dist-packages (from datasets) (1.5.3)\n",
            "Requirement already satisfied: requests>=2.19.0 in /usr/local/lib/python3.10/dist-packages (from datasets) (2.31.0)\n",
            "Requirement already satisfied: tqdm>=4.62.1 in /usr/local/lib/python3.10/dist-packages (from datasets) (4.66.1)\n",
            "Requirement already satisfied: xxhash in /usr/local/lib/python3.10/dist-packages (from datasets) (3.4.1)\n",
            "Collecting multiprocess (from datasets)\n",
            "  Downloading multiprocess-0.70.15-py310-none-any.whl (134 kB)\n",
            "\u001b[2K     \u001b[90m━━━━━━━━━━━━━━━━━━━━━━━━━━━━━━━━━━━━━━━━\u001b[0m \u001b[32m134.8/134.8 kB\u001b[0m \u001b[31m17.6 MB/s\u001b[0m eta \u001b[36m0:00:00\u001b[0m\n",
            "\u001b[?25hRequirement already satisfied: fsspec[http]<=2023.10.0,>=2023.1.0 in /usr/local/lib/python3.10/dist-packages (from datasets) (2023.6.0)\n",
            "Requirement already satisfied: aiohttp in /usr/local/lib/python3.10/dist-packages (from datasets) (3.9.1)\n",
            "Requirement already satisfied: huggingface-hub>=0.19.4 in /usr/local/lib/python3.10/dist-packages (from datasets) (0.20.3)\n",
            "Requirement already satisfied: packaging in /usr/local/lib/python3.10/dist-packages (from datasets) (23.2)\n",
            "Requirement already satisfied: pyyaml>=5.1 in /usr/local/lib/python3.10/dist-packages (from datasets) (6.0.1)\n",
            "Requirement already satisfied: attrs>=17.3.0 in /usr/local/lib/python3.10/dist-packages (from aiohttp->datasets) (23.2.0)\n",
            "Requirement already satisfied: multidict<7.0,>=4.5 in /usr/local/lib/python3.10/dist-packages (from aiohttp->datasets) (6.0.4)\n",
            "Requirement already satisfied: yarl<2.0,>=1.0 in /usr/local/lib/python3.10/dist-packages (from aiohttp->datasets) (1.9.4)\n",
            "Requirement already satisfied: frozenlist>=1.1.1 in /usr/local/lib/python3.10/dist-packages (from aiohttp->datasets) (1.4.1)\n",
            "Requirement already satisfied: aiosignal>=1.1.2 in /usr/local/lib/python3.10/dist-packages (from aiohttp->datasets) (1.3.1)\n",
            "Requirement already satisfied: async-timeout<5.0,>=4.0 in /usr/local/lib/python3.10/dist-packages (from aiohttp->datasets) (4.0.3)\n",
            "Requirement already satisfied: typing-extensions>=3.7.4.3 in /usr/local/lib/python3.10/dist-packages (from huggingface-hub>=0.19.4->datasets) (4.5.0)\n",
            "Requirement already satisfied: charset-normalizer<4,>=2 in /usr/local/lib/python3.10/dist-packages (from requests>=2.19.0->datasets) (3.3.2)\n",
            "Requirement already satisfied: idna<4,>=2.5 in /usr/local/lib/python3.10/dist-packages (from requests>=2.19.0->datasets) (3.6)\n",
            "Requirement already satisfied: urllib3<3,>=1.21.1 in /usr/local/lib/python3.10/dist-packages (from requests>=2.19.0->datasets) (2.0.7)\n",
            "Requirement already satisfied: certifi>=2017.4.17 in /usr/local/lib/python3.10/dist-packages (from requests>=2.19.0->datasets) (2023.11.17)\n",
            "Requirement already satisfied: python-dateutil>=2.8.1 in /usr/local/lib/python3.10/dist-packages (from pandas->datasets) (2.8.2)\n",
            "Requirement already satisfied: pytz>=2020.1 in /usr/local/lib/python3.10/dist-packages (from pandas->datasets) (2023.3.post1)\n",
            "Requirement already satisfied: six>=1.5 in /usr/local/lib/python3.10/dist-packages (from python-dateutil>=2.8.1->pandas->datasets) (1.16.0)\n",
            "Installing collected packages: dill, multiprocess, datasets\n",
            "Successfully installed datasets-2.16.1 dill-0.3.7 multiprocess-0.70.15\n"
          ]
        }
      ],
      "source": [
        "!pip install datasets"
      ]
    },
    {
      "cell_type": "code",
      "execution_count": null,
      "metadata": {
        "colab": {
          "base_uri": "https://localhost:8080/"
        },
        "id": "kEuX872iHx0Q",
        "outputId": "d7b1f8ec-da74-42e1-80e4-b8b3a0092caf"
      },
      "outputs": [
        {
          "name": "stdout",
          "output_type": "stream",
          "text": [
            "Collecting jiwer\n",
            "  Downloading jiwer-3.0.3-py3-none-any.whl (21 kB)\n",
            "Requirement already satisfied: click<9.0.0,>=8.1.3 in /usr/local/lib/python3.10/dist-packages (from jiwer) (8.1.7)\n",
            "Collecting rapidfuzz<4,>=3 (from jiwer)\n",
            "  Downloading rapidfuzz-3.6.1-cp310-cp310-manylinux_2_17_x86_64.manylinux2014_x86_64.whl (3.4 MB)\n",
            "\u001b[2K     \u001b[90m━━━━━━━━━━━━━━━━━━━━━━━━━━━━━━━━━━━━━━━━\u001b[0m \u001b[32m3.4/3.4 MB\u001b[0m \u001b[31m9.7 MB/s\u001b[0m eta \u001b[36m0:00:00\u001b[0m\n",
            "\u001b[?25hInstalling collected packages: rapidfuzz, jiwer\n",
            "Successfully installed jiwer-3.0.3 rapidfuzz-3.6.1\n"
          ]
        }
      ],
      "source": [
        "!pip install jiwer"
      ]
    },
    {
      "cell_type": "code",
      "execution_count": null,
      "metadata": {
        "colab": {
          "base_uri": "https://localhost:8080/",
          "height": 508,
          "referenced_widgets": [
            "d3174c677c124eed905440e58b035f5d",
            "351302c93f7844558e5628d785ee1adf",
            "23d641ae2e5b422d87c815bf534c807d",
            "41ad881130114581887c257ed9f3543c",
            "2a2f00e0b8e948d2a897fd11ba305654",
            "73ef1ca526bb43c6b40b2f0a999719f0",
            "92182e5f9e9c47d098294aa14a5825db",
            "88327c4597214812b5d1ea2715398915",
            "cbff931885eb4d01bb9d5378cedf95aa",
            "d5bdf26146d242ba864e15c8e5f37ba5",
            "77ab1c37448a438288ad24e639d84e48",
            "d0f56cb860cd429d933cb9fd1bf46d74",
            "06a55940414b408780d90dff04d2481a",
            "264a1ffd4418465c852b8141bd7218f5",
            "23b0fbefc9034ac5b205104f132256e6",
            "06bb4c10a3e440f689c9b9a64f709d22",
            "51d48a699afd4c3ebe4cf1bfaa3ae906",
            "46d5b03029e7464c82cd30638efa891b",
            "a29726e8da1647889080ec9bff9e8cb3",
            "7c44e9d52f9b4c078992305eee4ba124",
            "aac1a42034df4b5b9098134412f75f04",
            "90794744e64e4734919b24cb2bf4f543",
            "1140e61c7b9a4f0cb3fcc23bbae49ece",
            "15e74b26f39449448c6b40006d322464",
            "37afdb3c7a3f4d2a8059eb1f78274b74",
            "255f5b7d2ea143e5ba602205483b166e",
            "910bcf52f66844c98d204aa010af868d",
            "1cfef9ce96d74947854c90b383679af6",
            "60a844553e294e9ea2f57820b2d7925d",
            "40da46ea1318427bada9a17c893ec6ef",
            "88d61ab01b5f408fb9375148e856c04a",
            "3ba14267822444fda0885df71ad2092b",
            "7c82ae7849ae437cb88723bb237434c1",
            "b095c7f18a384b729c6541b3efa53648",
            "476f166d66c64b44b4b19e8ab4383b82",
            "ada33fa187a548b69a9d3d1703cdcb58",
            "2f75a97346404cde80a2eba4cf71288e",
            "3922b26ed5e8430592cfd33728670f73",
            "158a839340ba49a68dc5eaa758ede7de",
            "fa1b7e084ae3467f8abf72eb7e2e0abc",
            "cb78df2ce7bf4012973283a310790124",
            "eb42504d439e4119bd7b9ac0a7627036",
            "e62414949fd8427a8e4fa3b707c30dd8",
            "6c032a309a7f424691e7dedd88da4dba",
            "53f5c045567e43f9b9f27e844957a379",
            "e2cf0074b2594f7b882eece0d558c6e8",
            "4f2ff78b55184ab58721be70d4958a39",
            "52ab45a813634e6cba8abae41d06b964",
            "5540f3c3ff214cfebccdd952675f6a35",
            "cd74c6a6b78c4970abe9b2a0f09cce7c",
            "7bdf4d110b1c49c8894006d5a26364bd",
            "755a916d1de54db5a10fa6e07d43cc7a",
            "b3503dd5db414b88a32e4fbb40a2ab3a",
            "5fabb815b79a4e99bcdefa5e7add1aa1",
            "8f107174a58d4c9ea84abb15b1d064ca",
            "03fcecae86144c1a8cf3324122431fbd",
            "37043424d18b4225a892863373fb1779",
            "06a25d43bb2b4f4eab6052c79e29bd76",
            "467a1b68947d4da8bfb75ab8122c1b14",
            "fbeb812e1444464abb5888378583230a",
            "225e83329ebf49ea96ff69f2b04ca774",
            "8a32e538fe2e4b0988f0291261c72800",
            "018752d9d1ff428c9ba4f7b7f2515c5e",
            "b3b5cb8ca0d846928ebb6504d52633b4",
            "f3a5f092e4464beaa1a2676193b9e381",
            "5b3aa50ae4034db0801198b022af83cc",
            "3b3120fd8c834480823f4d766c1e94e4",
            "5f250fd7fe354b14ae0e561e1ef43cc1",
            "60e0e33c57374e7ebd21e79125d3ce04",
            "3e4554de5d194e62946de08aac99cdf4",
            "d2f42abdabba4db8954c6b13976c9770",
            "d2931cc6d53b41269ae2581ca062fea2",
            "3b4fedaa52164a6d9d0f998e562c40cd",
            "f07fad28f1474f85a6182bfd58e0c279",
            "ddfa3a893c174545a9c552808b010f5a",
            "25ef31a0c438480cbc15b9ad6f1baf72",
            "9c20080b1a1f47978c62a8744f7d0619",
            "4888c65bc6dc4c4db34c2ec914902e5b",
            "2d328dd4a12644cb8671d78459e4afd2",
            "6e770de6ff8a4377889ca4356c4f983f",
            "b65fea4109014fd5843f3c4b5e2b7468",
            "59f9dabefda5461dacec6a905ac7e049",
            "48afac3f43a54bd6acbebd59f86ff4ab",
            "41efe4db236d43d4aa69073051af7b6b",
            "9757903f92bc4a83b21d7603df35381e",
            "09aed4fb0eb447ad89fe590572d99f29",
            "461e67ea18484427ad6f08ae4a0d9126",
            "be0a2bbb6816446c9ac721f03d9ac010",
            "03691555e14141b1abf584f0e2af5964",
            "7e921fa603894316b2d573b186b6dd69",
            "b89a5b3304b54a689408abb36fbddedc",
            "a1ab4443e94f45c7b99041e4c6820b46",
            "1d08046e0c644393a0f4419854fa4703",
            "827dc0a50aca4ac78303c9ae7fd8d130",
            "43c5a3e0b981468e9577ac935280ae21",
            "2b08d5e3f43441e89c374bbfb19ad5f6",
            "d6851bfe8806481eacca0b1094a189db",
            "a037493e356f4d8ba03eb15138123353",
            "28ddc1bdce8c4f0791f715a6d3184e2b",
            "bd64908ac079470baf23036a239e9829",
            "db16d868d36b4758807b68e1f73063fb",
            "8a3d55c90c8341c4801141a267a3f752",
            "d7f74c9079194c1188c715e36d5919c1",
            "92bf8185c1bc48ea8732771892f6222c",
            "1eb060f4b6cd45fabdc01747f5a255a3",
            "8d1d9c640c6442e794d2855d206ca289",
            "b274da372107405aaa4fe27da482a12f",
            "af85a2e81ae14888a39d46088874a8c7",
            "36d7e17b113e457cb3bc878765283762",
            "12e053b5759e468e8a466205044a72bb",
            "46564ed467114089962b0e45edea9802",
            "582b174b2e1e4e0997ef32aedacd3e29",
            "43265cb52b8d4fdb9f2e52b45afeadab",
            "ed377e8a190944529f1245756b3046c0",
            "864e2bdb8776437d93158502fe34f4c8",
            "0584482880d44552b69d2037d0944073",
            "e159c2d323b04989843c0a3d06e1bb51",
            "7d2cd1e815ae4061b1723a5856b9fe0e",
            "9672eb45d4a74bbab4deb3c0546bfe47",
            "a4f03cb12f674bddb256f0c99ec6b5e5",
            "c2674ea909b9428985a584f9c38a8628"
          ]
        },
        "id": "zd7CTaMVDHq4",
        "outputId": "7ffd298b-3e16-4e3c-d9dc-de7dac9f08b0"
      },
      "outputs": [
        {
          "name": "stderr",
          "output_type": "stream",
          "text": [
            "/usr/local/lib/python3.10/dist-packages/huggingface_hub/utils/_token.py:88: UserWarning: \n",
            "The secret `HF_TOKEN` does not exist in your Colab secrets.\n",
            "To authenticate with the Hugging Face Hub, create a token in your settings tab (https://huggingface.co/settings/tokens), set it as secret in your Google Colab and restart your session.\n",
            "You will be able to reuse this secret in all of your notebooks.\n",
            "Please note that authentication is recommended but still optional to access public models or datasets.\n",
            "  warnings.warn(\n"
          ]
        },
        {
          "data": {
            "application/vnd.jupyter.widget-view+json": {
              "model_id": "d3174c677c124eed905440e58b035f5d",
              "version_major": 2,
              "version_minor": 0
            },
            "text/plain": [
              "preprocessor_config.json:   0%|          | 0.00/185k [00:00<?, ?B/s]"
            ]
          },
          "metadata": {},
          "output_type": "display_data"
        },
        {
          "data": {
            "application/vnd.jupyter.widget-view+json": {
              "model_id": "d0f56cb860cd429d933cb9fd1bf46d74",
              "version_major": 2,
              "version_minor": 0
            },
            "text/plain": [
              "tokenizer_config.json:   0%|          | 0.00/805 [00:00<?, ?B/s]"
            ]
          },
          "metadata": {},
          "output_type": "display_data"
        },
        {
          "data": {
            "application/vnd.jupyter.widget-view+json": {
              "model_id": "1140e61c7b9a4f0cb3fcc23bbae49ece",
              "version_major": 2,
              "version_minor": 0
            },
            "text/plain": [
              "vocab.json:   0%|          | 0.00/836k [00:00<?, ?B/s]"
            ]
          },
          "metadata": {},
          "output_type": "display_data"
        },
        {
          "data": {
            "application/vnd.jupyter.widget-view+json": {
              "model_id": "b095c7f18a384b729c6541b3efa53648",
              "version_major": 2,
              "version_minor": 0
            },
            "text/plain": [
              "tokenizer.json:   0%|          | 0.00/2.48M [00:00<?, ?B/s]"
            ]
          },
          "metadata": {},
          "output_type": "display_data"
        },
        {
          "data": {
            "application/vnd.jupyter.widget-view+json": {
              "model_id": "53f5c045567e43f9b9f27e844957a379",
              "version_major": 2,
              "version_minor": 0
            },
            "text/plain": [
              "merges.txt:   0%|          | 0.00/494k [00:00<?, ?B/s]"
            ]
          },
          "metadata": {},
          "output_type": "display_data"
        },
        {
          "data": {
            "application/vnd.jupyter.widget-view+json": {
              "model_id": "03fcecae86144c1a8cf3324122431fbd",
              "version_major": 2,
              "version_minor": 0
            },
            "text/plain": [
              "normalizer.json:   0%|          | 0.00/52.7k [00:00<?, ?B/s]"
            ]
          },
          "metadata": {},
          "output_type": "display_data"
        },
        {
          "data": {
            "application/vnd.jupyter.widget-view+json": {
              "model_id": "3b3120fd8c834480823f4d766c1e94e4",
              "version_major": 2,
              "version_minor": 0
            },
            "text/plain": [
              "added_tokens.json:   0%|          | 0.00/34.6k [00:00<?, ?B/s]"
            ]
          },
          "metadata": {},
          "output_type": "display_data"
        },
        {
          "data": {
            "application/vnd.jupyter.widget-view+json": {
              "model_id": "4888c65bc6dc4c4db34c2ec914902e5b",
              "version_major": 2,
              "version_minor": 0
            },
            "text/plain": [
              "special_tokens_map.json:   0%|          | 0.00/2.08k [00:00<?, ?B/s]"
            ]
          },
          "metadata": {},
          "output_type": "display_data"
        },
        {
          "data": {
            "application/vnd.jupyter.widget-view+json": {
              "model_id": "03691555e14141b1abf584f0e2af5964",
              "version_major": 2,
              "version_minor": 0
            },
            "text/plain": [
              "config.json:   0%|          | 0.00/1.99k [00:00<?, ?B/s]"
            ]
          },
          "metadata": {},
          "output_type": "display_data"
        },
        {
          "data": {
            "application/vnd.jupyter.widget-view+json": {
              "model_id": "bd64908ac079470baf23036a239e9829",
              "version_major": 2,
              "version_minor": 0
            },
            "text/plain": [
              "model.safetensors:   0%|          | 0.00/3.06G [00:00<?, ?B/s]"
            ]
          },
          "metadata": {},
          "output_type": "display_data"
        },
        {
          "data": {
            "application/vnd.jupyter.widget-view+json": {
              "model_id": "46564ed467114089962b0e45edea9802",
              "version_major": 2,
              "version_minor": 0
            },
            "text/plain": [
              "generation_config.json:   0%|          | 0.00/3.75k [00:00<?, ?B/s]"
            ]
          },
          "metadata": {},
          "output_type": "display_data"
        },
        {
          "name": "stdout",
          "output_type": "stream",
          "text": [
            "Device: cpu\n"
          ]
        }
      ],
      "source": [
        "from transformers import WhisperProcessor, WhisperForConditionalGeneration\n",
        "import time\n",
        "import torch\n",
        "device = torch.device(\"cuda\" if torch.cuda.is_available() else \"cpu\")\n",
        "\n",
        "# Загрузите модель и процессор\n",
        "processor = WhisperProcessor.from_pretrained(\"openai/whisper-medium\")\n",
        "model = WhisperForConditionalGeneration.from_pretrained(\"openai/whisper-medium\")\n",
        "model.config.forced_decoder_ids = None\n",
        "\n",
        "# Перенесите модель на GPU, если CUDA доступен\n",
        "model.to(device)\n",
        "\n",
        "print(\"Device:\", device)\n",
        "\n",
        "# Дополнительная информация о GPU, если доступно\n",
        "if device.type == 'cuda':\n",
        "    print(\"GPU Name:\", torch.cuda.get_device_name(0))\n",
        "    print(\"CUDA Version:\", torch.version.cuda)\n"
      ]
    },
    {
      "cell_type": "code",
      "execution_count": null,
      "metadata": {
        "colab": {
          "base_uri": "https://localhost:8080/",
          "height": 169,
          "referenced_widgets": [
            "cdbda3db3620463a93b7a4da834c33d8",
            "4df10618c070404ba39f796a7b288bc3",
            "8c00cb65f07245c69052a53309110863",
            "fcfc6227d657409f996d70e6fb93858b",
            "fec1ea7123f94c62a2cc140e0c41bf54",
            "bce13764f2ae4d9987313097231a144f",
            "5758dfc5f4014cec90d20a8f5468f9ee",
            "caca043f607341f9a8fa296fa529d620",
            "3f9f0c5a5b5a4f78a195e33144ba6a0c",
            "975d3e315c0c481bad5bf4123ebdcda6",
            "2b9916946ab44b55a89440091a13360d",
            "3585f9d4914a49c9a8e0ad1a17f2102a",
            "0c66068775fc482f907c929bb4ba8565",
            "0178ac73a43243faa6c5a5afbba73790",
            "028edd78728842ff99b9c104d518f645",
            "5dd9237f562b49748c161cdd72d180b5",
            "de72dbbd78584eafb9df9848de8e818f",
            "d430919dea744b39bd55f62ec3eee3c1",
            "6391d4325eed4ba4adad799f75195ea7",
            "a77d3e4e742c408296f2741c43eac741",
            "435e63deff434f29847e7ec3d59c6d55",
            "6781c8b9f16f4beeadd2661112a164f8"
          ]
        },
        "id": "XUSJ5yUx5lqc",
        "outputId": "c6b3e47c-22dc-4c59-a0f4-107fa298c874"
      },
      "outputs": [
        {
          "name": "stderr",
          "output_type": "stream",
          "text": [
            "/usr/local/lib/python3.10/dist-packages/datasets/load.py:1429: FutureWarning: The repository for librispeech_asr contains custom code which must be executed to correctly load the dataset. You can inspect the repository content at https://hf.co/datasets/librispeech_asr\n",
            "You can avoid this message in future by passing the argument `trust_remote_code=True`.\n",
            "Passing `trust_remote_code=True` will be mandatory to load this dataset from the next major release of `datasets`.\n",
            "  warnings.warn(\n"
          ]
        },
        {
          "data": {
            "application/vnd.jupyter.widget-view+json": {
              "model_id": "cdbda3db3620463a93b7a4da834c33d8",
              "version_major": 2,
              "version_minor": 0
            },
            "text/plain": [
              "Downloading builder script:   0%|          | 0.00/11.5k [00:00<?, ?B/s]"
            ]
          },
          "metadata": {},
          "output_type": "display_data"
        },
        {
          "data": {
            "application/vnd.jupyter.widget-view+json": {
              "model_id": "3585f9d4914a49c9a8e0ad1a17f2102a",
              "version_major": 2,
              "version_minor": 0
            },
            "text/plain": [
              "Downloading readme:   0%|          | 0.00/10.2k [00:00<?, ?B/s]"
            ]
          },
          "metadata": {},
          "output_type": "display_data"
        }
      ],
      "source": [
        "from datasets import load_dataset\n",
        "\n",
        "dset = load_dataset(\"librispeech_asr\", 'clean', split=\"test\", streaming=True)"
      ]
    },
    {
      "cell_type": "code",
      "execution_count": null,
      "metadata": {
        "id": "T7XBXpdPMs4-"
      },
      "outputs": [],
      "source": [
        "dset_iter = iter(dset)  # создаем итератор"
      ]
    },
    {
      "cell_type": "code",
      "execution_count": null,
      "metadata": {
        "id": "RMkmO5gQ3RtE"
      },
      "outputs": [],
      "source": [
        "#для пропуска первых n элементов датасета\n",
        "n = 0\n",
        "for _ in range(n):\n",
        "  next(dset_iter)\n",
        "  #first_element = next(dset_iter)\n",
        "  #print(first_element)\n"
      ]
    },
    {
      "cell_type": "code",
      "execution_count": null,
      "metadata": {
        "id": "Ijr0zIZm1vHT"
      },
      "outputs": [],
      "source": [
        "predictions = []\n",
        "references = []\n",
        "total_time = 0"
      ]
    },
    {
      "cell_type": "code",
      "execution_count": null,
      "metadata": {
        "colab": {
          "base_uri": "https://localhost:8080/"
        },
        "id": "JDExjTPizsWt",
        "outputId": "13759b3f-7724-4942-9cd4-81b6d7773408"
      },
      "outputs": [
        {
          "name": "stdout",
          "output_type": "stream",
          "text": [
            "the leaders of the conspiracy became distrustful of their power to crush the town\n",
            "the leaders of the conspiracy became distrustful of their power to crush the town\n",
            "one of his militia generals suggested that the governor should require the outlaws at lawrence and elsewhere to surrender the sharps rifles another wrote asking him to call out the government troops at fort leavenworth\n",
            "one of his militia generals suggested that the governor should require the outlaws at lawrence and elsewhere to surrender the sharps rifles another wrote asking him to call out the government troops at fort leavenworth\n",
            "the governor on his part becoming doubtful of the legality of employing missouri militia to enforce kansas laws was also eager to secure the help of federal troops\n",
            "the governor on his part becoming doubtful of the legality of employing missouri militia to enforce kansas laws was also eager to secure the help of federal troops\n",
            "sheriff jones had his pockets always full of writs issued in the spirit of persecution but was often baffled by the sharp wits and ready resources of the free state people and sometimes defied outright\n",
            "sheriff jones had his pockets always full of writs issued in the spirit of persecution but was often baffled by the sharp wits and ready resources of the free state people and sometimes defied outright\n",
            "little by little however the latter became hemmed and bound in the meshes of the various devices and proceedings which the territorial officials evolved from the bogus laws\n",
            "little by little however the latter became hemmed and bound in the meshes of the various devices and proceedings which the territorial officials evolved from the bogus laws\n",
            "to embarrass this damaging exposure judge lecompte issued a writ against the ex governor on a frivolous charge of contempt\n",
            "to embarrass this damaging exposure judge lacombe issued a writ against the ex governor on a frivolous charge of contempt\n",
            "the incident was not violent nor even dramatic no posse was summoned no further effort made and reeder fearing personal violence soon fled in disguise\n",
            "the incident was not violent nor even dramatic no posse was summoned no further effort made and reader fearing personal violence soon fled in disguise\n",
            "but the affair was magnified as a crowning proof that the free state men were insurrectionists and outlaws\n",
            "but the affair was magnified as a crowning proof that the free state men were insurrectionists and outlaws\n",
            "from these again sprang barricaded and fortified dwellings camps and scouting parties finally culminating in roving guerrilla bands half partisan half predatory\n",
            "from these again sprang barricaded and fortified dwellings camps and scout parties finally culminating in roving guerrilla bands half partisan half predatory\n",
            "their distinctive characters however display one broad and unfailing difference\n",
            "their distinctive characters however display one broad and unfailing difference\n",
            "the free state men clung to their prairie towns and prairie ravines with all the obstinacy and courage of true defenders of their homes and firesides\n",
            "the free state men clung to their prairie towns and prairie ravines with all the obstinacy and courage of true defenders of their homes and firesides\n",
            "their assumed character changed with their changing opportunities or necessities\n",
            "their assumed character changed with their changing opportunities or necessities\n",
            "in the shooting of sheriff jones in lawrence and in the refusal of ex governor beeder to allow the deputy marshal to arrest him they discovered grave offenses against the territorial and united states laws\n",
            "in the shooting of sheriff jones in lawrence and in the refusal of ex governor reeder to allow the deputy marshall to arrest him they discovered grave offenses against the territorial and the united states laws\n",
            "footnote sumner to shannon may 12th 1856\n",
            "footnote sumner to shannon may 12 1856\n",
            "private persons who had leased the free state hotel vainly besought the various authorities to prevent the destruction of their property\n",
            "private persons who had leased the free state hotel vainly besought the various authorities to present the destruction of their property\n",
            "10 days were consumed in these negotiations but the spirit of vengeance refused to yield\n",
            "10 days were consumed in these negotiations but the spirit of vengeance refused to yield\n",
            "he summoned half a dozen citizens to join his posse who followed obeyed and assisted him\n",
            "he summoned half a dozen citizens to join his posse who followed obeyed and assisted him\n",
            "he continued his pretended search and to give color to his errand made 2 arrests\n",
            "he continued his pretended surge and to give color to his errand made to a rest\n",
            "the free state hotel a stone building in dimensions 50 by 70 feet 3 stories high and handsomely furnished previously occupied only for lodging rooms on that day for the 1st time opened its table accommodations to the public and provided a free dinner in honor of the occasion\n",
            "the free state hotel a stone building in dimensions 50 by 70 feet 3 stories high and handsomely furnished previously occupied only for lodging rooms on that day for the 1st time opened its table accommodations to the public and provided a free dinner in honor of the occasion\n",
            "as he had promised to protect the hotel the reassured citizens began to laugh at their own fears\n",
            "as he had promised to protect the hotel the reassured citizens began to laugh at their own fears\n",
            "to their sorrow they were soon undeceived\n",
            "to their sorrow they were soon undeceived\n",
            "the military force partly rabble partly organized had meanwhile moved into the town\n",
            "the military force partly rabble partly organized had meanwhile moved into the town\n",
            "he planted a company before the hotel and demanded a surrender of the arms belonging to the free state military companies\n",
            "he planted a company before the hotel and demanded a surrender of the arms belonging to the free state military companies\n",
            "half an hour later turning a deaf ear to all remonstrance he gave the proprietors until 50 clock to remove their families and personal property from the free state hotel\n",
            "half an hour later turning a deaf ear to all remonstrance he gave the proprietors until 50 clock to remove their families and personal property from the free state hotel\n",
            "atchison who had been haranguing the mob planted his 2 guns before the building and trained them upon it\n",
            "atchison who had been haranguing the mob planted his 2 guns before the building and trained them upon it\n"
          ]
        }
      ],
      "source": [
        "num_of_audio = 25\n",
        "for i in range(num_of_audio):\n",
        "  current_element = next(dset_iter)\n",
        "  audio = current_element[\"audio\"]\n",
        "  input_features = processor(audio[\"array\"], sampling_rate=audio[\"sampling_rate\"], return_tensors=\"pt\").input_features\n",
        "  reference = processor.tokenizer._normalize(current_element['text'])\n",
        "  references.append(reference)\n",
        "  print(reference)\n",
        "\n",
        "  start_time = time.time()\n",
        "  predicted_ids = model.generate(input_features)\n",
        "  transcription = processor.batch_decode(predicted_ids, skip_special_tokens=True)\n",
        "  end_time = time.time()\n",
        "\n",
        "  prediction = processor.tokenizer._normalize(transcription[0])\n",
        "  predictions.append(prediction)\n",
        "  print(prediction)\n",
        "\n",
        "  file_time = end_time - start_time\n",
        "  total_time += file_time"
      ]
    },
    {
      "cell_type": "code",
      "execution_count": null,
      "metadata": {
        "colab": {
          "base_uri": "https://localhost:8080/"
        },
        "id": "GQZoMZtoLw6c",
        "outputId": "b0236859-5bec-41a2-fea0-5ef5ce954a8d"
      },
      "outputs": [
        {
          "name": "stdout",
          "output_type": "stream",
          "text": [
            "300\n",
            "300\n"
          ]
        }
      ],
      "source": [
        "print(len(references))\n",
        "print(len(predictions))"
      ]
    },
    {
      "cell_type": "code",
      "execution_count": null,
      "metadata": {
        "colab": {
          "base_uri": "https://localhost:8080/"
        },
        "id": "LW6s4Mdg1m6f",
        "outputId": "a498427c-7a53-49e0-b1de-f4870eaf2e9d"
      },
      "outputs": [
        {
          "name": "stdout",
          "output_type": "stream",
          "text": [
            "Result wer: 2.459016393442623\n",
            "Accuracy: 0.97541\n"
          ]
        }
      ],
      "source": [
        "from jiwer import wer\n",
        "wer_result = wer(references, predictions)\n",
        "print(f\"Result wer: {wer_result * 100}\")\n",
        "accuracy = 1 - wer_result\n",
        "print(\"Accuracy: %.5f\" % accuracy)"
      ]
    },
    {
      "cell_type": "code",
      "execution_count": null,
      "metadata": {
        "colab": {
          "base_uri": "https://localhost:8080/"
        },
        "id": "-nunxXBo2XEz",
        "outputId": "9e5bf630-87db-435a-bd54-950bd5cb024c"
      },
      "outputs": [
        {
          "name": "stdout",
          "output_type": "stream",
          "text": [
            "Общее время: 6600.15 секунд\n",
            "Среднее время на одно аудио: 264.01 секунд\n"
          ]
        }
      ],
      "source": [
        "print(f\"Общее время: {total_time:.2f} секунд\")\n",
        "print(f\"Среднее время на одно аудио: {total_time/num_of_audio:.2f} секунд\")"
      ]
    },
    {
      "cell_type": "markdown",
      "metadata": {
        "id": "BcbXSC8YQSp6"
      },
      "source": [
        "<a name='1-2'></a>\n",
        "## Тестирование Whisper-Small\n",
        "Размер 0.967 GB\n",
        "\n",
        "300 примеров:\n",
        "\n",
        "2176.65 секунд (36 минут)\n",
        "\n",
        "7.25 секунды на 1 пример\n",
        "\n",
        "WER 3.031"
      ]
    },
    {
      "cell_type": "code",
      "execution_count": null,
      "metadata": {
        "colab": {
          "base_uri": "https://localhost:8080/"
        },
        "id": "0jZshxrBQSqA",
        "outputId": "339f1934-1488-4d7a-f842-656c3e359587"
      },
      "outputs": [
        {
          "name": "stdout",
          "output_type": "stream",
          "text": [
            "Collecting datasets\n",
            "  Downloading datasets-2.16.1-py3-none-any.whl (507 kB)\n",
            "\u001b[2K     \u001b[90m━━━━━━━━━━━━━━━━━━━━━━━━━━━━━━━━━━━━━━━━\u001b[0m \u001b[32m507.1/507.1 kB\u001b[0m \u001b[31m10.8 MB/s\u001b[0m eta \u001b[36m0:00:00\u001b[0m\n",
            "\u001b[?25hRequirement already satisfied: filelock in /usr/local/lib/python3.10/dist-packages (from datasets) (3.13.1)\n",
            "Requirement already satisfied: numpy>=1.17 in /usr/local/lib/python3.10/dist-packages (from datasets) (1.23.5)\n",
            "Requirement already satisfied: pyarrow>=8.0.0 in /usr/local/lib/python3.10/dist-packages (from datasets) (10.0.1)\n",
            "Requirement already satisfied: pyarrow-hotfix in /usr/local/lib/python3.10/dist-packages (from datasets) (0.6)\n",
            "Collecting dill<0.3.8,>=0.3.0 (from datasets)\n",
            "  Downloading dill-0.3.7-py3-none-any.whl (115 kB)\n",
            "\u001b[2K     \u001b[90m━━━━━━━━━━━━━━━━━━━━━━━━━━━━━━━━━━━━━━━━\u001b[0m \u001b[32m115.3/115.3 kB\u001b[0m \u001b[31m13.9 MB/s\u001b[0m eta \u001b[36m0:00:00\u001b[0m\n",
            "\u001b[?25hRequirement already satisfied: pandas in /usr/local/lib/python3.10/dist-packages (from datasets) (1.5.3)\n",
            "Requirement already satisfied: requests>=2.19.0 in /usr/local/lib/python3.10/dist-packages (from datasets) (2.31.0)\n",
            "Requirement already satisfied: tqdm>=4.62.1 in /usr/local/lib/python3.10/dist-packages (from datasets) (4.66.1)\n",
            "Requirement already satisfied: xxhash in /usr/local/lib/python3.10/dist-packages (from datasets) (3.4.1)\n",
            "Collecting multiprocess (from datasets)\n",
            "  Downloading multiprocess-0.70.15-py310-none-any.whl (134 kB)\n",
            "\u001b[2K     \u001b[90m━━━━━━━━━━━━━━━━━━━━━━━━━━━━━━━━━━━━━━━━\u001b[0m \u001b[32m134.8/134.8 kB\u001b[0m \u001b[31m17.6 MB/s\u001b[0m eta \u001b[36m0:00:00\u001b[0m\n",
            "\u001b[?25hRequirement already satisfied: fsspec[http]<=2023.10.0,>=2023.1.0 in /usr/local/lib/python3.10/dist-packages (from datasets) (2023.6.0)\n",
            "Requirement already satisfied: aiohttp in /usr/local/lib/python3.10/dist-packages (from datasets) (3.9.1)\n",
            "Requirement already satisfied: huggingface-hub>=0.19.4 in /usr/local/lib/python3.10/dist-packages (from datasets) (0.20.3)\n",
            "Requirement already satisfied: packaging in /usr/local/lib/python3.10/dist-packages (from datasets) (23.2)\n",
            "Requirement already satisfied: pyyaml>=5.1 in /usr/local/lib/python3.10/dist-packages (from datasets) (6.0.1)\n",
            "Requirement already satisfied: attrs>=17.3.0 in /usr/local/lib/python3.10/dist-packages (from aiohttp->datasets) (23.2.0)\n",
            "Requirement already satisfied: multidict<7.0,>=4.5 in /usr/local/lib/python3.10/dist-packages (from aiohttp->datasets) (6.0.4)\n",
            "Requirement already satisfied: yarl<2.0,>=1.0 in /usr/local/lib/python3.10/dist-packages (from aiohttp->datasets) (1.9.4)\n",
            "Requirement already satisfied: frozenlist>=1.1.1 in /usr/local/lib/python3.10/dist-packages (from aiohttp->datasets) (1.4.1)\n",
            "Requirement already satisfied: aiosignal>=1.1.2 in /usr/local/lib/python3.10/dist-packages (from aiohttp->datasets) (1.3.1)\n",
            "Requirement already satisfied: async-timeout<5.0,>=4.0 in /usr/local/lib/python3.10/dist-packages (from aiohttp->datasets) (4.0.3)\n",
            "Requirement already satisfied: typing-extensions>=3.7.4.3 in /usr/local/lib/python3.10/dist-packages (from huggingface-hub>=0.19.4->datasets) (4.5.0)\n",
            "Requirement already satisfied: charset-normalizer<4,>=2 in /usr/local/lib/python3.10/dist-packages (from requests>=2.19.0->datasets) (3.3.2)\n",
            "Requirement already satisfied: idna<4,>=2.5 in /usr/local/lib/python3.10/dist-packages (from requests>=2.19.0->datasets) (3.6)\n",
            "Requirement already satisfied: urllib3<3,>=1.21.1 in /usr/local/lib/python3.10/dist-packages (from requests>=2.19.0->datasets) (2.0.7)\n",
            "Requirement already satisfied: certifi>=2017.4.17 in /usr/local/lib/python3.10/dist-packages (from requests>=2.19.0->datasets) (2023.11.17)\n",
            "Requirement already satisfied: python-dateutil>=2.8.1 in /usr/local/lib/python3.10/dist-packages (from pandas->datasets) (2.8.2)\n",
            "Requirement already satisfied: pytz>=2020.1 in /usr/local/lib/python3.10/dist-packages (from pandas->datasets) (2023.3.post1)\n",
            "Requirement already satisfied: six>=1.5 in /usr/local/lib/python3.10/dist-packages (from python-dateutil>=2.8.1->pandas->datasets) (1.16.0)\n",
            "Installing collected packages: dill, multiprocess, datasets\n",
            "Successfully installed datasets-2.16.1 dill-0.3.7 multiprocess-0.70.15\n"
          ]
        }
      ],
      "source": [
        "!pip install datasets"
      ]
    },
    {
      "cell_type": "code",
      "execution_count": null,
      "metadata": {
        "colab": {
          "base_uri": "https://localhost:8080/"
        },
        "id": "UGRWR_cDQSqB",
        "outputId": "d7b1f8ec-da74-42e1-80e4-b8b3a0092caf"
      },
      "outputs": [
        {
          "name": "stdout",
          "output_type": "stream",
          "text": [
            "Collecting jiwer\n",
            "  Downloading jiwer-3.0.3-py3-none-any.whl (21 kB)\n",
            "Requirement already satisfied: click<9.0.0,>=8.1.3 in /usr/local/lib/python3.10/dist-packages (from jiwer) (8.1.7)\n",
            "Collecting rapidfuzz<4,>=3 (from jiwer)\n",
            "  Downloading rapidfuzz-3.6.1-cp310-cp310-manylinux_2_17_x86_64.manylinux2014_x86_64.whl (3.4 MB)\n",
            "\u001b[2K     \u001b[90m━━━━━━━━━━━━━━━━━━━━━━━━━━━━━━━━━━━━━━━━\u001b[0m \u001b[32m3.4/3.4 MB\u001b[0m \u001b[31m9.7 MB/s\u001b[0m eta \u001b[36m0:00:00\u001b[0m\n",
            "\u001b[?25hInstalling collected packages: rapidfuzz, jiwer\n",
            "Successfully installed jiwer-3.0.3 rapidfuzz-3.6.1\n"
          ]
        }
      ],
      "source": [
        "!pip install jiwer"
      ]
    },
    {
      "cell_type": "code",
      "execution_count": null,
      "metadata": {
        "colab": {
          "base_uri": "https://localhost:8080/",
          "height": 386,
          "referenced_widgets": [
            "c7953923919443c2935f62bdd1157dcd",
            "5c723d0c88294711b2b38f6054903ac5",
            "d883120b869549e28b87dfe2c9262d24",
            "79275db6a5b3487aa290d531d120c327",
            "4b24e64821aa4b5dad9caccaa47c9033",
            "628b4b2b8ae848c2a92a9e6e8afd1092",
            "1ad9eb98472845749954ba9ce22e40f8",
            "6772da69e83941189e16f4c10e73e946",
            "f2fd33ec157e42cbb283acd81dcc74be",
            "a4cb8b6f6cd148bd8956f891a3a1b6f9",
            "102a9aee1906477fae696ed7580ef834",
            "162a2d54036342fc9848180d9dcb763d",
            "e2f484a2c4df4866a8da41a40902a9bf",
            "f451ce06a58240ffbc75d22d6c2722fa",
            "87b405759a9140b39ec4c0d50f71b323",
            "42b4c7ad95384677a77b0820d6d9c912",
            "6f00108ab1a04adf8c43bd1289a6bd73",
            "cfcc7f70c6cb44e491bf87396d408fae",
            "dcc406a4df334b149b1e9c546669b8b2",
            "0922209f33d240d3a83eca04a05e5195",
            "ee865457094447b4a3fcb127d1cfd4d9",
            "06d9de9ea6cc45de8c40b7d17f8f4a3e",
            "900cbcfb14e6471c8501737bdb24a3c2",
            "c7ae65ba4aa048e3af8ba952a831dd2c",
            "9ce4677a5c804e4aa42ce12df939ac9c",
            "3d9914a653fb4d8cae117295da400373",
            "625b53835e9a4c6a8bbe9cf5c88e8c81",
            "b9817c93b82e49f4a720f9938329ddad",
            "5bb25a4e65a1450f8b9a8e904e0b7a73",
            "a7e98fd19d5147b29285c326447ad9b7",
            "3971ee08122d4702871a9180f1c02a66",
            "6c6f4c2f8eac404dab5e7f5446e35afb",
            "1bbe15327dc74502a8abb2e7e520fb5f",
            "89eb159d798a41a69141965535de92c0",
            "6ebb2d4d3a684090ad11e780923d3fb1",
            "c40a364d58e74a758b6a96e3c9263b47",
            "d4116f31d6534c459eacaa6744b8e0cd",
            "3a0f39c4b9634fd89c5368bf55100154",
            "5821a49bc0704c289b63d55a5449bde0",
            "4d5d920a0f304a0e9346aa5d1a9d52e4",
            "c903f4d6f7aa436c92120b43cde70a4d",
            "607a33d3674f4279bd606a40f4688bc2",
            "2cb3224db1c44011bde3e12efa2b84b2",
            "ee22057cdfcd41e9a5f43940a6f4bffa",
            "7f125af7f4f843c6b4aa57cabfea5763",
            "e3a28f8fb3a84a4d86eafef1f565d042",
            "d6b8c97b4b3e4b8eabe8266ca8d0c1ec",
            "5c39d741b24e4be99a96a0851c50be78",
            "223da5e49b114d23aa50ddc1d03c8afc",
            "440096c36abb48d18df64dd8445ea595",
            "f57fb2c7d351465a867202bc4e71246d",
            "4e1c4f15a07b4e5580942fd6932bf1c6",
            "456395b56f104825b6e27fd84dbf5c03",
            "f1fabe24bd974de1ad1b9ee30311ad20",
            "66b4f55f7fbd4159887055016a065e1c",
            "c7efa1e0e16f4bc292bd5fb13c8c2585",
            "c984266b1f084a04bbc2577fedadcb1a",
            "21c6a71e9bef473db6e1745a31ad336a",
            "422926063f2349a086f8ebcc0ac2f4f6",
            "b5aa34fd1fa544e9a7f26514405ca76d",
            "0170f5c7ac424262b6b4399d79a2a6bc",
            "db7f17bbae0848a4b729eb7c3311a9c2",
            "6295ba9506ff402cb248295532a01de9",
            "5f2e0f35584f4a54939f6bf5d0739b38",
            "5b93472618a04c21bf7c7e5c7a6c5b6a",
            "83fe1d7aed6245ffbdcc3f297ec6e60b",
            "3ffe42895f9f453496890c07238567a7",
            "8641c7b9c3dc422fa268c069e4514f53",
            "ce54fe1ab5a146ed86290d29d6616223",
            "8b2e17d245c34ec5bc6f4fb738589ef8",
            "3210986144944c778b1223abe6debe13",
            "c4fb7954d67049c382b39fb2c243b874",
            "22b2e892f2894539b113237335b1bf69",
            "96d3a0c87d31428fa6bda0f33f3ee945",
            "e83243e62a8d4025b1c606c9ac786d1c",
            "e4eab6c577a04e19a1eab82634b90c79",
            "4b6466a8554f456bae2ad6a12856da39",
            "c46aa60b81d6400894a77308903c08a0",
            "580339ae99a342768579ab7e8e349e53",
            "36714169f4e448b6843138c90213484a",
            "2e61ed05b8874c20ad383129d0c945de",
            "1ffbd59dbfb04a2cb258d74ffa5d6a51",
            "e07f2c3698de4f55a3fe7b429a579af4",
            "f6e462b65d214f1aa92f5b1122fd37b8",
            "35d4a9648ba74d088b4f321daf7fa7be",
            "5fe67ecc1bb542319699706d75f882de",
            "c0c89cf2a67648fdae9eab43389eb8f7",
            "be974be6a72d40bcb116b479011b65a1",
            "6e902da1b6f84701bfefcac3d5df830b",
            "2ef6dcf9f2a2449c8bd4f76d36693be9",
            "37ddd6828d914b518ab665f4b6eaae39",
            "8f7b1a3b16fd4de7a1c144eb118768ba",
            "d03847c7578b4d3aae55c88bcdc77cfe",
            "bb3d3b7ccab045c28f1b5ad756e72ba1",
            "960b03ade5104bf0a439a7e64ebd13fb",
            "2da660e54944428bb0f19bed34f0ec2a",
            "6bea5e5f057d424cb6870ec75fddca35",
            "7f84e5de6da049efba89e89964344a7f",
            "22b2ebc39dad4ad1a2447a501bbb5af3",
            "247b51a09ab546abbb5579fe849d0e0a",
            "cc0c655f1dda4f9f846f154eca8e7b13",
            "95dbf12f81084a068e2ab509fcaa16e3",
            "ce86a13e96cd4cecb444ed0f856dc141",
            "140c06967f8c4da5999353a5d5bafdc8",
            "dd5c70d7c07c49bb8446c695063fe323",
            "f3965029ef8d40348c6790b0964d9001",
            "dbb8b185f6b041d596136d8a76a6f26d",
            "e076f53c1b244776ac3d8796807cbaf1",
            "496b9a456d4b42c5b624c4c1d60f9a8f",
            "0c190c3c94634740afd8e3329e7fdd08",
            "8443fbf834c14b368261adf4e1c6b7d2",
            "a65cd3ce047544538c7f42a08d780d9d",
            "5f739404af9141f8b998963f4368ff44",
            "5559baf6650c42fc94408a8a77c36b97",
            "19e6fd67d21f4eda930e90b79d347420",
            "5570d7cc0afd4a87b94889047f7a464c",
            "d2bb08a97de64ce79cbb3adcbe36c4ce",
            "ad8b57ac502d4647968ba2b010c80e58",
            "ed02b6cff0b94f0a859d3001b883795f",
            "5c1aba73726248bc86db9f31991e60ce",
            "1d37cd675ef245be8292f2bcb437cccc"
          ]
        },
        "id": "3ezZMX0aQSqB",
        "outputId": "c8021fc5-6cbf-4f4e-99c1-654f7253a97c"
      },
      "outputs": [
        {
          "data": {
            "application/vnd.jupyter.widget-view+json": {
              "model_id": "c7953923919443c2935f62bdd1157dcd",
              "version_major": 2,
              "version_minor": 0
            },
            "text/plain": [
              "preprocessor_config.json:   0%|          | 0.00/185k [00:00<?, ?B/s]"
            ]
          },
          "metadata": {},
          "output_type": "display_data"
        },
        {
          "data": {
            "application/vnd.jupyter.widget-view+json": {
              "model_id": "162a2d54036342fc9848180d9dcb763d",
              "version_major": 2,
              "version_minor": 0
            },
            "text/plain": [
              "tokenizer_config.json:   0%|          | 0.00/805 [00:00<?, ?B/s]"
            ]
          },
          "metadata": {},
          "output_type": "display_data"
        },
        {
          "data": {
            "application/vnd.jupyter.widget-view+json": {
              "model_id": "900cbcfb14e6471c8501737bdb24a3c2",
              "version_major": 2,
              "version_minor": 0
            },
            "text/plain": [
              "vocab.json:   0%|          | 0.00/836k [00:00<?, ?B/s]"
            ]
          },
          "metadata": {},
          "output_type": "display_data"
        },
        {
          "data": {
            "application/vnd.jupyter.widget-view+json": {
              "model_id": "89eb159d798a41a69141965535de92c0",
              "version_major": 2,
              "version_minor": 0
            },
            "text/plain": [
              "tokenizer.json:   0%|          | 0.00/2.48M [00:00<?, ?B/s]"
            ]
          },
          "metadata": {},
          "output_type": "display_data"
        },
        {
          "data": {
            "application/vnd.jupyter.widget-view+json": {
              "model_id": "7f125af7f4f843c6b4aa57cabfea5763",
              "version_major": 2,
              "version_minor": 0
            },
            "text/plain": [
              "merges.txt:   0%|          | 0.00/494k [00:00<?, ?B/s]"
            ]
          },
          "metadata": {},
          "output_type": "display_data"
        },
        {
          "data": {
            "application/vnd.jupyter.widget-view+json": {
              "model_id": "c7efa1e0e16f4bc292bd5fb13c8c2585",
              "version_major": 2,
              "version_minor": 0
            },
            "text/plain": [
              "normalizer.json:   0%|          | 0.00/52.7k [00:00<?, ?B/s]"
            ]
          },
          "metadata": {},
          "output_type": "display_data"
        },
        {
          "data": {
            "application/vnd.jupyter.widget-view+json": {
              "model_id": "3ffe42895f9f453496890c07238567a7",
              "version_major": 2,
              "version_minor": 0
            },
            "text/plain": [
              "added_tokens.json:   0%|          | 0.00/34.6k [00:00<?, ?B/s]"
            ]
          },
          "metadata": {},
          "output_type": "display_data"
        },
        {
          "data": {
            "application/vnd.jupyter.widget-view+json": {
              "model_id": "c46aa60b81d6400894a77308903c08a0",
              "version_major": 2,
              "version_minor": 0
            },
            "text/plain": [
              "special_tokens_map.json:   0%|          | 0.00/2.08k [00:00<?, ?B/s]"
            ]
          },
          "metadata": {},
          "output_type": "display_data"
        },
        {
          "data": {
            "application/vnd.jupyter.widget-view+json": {
              "model_id": "6e902da1b6f84701bfefcac3d5df830b",
              "version_major": 2,
              "version_minor": 0
            },
            "text/plain": [
              "config.json:   0%|          | 0.00/1.97k [00:00<?, ?B/s]"
            ]
          },
          "metadata": {},
          "output_type": "display_data"
        },
        {
          "data": {
            "application/vnd.jupyter.widget-view+json": {
              "model_id": "247b51a09ab546abbb5579fe849d0e0a",
              "version_major": 2,
              "version_minor": 0
            },
            "text/plain": [
              "model.safetensors:   0%|          | 0.00/967M [00:00<?, ?B/s]"
            ]
          },
          "metadata": {},
          "output_type": "display_data"
        },
        {
          "data": {
            "application/vnd.jupyter.widget-view+json": {
              "model_id": "8443fbf834c14b368261adf4e1c6b7d2",
              "version_major": 2,
              "version_minor": 0
            },
            "text/plain": [
              "generation_config.json:   0%|          | 0.00/3.87k [00:00<?, ?B/s]"
            ]
          },
          "metadata": {},
          "output_type": "display_data"
        },
        {
          "name": "stdout",
          "output_type": "stream",
          "text": [
            "Device: cpu\n"
          ]
        }
      ],
      "source": [
        "from transformers import WhisperProcessor, WhisperForConditionalGeneration\n",
        "import time\n",
        "import torch\n",
        "device = torch.device(\"cuda\" if torch.cuda.is_available() else \"cpu\")\n",
        "\n",
        "# Загрузите модель и процессор\n",
        "processor = WhisperProcessor.from_pretrained(\"openai/whisper-small\")\n",
        "model = WhisperForConditionalGeneration.from_pretrained(\"openai/whisper-small\")\n",
        "model.config.forced_decoder_ids = None\n",
        "\n",
        "# Перенесите модель на GPU, если CUDA доступен\n",
        "model.to(device)\n",
        "\n",
        "print(\"Device:\", device)\n",
        "\n",
        "# Дополнительная информация о GPU, если доступно\n",
        "if device.type == 'cuda':\n",
        "    print(\"GPU Name:\", torch.cuda.get_device_name(0))\n",
        "    print(\"CUDA Version:\", torch.version.cuda)\n"
      ]
    },
    {
      "cell_type": "code",
      "execution_count": null,
      "metadata": {
        "colab": {
          "base_uri": "https://localhost:8080/",
          "height": 169,
          "referenced_widgets": [
            "cdbda3db3620463a93b7a4da834c33d8",
            "4df10618c070404ba39f796a7b288bc3",
            "8c00cb65f07245c69052a53309110863",
            "fcfc6227d657409f996d70e6fb93858b",
            "fec1ea7123f94c62a2cc140e0c41bf54",
            "bce13764f2ae4d9987313097231a144f",
            "5758dfc5f4014cec90d20a8f5468f9ee",
            "caca043f607341f9a8fa296fa529d620",
            "3f9f0c5a5b5a4f78a195e33144ba6a0c",
            "975d3e315c0c481bad5bf4123ebdcda6",
            "2b9916946ab44b55a89440091a13360d",
            "3585f9d4914a49c9a8e0ad1a17f2102a",
            "0c66068775fc482f907c929bb4ba8565",
            "0178ac73a43243faa6c5a5afbba73790",
            "028edd78728842ff99b9c104d518f645",
            "5dd9237f562b49748c161cdd72d180b5",
            "de72dbbd78584eafb9df9848de8e818f",
            "d430919dea744b39bd55f62ec3eee3c1",
            "6391d4325eed4ba4adad799f75195ea7",
            "a77d3e4e742c408296f2741c43eac741",
            "435e63deff434f29847e7ec3d59c6d55",
            "6781c8b9f16f4beeadd2661112a164f8"
          ]
        },
        "id": "_pJ2fmzKQSqD",
        "outputId": "c6b3e47c-22dc-4c59-a0f4-107fa298c874"
      },
      "outputs": [
        {
          "name": "stderr",
          "output_type": "stream",
          "text": [
            "/usr/local/lib/python3.10/dist-packages/datasets/load.py:1429: FutureWarning: The repository for librispeech_asr contains custom code which must be executed to correctly load the dataset. You can inspect the repository content at https://hf.co/datasets/librispeech_asr\n",
            "You can avoid this message in future by passing the argument `trust_remote_code=True`.\n",
            "Passing `trust_remote_code=True` will be mandatory to load this dataset from the next major release of `datasets`.\n",
            "  warnings.warn(\n"
          ]
        },
        {
          "data": {
            "application/vnd.jupyter.widget-view+json": {
              "model_id": "cdbda3db3620463a93b7a4da834c33d8",
              "version_major": 2,
              "version_minor": 0
            },
            "text/plain": [
              "Downloading builder script:   0%|          | 0.00/11.5k [00:00<?, ?B/s]"
            ]
          },
          "metadata": {},
          "output_type": "display_data"
        },
        {
          "data": {
            "application/vnd.jupyter.widget-view+json": {
              "model_id": "3585f9d4914a49c9a8e0ad1a17f2102a",
              "version_major": 2,
              "version_minor": 0
            },
            "text/plain": [
              "Downloading readme:   0%|          | 0.00/10.2k [00:00<?, ?B/s]"
            ]
          },
          "metadata": {},
          "output_type": "display_data"
        }
      ],
      "source": [
        "from datasets import load_dataset\n",
        "\n",
        "dset = load_dataset(\"librispeech_asr\", 'clean', split=\"test\", streaming=True)"
      ]
    },
    {
      "cell_type": "code",
      "execution_count": null,
      "metadata": {
        "id": "_YmkhrHNQSqD"
      },
      "outputs": [],
      "source": [
        "dset_iter = iter(dset)  # создаем итератор"
      ]
    },
    {
      "cell_type": "code",
      "execution_count": null,
      "metadata": {
        "id": "LQZKGPpMQSqD"
      },
      "outputs": [],
      "source": [
        "#для пропуска первых n элементов датасета\n",
        "n = 0\n",
        "for _ in range(n):\n",
        "  next(dset_iter)\n",
        "  #first_element = next(dset_iter)\n",
        "  #print(first_element)\n"
      ]
    },
    {
      "cell_type": "code",
      "execution_count": null,
      "metadata": {
        "id": "9DQ4kj_WQSqE"
      },
      "outputs": [],
      "source": [
        "predictions = []\n",
        "references = []\n",
        "total_time = 0"
      ]
    },
    {
      "cell_type": "code",
      "execution_count": null,
      "metadata": {
        "colab": {
          "base_uri": "https://localhost:8080/"
        },
        "id": "QRU872y_QSqE",
        "outputId": "bd31b16b-41b2-4aac-b8ab-26a97883ad04"
      },
      "outputs": [
        {
          "name": "stdout",
          "output_type": "stream",
          "text": [
            "concord returned to its place amidst the tents\n",
            "concord returned to its place amidst the tents\n",
            "the english forwarded to the french baskets of flowers of which they had made a plentiful provision to greet the arrival of the young princess the french in return invited the english to a supper which was to be given the next day\n",
            "the english voted to the french baskets of flowers of which they had made a plentiful provision to greet the arrival of the young princess the french in return invited the english to a supper which was to be given the next day\n",
            "congratulations were poured in upon the princess everywhere during her journey\n",
            "congratulations were poured in upon the princess everywhere during her journey\n",
            "from the respect paid her on all sides she seemed like a queen and from the adoration with which she was treated by 2 or 3 she appeared an object of worship the queen mother gave the french the most affectionate reception france was her native country and she had suffered too much unhappiness in england for england to have made her forget france\n",
            "from the respect paid her on all sides she seemed like a queen and from the adoration with which she was treated by 2 or 3 she appeared an object of worship the queen mother gave the french the most affectionate reception france was her native country and she had suffered too much unhappiness in england for england to have made her forget france\n",
            "she taught her daughter then by her own affection for it that love for a country where they had both been hospitably received and where a brilliant future opened before them\n",
            "she taught her daughter then by her own affection for it that love for a country where they had both been hospitably received and where a brilliant future opened for them\n",
            "the count had thrown himself back on his seat leaning his shoulders against the partition of the tent and remained thus his face buried in his hands with heaving chest and restless limbs\n",
            "the count had thrown himself back on his seat leaning his shoulders against the partition of the tent and remained thus his face buried in his hands with heaving chest and restless limbs\n",
            "this has indeed been a harassing day continued the young man his eyes fixed upon his friend\n",
            "this has indeed been a harassing day continued the young man his eyes fixed upon his friend\n",
            "you will be frank with me i always am\n",
            "you will be frank with me i always am\n",
            "can you imagine why buckingham has been so violent i suspect\n",
            "can you imagine why buckingham has been so violent i suspect\n",
            "it is you who are mistaken raoul i have read his distress in his eyes in his every gesture and action the whole day\n",
            "it is you who are mistaken raul i have read his distress in his eyes in his every gesture and action the whole day\n",
            "i can perceive love clearly enough\n",
            "i can perceive love clearly enough\n",
            "i am convinced of what i say said the count\n",
            "i am convinced of what i say said the count\n",
            "it is annoyance then\n",
            "it is annoyance then\n",
            "in those very terms i even added more\n",
            "in those very terms i even added more\n",
            "but continued raoul not interrupted by this movement of his friend heaven be praised the french who are pronounced to be thoughtless and indiscreet reckless even are capable of bringing a calm and sound judgment to bear on matters of such high importance\n",
            "but continued rao not interrupted by this movement of his friend heaven be praised the french who are pronounced to be thoughtless and indiscreet reckless even are capable of bringing a calm and sound judgment to bear on matters of such high importance\n",
            "thus it is that the honor of 3 is saved our country is our master is and our own\n",
            "thus it is that the honor of 3 is saved our country our masters and our own\n",
            "yes i need repose many things have agitated me to day both in mind and body when you return to morrow i shall no longer be the same man\n",
            "yes i need repose many things have agitated me today both in mind and body when you return tomorrow i shall no longer be the same man\n",
            "but in this friendly pressure raoul could detect the nervous agitation of a great internal conflict\n",
            "but in this friendly pressure raoul could detect the nervous agitation of a great internal conflict\n",
            "the night was clear starlit and splendid the tempest had passed away and the sweet influences of the evening had restored life peace and security everywhere\n",
            "the night was clear starlit and splendid the tempest had passed away and the sweet influences of the evening had restored life peace and security everywhere\n",
            "upon the large square in front of the hotel the shadows of the tents intersected by the golden moonbeams formed as it were a huge mosaic of jet and yellow flagstones\n",
            "upon the large square in front of the hotel the shadows of the tents intersected by the golden moon beams formed as it were a huge mosaic of jet and yellow flagstones\n",
            "bragelonne watched for some time the conduct of the 2 lovers listened to the loud and uncivil slumbers of manicamp who snored as imperiously as though he was wearing his blue and gold instead of his violet suit\n",
            "bragalon watched for some time the conduct of the 2 lovers listen to the loud and uncivil slumbers of manicamp who snored as imperiously as though he was wearing his blue and gold instead of his violet suit\n",
            "goliath makes another discovery\n",
            "goliath makes another discovery\n",
            "they were certainly no nearer the solution of their problem\n",
            "there were certainly no near the solution of their problem\n",
            "the poor little things cried cynthia think of them having been turned to the wall all these years\n",
            "the poor little things cried cynthia think of them having been turned to the wall all these years\n",
            "now what was the sense of it 2 innocent babies like that\n",
            "now what is the sense of it 2 innocent babies like that\n"
          ]
        }
      ],
      "source": [
        "num_of_audio = 25\n",
        "for i in range(num_of_audio):\n",
        "  current_element = next(dset_iter)\n",
        "  audio = current_element[\"audio\"]\n",
        "  input_features = processor(audio[\"array\"], sampling_rate=audio[\"sampling_rate\"], return_tensors=\"pt\").input_features\n",
        "  reference = processor.tokenizer._normalize(current_element['text'])\n",
        "  references.append(reference)\n",
        "  print(reference)\n",
        "\n",
        "  start_time = time.time()\n",
        "  predicted_ids = model.generate(input_features)\n",
        "  transcription = processor.batch_decode(predicted_ids, skip_special_tokens=True)\n",
        "  end_time = time.time()\n",
        "\n",
        "  prediction = processor.tokenizer._normalize(transcription[0])\n",
        "  predictions.append(prediction)\n",
        "  print(prediction)\n",
        "\n",
        "  file_time = end_time - start_time\n",
        "  total_time += file_time"
      ]
    },
    {
      "cell_type": "code",
      "execution_count": null,
      "metadata": {
        "colab": {
          "base_uri": "https://localhost:8080/"
        },
        "id": "wicudBy4QSqF",
        "outputId": "9be2d90f-786e-48cc-afd7-58b215701e2d"
      },
      "outputs": [
        {
          "name": "stdout",
          "output_type": "stream",
          "text": [
            "25\n",
            "25\n"
          ]
        }
      ],
      "source": [
        "print(len(references))\n",
        "print(len(predictions))"
      ]
    },
    {
      "cell_type": "code",
      "execution_count": null,
      "metadata": {
        "colab": {
          "base_uri": "https://localhost:8080/"
        },
        "id": "lP3KTwT7QSqG",
        "outputId": "2b972666-8971-433a-de9f-7eb34937f566"
      },
      "outputs": [
        {
          "name": "stdout",
          "output_type": "stream",
          "text": [
            "Result wer: 3.428571428571429\n",
            "Accuracy: 0.96571\n"
          ]
        }
      ],
      "source": [
        "from jiwer import wer\n",
        "wer_result = wer(references, predictions)\n",
        "print(f\"Result wer: {wer_result * 100}\")\n",
        "accuracy = 1 - wer_result\n",
        "print(\"Accuracy: %.5f\" % accuracy)"
      ]
    },
    {
      "cell_type": "code",
      "execution_count": null,
      "metadata": {
        "colab": {
          "base_uri": "https://localhost:8080/"
        },
        "id": "EywUfrGFQSqG",
        "outputId": "99414103-8656-4b8f-cd1e-08ec564a6965"
      },
      "outputs": [
        {
          "name": "stdout",
          "output_type": "stream",
          "text": [
            "Общее время: 196.64 секунд\n",
            "Среднее время на одно аудио: 7.87 секунд\n"
          ]
        }
      ],
      "source": [
        "print(f\"Общее время: {total_time:.2f} секунд\")\n",
        "print(f\"Среднее время на одно аудио: {total_time/num_of_audio:.2f} секунд\")"
      ]
    },
    {
      "cell_type": "code",
      "execution_count": null,
      "metadata": {
        "id": "zn7UFWHzQSqG"
      },
      "outputs": [],
      "source": [
        "listwer = []\n",
        "listtime = []"
      ]
    },
    {
      "cell_type": "code",
      "execution_count": null,
      "metadata": {
        "colab": {
          "base_uri": "https://localhost:8080/"
        },
        "id": "5SqaT9owQSqH",
        "outputId": "708e17c3-f81a-42ef-8ff7-27442ebf2aaa"
      },
      "outputs": [
        {
          "name": "stdout",
          "output_type": "stream",
          "text": [
            "but joyce had not been listening all at once she put down her candle on the table and faced her companion\n",
            "but joyce had not been listening all at once she put down her candle on the table and faced her companion\n",
            "the twin brother did something she did not like and she turned his picture to the wall\n",
            "the twin brother did something she did not like and she turned his picture to the wall\n",
            "hers happened to be in the same frame too but she evidently did not care about that\n",
            "hers happened to be on the same frame too but she evidently did not care about it\n",
            "now what have you to say cynthia sprague\n",
            "now what have you to say cynthia sprague\n",
            "i thought we were stumped again when i 1st saw that picture but it has been of some use after all\n",
            "i thought we were stumped again when i 1st saw that picture but it has been of some use after all\n",
            "do you suppose the miniature was a copy of the same thing\n",
            "do you suppose the miniature was a copy of the same thing\n",
            "what in the world is that queried joyce\n",
            "what in the world is it query choice\n",
            "they worry me terribly and besides i would like to see what this lovely furniture looks like without such quantities of dust all over it good scheme cyn\n",
            "they were in me terribly and besides i would like to see what this lovely furniture looks like without such quantities of dust all over it good scheme sin\n",
            "we will come in here this afternoon with old clothes on and have a regular house cleaning\n",
            "we will come in here this afternoon with old clothes on and have a regular house cleaning\n",
            "it can not hurt anything i am sure for we will not disturb things at all\n",
            "it can not hurt anything i am sure for we will not disturb things at all\n",
            "this thought however did not enter the heads of the enthusiastic pair\n",
            "this thought however did not enter the heads of the enthusiastic pair\n",
            "smuggling the house cleaning paraphernalia into the cellar window unobserved that afternoon proved no easy task for cynthia had added a whisk broom and dust pan to the outfit\n",
            "smuggling the house cleaning paraphernalia into the cellar window unobserved that afternoon proved no easy task for cynthia had added a whisk broom and dustpan to the outfit\n",
            "the lure proved too much for him and he came sporting after it as friskily as a young kitten much to cynthia is delight when she caught sight of him\n",
            "the lure proved too much for him and he came sporting after it as friscally as a young kitten much to cynthia is delight when she caught sight of him\n",
            "0 let him come along she urged i do love to see him about that old house\n",
            "0 let him come along she urged i do love to see him about that old house\n",
            "he makes it sort of cozier\n",
            "he makes it sort of cozier\n",
            "now let us dust the furniture and pictures\n",
            "now let us dust the furniture in pictures\n",
            "yet little as it was it had already made a vast difference in the aspect of the room\n",
            "yet little as it was it had already made a vast difference in the aspect of the room\n",
            "surface dust at least had been removed and the fine old furniture gave a hint of its real elegance and polish\n",
            "surface dust at least had been removed and the fine old furniture gave a hint of its real elegance and polish\n",
            "then she suddenly remarked\n",
            "then she suddenly remarked\n",
            "and my pocket money is getting low again and you have not any left as usual\n",
            "and my pocket money is getting low again and you have it any left as usual\n",
            "they say illumination by candle light is the prettiest in the world\n",
            "they say illumination by candlelight is the prettiest in the world\n",
            "why it is goliath as usual they both cried peering in\n",
            "why it is goliath as usual they both cried peering in\n",
            "is not he the greatest for getting into odd corners\n",
            "is not hey the greatest for getting into odd corners\n",
            "forgetting all their weariness they seized their candles and scurried through the house finding an occasional paper tucked away in some odd corner\n",
            "forgetting all their weariness they seize their candles and scurry through the house finding on occasional paper tucked away in some odd corner\n",
            "well i am convinced that the boarded up house mystery happened not earlier than april 16th 1861 and probably not much later\n",
            "well i am convinced that the boarded up house mystery happened not earlier than april 16th 1861 and probably not much later\n",
            "no words were spoken no language was uttered save that of wailing and hissing and that somehow was indistinct as if it existed in fancy and not in reality\n",
            "no words were spoken no language was uttered saved out of wailing and hissing and that somehow was indistinct as if it existed in fancy and not in reality\n",
            "i heard a noise behind i turned and saw kaffar his black eyes shining while in his hand he held a gleaming knife he lifted it above his head as if to strike but i had the strength of 10 men and i hurled him from me\n",
            "i heard a noise behind i turned and saw kaffir his black eyes shining while in his hand he held a gleaming knife he lifted it above his head as if to strike but i had the strength of 10 men and i hurled him from me\n",
            "onward said a distant voice\n",
            "onward said a distant voice\n",
            "no sound broke the stillness of the night\n",
            "no sound broke the stillness of the night\n",
            "the story of its evil influence came back to me and in my bewildered condition i wondered whether there was not some truth in what had been said\n",
            "the story of its evil influence came back to me and in my bewildered condition i wondered whether there was not some truth in what had been said\n",
            "what was that\n",
            "what was that\n",
            "what then a human hand large and shapely appeared distinctly on the surface of the pond\n",
            "what then a human hand large and shapely appeared distinctly on the surface of the pond\n",
            "nothing more not even the wrist to which it might be attached\n",
            "nothing more not even the wrist to which it might be attached\n",
            "it did not beckon or indeed move at all it was as still as the hand of death\n",
            "it did not beckon or indeed move at all it was as still as the hand of death\n",
            "i awoke to consciousness fighting at 1st it seemed as if i was fighting with a phantom but gradually my opponent became more real to me it was kaffar\n",
            "i awoke to consciousness fighting at 1st it seemed as if i was fighting with a phantom but gradually my opponent became more real to me it was kaffir\n",
            "a sound of voices a flash of light\n",
            "a sound of voices a flash of light\n",
            "a feeling of freedom and i was awake where\n",
            "a feeling of freedom and i was awake where\n",
            "said another voice which i recognized as voltaire is kaffar\n",
            "he said another voice which i recognized as vultures caffer\n",
            "i had scarcely known what i had been saying or doing up to this time but as he spoke i looked at my hand\n",
            "i had scarcely known what i had been saying or doing up to this time but as he spoke i looked at my hand\n",
            "in the light of the moon i saw a knife red with blood and my hand too was also discolored\n",
            "in the light of the moon i saw a knife red with blood and my hand too was also discolored\n",
            "i do not know i am dazed bewildered\n",
            "i do not know i am dazed be willed\n",
            "but that is kaffar is knife\n",
            "but that is kaffer is knife\n",
            "i know he had it this very evening\n",
            "i know he had it this very evening\n",
            "i remember saying have we been together\n",
            "i remembered saying have we been together\n",
            "voltaire picked up something from the ground and looked at it\n",
            "the wheelchair picked up something from the ground and looked at it\n",
            "i say you do know what this means and you must tell us\n",
            "i say you do know what this means and you must tell us\n",
            "a terrible thought flashed into my mind\n",
            "a terrible thought flashed into my mind\n",
            "i had again been acting under the influence of this man is power\n",
            "i had again been acting under the influence of this man is power\n",
            "perchance too kaffar is death might serve him in good stead\n",
            "per chance too caffer is death might serve him in good stead\n",
            "my tongue refused to articulate my power of speech left me\n",
            "my tongue refused to articulate my power of speech left me\n",
            "my position was too terrible\n",
            "my position was too terrible\n",
            "my overwrought nerves yielded at last\n",
            "my overwrought nerves yielded at last\n",
            "for some time after that i remembered nothing distinctly\n",
            "for some time after that i remembered nothing distinctly\n",
            "notwithstanding the high resolution of hawkeye he fully comprehended all the difficulties and danger he was about to incur\n",
            "notwithstanding the high resolution of hawkeye he fully comprehended all the difficulties and danger he was about to incur\n",
            "in his return to the camp his acute and practiced intellects were intently engaged in devising means to counteract a watchfulness and suspicion on the part of his enemies that he knew were in no degree inferior to his own\n",
            "in his return to the camp his acute and practiced intellects were intently engaged in devising means to counteract a watchfulness and suspicion on the part of his enemies that he knew were in no degree inferior to his own\n",
            "in other words while he had implicit faith in the ability of balaam is ass to speak he was somewhat skeptical on the subject of a bear is singing and yet he had been assured of the latter on the testimony of his own exquisite organs\n",
            "in other words while he had implicit faith in the ability of balaam is ass to speak he was somewhat skeptical on the subject of a bear is singing and yet he had been assured of the latter on the testimony of his own exquisite organs\n",
            "there was something in his air and manner that betrayed to the scout the utter confusion of the state of his mind\n",
            "there was something in his air and manner that betrayed to the scout the utter confusion of the state of his mind\n",
            "the ingenious hawkeye who recalled the hasty manner in which the other had abandoned his post at the bedside of the sick woman was not without his suspicions concerning the subject of so much solemn deliberation\n",
            "the ingenious hawkeye who recalled the hasty manner in which the other had abandoned his post at the bedside of the sick woman was not without his suspicions concerning the subject of so much solemn deliberation\n",
            "the bear shook his shaggy sides and then a well known voice replied\n",
            "the bear shook his shaggy sides and then a well known voice replied\n",
            "can these things be returned david breathing more freely as the truth began to dawn upon him\n",
            "can these things be return david breathing more freely as the truth began to dawn upon him\n",
            "come come returned hawkeye uncasing his honest countenance the better to assure the wavering confidence of his companion you may see a skin which if it be not as white as one of the gentle ones has no tinge of red to it that the winds of the heaven and the sun have not bestowed now let us to business\n",
            "come come returned hawkeye uncasing his honest countenance the better to assure the wavering confidence of his companion you may see a skin which if it be not as white as one of the gentle ones has no tinge of red to it that the winds of the heaven and the sun have not bestowed now let us to business\n",
            "the young man is in bondage and much i fear his death is decreed\n",
            "the young man is in bondage and much i fear his death is decreed\n",
            "i greatly mourn that one so well disposed should die in his ignorance and i have sought a goodly hymn can you lead me to him\n",
            "i greatly mourn that one so well disposed should die in his ignorance and i have sought her goodly him can you lead me to him\n",
            "the task will not be difficult returned david hesitating though i greatly fear your presence would rather increase than mitigate his unhappy fortunes\n",
            "the task will not be difficult returned david hesitating though i greatly fear your presence would rather increase than mitigate his unhappy fortunes\n",
            "the lodge in which uncas was confined was in the very center of the village and in a situation perhaps more difficult than any other to approach or leave without observation\n",
            "the lodge in which uncus was confined was in the very center of the village and in a situation perhaps more difficult than any other to approach or leave without observation\n",
            "4 or 5 of the latter only lingered about the door of the prison of uncas wary but close observers of the manner of their captive\n",
            "4 or 5 of the latter only lingered about the door of the prison of uncus wary but close observers of the manner of their captive\n",
            "delivered in a strong tone of assent announced the gratification the savage would receive in witnessing such an exhibition of weakness in an enemy so long hated and so much feared\n",
            "delivered in a strong tone of assent announced the gratification the savage would receive in witnessing such an exhibition of weakness and an enemy so long hated and so much feared\n",
            "they drew back a little from the entrance and motioned to the supposed conjurer to enter\n",
            "they drew back a little from the entrance and motioned to the supposed conjurer to enter\n",
            "but the bear instead of obeying maintained the seat it had taken and growled\n",
            "but the bear instead of obeying maintained the seed it had taken and growled\n",
            "the cunning man is afraid that his breath will blow upon his brothers and take away their courage too continued david improving the hint he received they must stand further off\n",
            "the cunning man is afraid that his breath will blow upon his brothers and take away their courage too continued david improving the hint he received they must stand further off\n",
            "then as if satisfied of their safety the scout left his position and slowly entered the place\n",
            "then as if satisfied of their safety the scout left his position and slowly entered the place\n",
            "it was silent and gloomy being tenanted solely by the captive and lighted by the dying embers of a fire which had been used for the purposed of cookery\n",
            "it was silent and gloomy being tenanted solely by the captive and lighted by the dying embers of a fire which had been used for the purpose of cookery\n",
            "uncas occupied a distant corner in a reclining attitude being rigidly bound both hands and feet by strong and painful withes\n",
            "unkas occupy a distant corner in a reclining attitude being rigidly bound both hands and feet by strong and painful widths\n",
            "the scout who had left david at the door to ascertain they were not observed thought it prudent to preserve his disguise until assured of their privacy\n",
            "the scout who had left david at the door to ascertain they were not observed thought it prudent to preserve his disguise until assured of their privacy\n",
            "what shall we do with the mingoes at the door they count 6 and this singer is as good as nothing\n",
            "what shall we do with the mingos at the door they count 6 and this singer is as good as nothing\n",
            "the delawares are children of the tortoise and they outstrip the deer\n",
            "the delaware is are children of the tortoise and they outstrip the deer\n",
            "uncas who had already approached the door in readiness to lead the way now recoiled and placed himself once more in the bottom of the lodge\n",
            "uncus who had already approached the door in readiness to lead the way now recoiled and placed himself once more in the bottom of the lodge\n",
            "but hawkeye who was too much occupied with his own thoughts to note the movement continued speaking more to himself than to his companion\n",
            "but hawkeye who was too much occupied with his own thoughts to note the movement continued speaking more to himself than to his companion\n",
            "so uncas you had better take the lead while i will put on the skin again and trust to cunning for want of speed\n",
            "so uncus you had better take the lead while i will put on the skin again and trust to cunning for want of speed\n",
            "well what can not be done by main courage in war must be done by circumvention\n",
            "well what can not be done by main courage and war must be done by circumvention\n",
            "as soon as these dispositions were made the scout turned to david and gave him his parting instructions\n",
            "as soon as these dispositions were made the scout turned to david and gave him his parting instructions\n",
            "my pursuits are peaceful and my temper i humbly trust is greatly given to mercy and love returned david a little nettled at so direct an attack on his manhood but there are none who can say that i have ever forgotten my faith in the lord even in the greatest straits\n",
            "my pursuits are peaceful and my temper i humbly trust is greatly given to mercy and love returned david a little net hold at so direct an attack on his manhood but there are none who can say that i have ever forgotten my faith in the lord even in the greatest straits\n",
            "if you are not then knocked on the head your being a non composser will protect you and you will then have a good reason to expect to die in your bed\n",
            "if you are not then knocked on the head you are being a non composer will protect you and you will then have a good reason to expect to die in your bed\n",
            "so choose for yourself to make a rush or tarry here\n",
            "so choose for yourself to make a rush or tarry here\n",
            "bravely and generously has he battled in my behalf and this and more will i dare in his service\n",
            "bravely and generously has he battled in my behalf and this and more will i dare in his service\n",
            "keep silent as long as may be and it would be wise when you do speak to break out suddenly in one of your shoutings which will serve to remind the indians that you are not altogether as responsible as men should be\n",
            "keep silent as long as may be and it would be wise when you do speak to break out suddenly in one of your shoutings which will serve to remind the indians that you are not altogether as responsible as men should be\n",
            "if however they take your scalp as i trust and believe they will not depend on it uncas and i will not forget the deed but revenge it as becomes true warriors and trusty friends\n",
            "if however they take your scalp as i trust and believe they will not depend on it uncus and i will not forget the deed but revenge it as becomes true warriors and trusty friends\n",
            "hold said david perceiving that with this assurance they were about to leave him i am an unworthy and humble follower of one who taught not the damnable principle of revenge\n",
            "hold said david perceiving that with this assurance they were about to leave him i am an unworthy and humble follower of one who taught not the damnable principle of revenge\n",
            "then heaving a heavy sigh probably among the last he ever drew in pining for a condition he had so long abandoned he added it is what i would wish to practice myself as one without a cross of blood though it is not always easy to deal with an indian as you would with a fellow christian\n",
            "then heaving a heavy sigh probably among the last he ever drew in pining for a condition he had so long abandoned he added it is what i would wish to practice myself as one without a cross of blood though it is not always easy to deal with an indian as you would with a fellow christian\n",
            "god bless you friend i do believe your scent is not greatly wrong when the matter is duly considered and keeping eternity before the eyes though much depends on the natural gifts and the force of temptation\n",
            "god bless you friend i do believe your sin has not greatly wrong when the matter is duly considered and keeping eternity before the eyes though much depends on the natural gifts and the force of temptation\n",
            "the delaware dog he said leaning forward and peering through the dim light to catch the expression of the other is features is he afraid\n",
            "the delaware dog he said leaning forward and peering through the dim light to catch the expression of the other is features is he afraid\n",
            "will the hurons hear his groans\n",
            "will the hurans hear his groans\n",
            "the mohican started on his feet and shook his shaggy covering as though the animal he counterfeited was about to make some desperate effort\n",
            "the mohican started on his feet and shook his shaggy covering as though the animal he counterfeited was about to make some desperate effort\n",
            "he had no occasion to delay for at the next instant a burst of cries filled the outer air and ran along the whole extent of the village\n",
            "he had no occasion to delay for at the next instant a burst of cries filled the outer air and ran along the whole extent of the village\n",
            "uncas cast his skin and stepped forth in his own beautiful proportions\n",
            "uncus cast his skin and stepped forth in his own beautiful proportions\n",
            "since the period of our tale the active spirit of the country has surrounded it with a belt of rich and thriving settlements though none but the hunter or the savage is ever known even now to penetrate its wild recesses\n",
            "since the period of artele the active spirit of the country has surrounded it with a belt of rich and thriving settlements though none but the hunter or the savage is ever known even now to penetrate its wild recesses\n",
            "the dews were suffered to exhale and the sun had dispersed the mists and was shedding a strong and clear light in the forest when the travelers resumed their journey\n",
            "the dews were suffered to exhale and the sun had dispersed the mists and was shedding a strong and clear light in the forest when the travelers resumed their journey\n",
            "after proceeding a few miles the progress of hawkeye who led the advance became more deliberate and watchful\n",
            "after proceeding a few miles the progress of hakai who led the advance became more deliberate and watchful\n",
            "he often stopped to examine the trees nor did he cross a rivulet without attentively considering the quantity the velocity and the color of its waters\n",
            "he often stopped to examine the trees nor did he cross a rivulet without attentively considering the quantity the velocity and the color of its waters\n",
            "distrusting his own judgment his appeals to the opinion of chingachgook were frequent and earnest\n",
            "distrusting his own judgment his appeals to the opinion of chinggacuk were frequent and earnest\n",
            "yet here are we within a short range of the scaroons and not a sign of a trail have we crossed\n",
            "yet here are we within a short range of the skaroons and not a sign of a trail have we crossed\n",
            "let us retrace our steps and examine as we go with keener eyes\n",
            "let us retrace our steps and examine as we go with keener eyes\n",
            "chingachgook had caught the look and motioning with his hand he bade him speak\n",
            "chinggac guk had caught the look and motioning with his hand he bade him speak\n",
            "the eyes of the whole party followed the unexpected movement and read their success in the air of triumph that the youth assumed\n",
            "the eyes of the whole party followed the unexpected movement and read their success in the air of triumph that the youth assumed\n",
            "it would have been more wonderful had he spoken without a bidding\n",
            "it would have been more wonderful had he spoken without a bidding\n",
            "see said uncas pointing north and south at the evident marks of the broad trail on either side of him the dark hair has gone toward the forest\n",
            "see seroncus pointing north and south at the evident marks of the broad trail on either side of him the dark hair has gone toward the forest\n",
            "if a rock or a rivulet or a bit of earth harder than common severed the links of the clew they followed the true eye of the scout recovered them at a distance and seldom rendered the delay of a single moment necessary\n",
            "if a rock or a rivulet or a bit of earth harder than common severed the links of the clue they followed the true eye of the scout recovered them at a distance and seldom rendered the delay of a single moment necessary\n",
            "extinguished brands were lying around a spring the offals of a deer were scattered about the place and the trees bore evident marks of having been browsed by the horses\n",
            "extinguished brands were lying around a spring the offals of a deer were scattered about the place and the trees bore evident marks of having been browsed by the horses\n",
            "a circle of a few 100 feet in circumference was drawn and each of the party took a segment for his portion\n",
            "a circle of a few 100 feet in circumference was drawn and each of the party took a segment for his portion\n",
            "the examination however resulted in no discovery\n",
            "the examination however resulted in no discovery\n",
            "the whole party crowded to the spot where uncas pointed out the impression of a moccasin in the moist alluvion\n",
            "the whole party crowded to the spot where uncus pointed out the impression of a moccasin in the moist alluvian\n",
            "run back uncas and bring me the size of the singer is foot\n",
            "run back uncus and bring me the size of the singer is foot\n",
            "110 clock had struck it was a fine clear night they were the only persons on the road and they sauntered leisurely along to avoid paying the price of fatigue for the recreation provided for the toledans in their valley or on the banks of their river\n",
            "110 clock had struck it was a fine clear night there were the only persons on the road and they sauntered leisurely along to avoid paying the price of fatigue for the recreation provided for the toledans in the valley or on the banks of their river\n",
            "secure as he thought in the careful administration of justice in that city and the character of its well disposed inhabitants the good hidalgo was far from thinking that any disaster could befal his family\n",
            "secure as he thought in the careful administration of justice in that city and the character of its well disposed inhabitants the good hidalgo was far from thinking that any disaster could befall his family\n",
            "rodolfo and his companions with their faces muffled in their cloaks stared rudely and insolently at the mother the daughter and the servant maid\n",
            "rudolfo and his companions with their faces muffled in their cloaks stared rudely and insolently at the mother the daughter and the servant made\n",
            "in a moment he communicated his thoughts to his companions and in the next moment they resolved to turn back and carry her off to please rodolfo for the rich who are open handed always find parasites ready to encourage their bad propensities and thus to conceive this wicked design to communicate it approve it resolve on ravishing leocadia and to carry that design into effect was the work of a moment\n",
            "in a moment he communicated his thoughts to his companions and in the next moment they resolved to turn back and carry her off to pleas rudolfo for the rich who are open handed always find parasites ready to encourage their bad propensities and thus to conceive this wicked design to communicate it approve it resolve unravellingly eucadia and to carry that design into effect was the work of a moment\n",
            "they drew their swords hid their faces in the flaps of their cloaks turned back and soon came in front of the little party who had not yet done giving thanks to god for their escape from those audacious men\n",
            "they drew their swords hid their faces in the flaps of their cloaks turned back and soon came in front of the little party who had not yet done giving thanks to god for their escape from those audacious men\n",
            "finally the one party went off exulting and the other was left in desolation and woe\n",
            "finally the one party went off exalting and the other was left in desolation and woe\n",
            "rodolfo arrived at his own house without any impediment and leocadia is parents reached theirs heart broken and despairing\n",
            "rudolfo arrived at his own house without any impediment and leocadia is parents reached theirs heartbroken and despairing\n",
            "meanwhile rodolfo had leocadia safe in his custody and in his own apartment\n",
            "meanwhile rudolfo had leocadia safe in his custody and in his own apartment\n",
            "who touches me am i in bed\n",
            "who touches me am i in bed\n",
            "mother dear father do you hear me\n",
            "mother dear father do you hear me\n",
            "it is the only amends i ask of you for the wrong you have done me\n",
            "it is the only amends i ask of you for the wrong you have done me\n",
            "she found the door but it was locked outside\n",
            "she found the door but it was locked outside\n",
            "she succeeded in opening the window and the moonlight shone in so brightly that she could distinguish the color of some damask hangings in the room\n",
            "she succeeded in opening the window and the moonlight shone in so brightly that she could distinguish the color of some damask hanging in the room\n",
            "she saw that the bed was gilded and so rich that it seemed that of a prince rather than of a private gentleman\n",
            "she saw that the bed was gilded and so rich that it seemed that of a prince rather than of a private gentleman\n",
            "among other things on which she cast her eyes was a small crucifix of solid silver standing on a cabinet near the window\n",
            "among other things on which she cast her eyes was a small crucifix of solid silver standing on a cabinet near the window\n",
            "this person was rodolfo who though he had gone to look for his friends had changed his mind in that respect not thinking it advisable to acquaint them with what had passed between him and the girl\n",
            "this person was redolfo who though he had gone to look for his friends had changed his mind in that respect not thinking it advisable to acquaint them with what had passed between him and the girl\n",
            "on the contrary he resolved to tell them that repenting of his violence and moved by her tears he had only carried her half way towards his house and then let her go\n",
            "on the contrary he resolved to tell them that repenting of his violence and moved by a tear she had only carried her half way towards his house and then let her go\n",
            "choking with emotion leocadi made a sign to her parents that she wished to be alone with them\n",
            "choking with emotion leocadia made a sign to her parents that she wished to be alone with them\n",
            "that would be very well my child replied her father if your plan were not liable to be frustrated by ordinary cunning but no doubt this image has been already missed by its owner and he will have set it down for certain that it was taken out of the room by the person he locked up there\n",
            "that would be very well my child replied her father if your plan were not liable to be frustrated by ordinary cunning but no doubt this image had been already missed by its owner and he will have set it down for certain that it was taken out of the room by the person he locked up there\n",
            "what you had best do my child is to keep it and pray to it that since it was a witness to your undoing it will deign to vindicate your cause by its righteous judgment\n",
            "what you had best do my child is to keep it and pray to it that since it was a witness to your undoing it will deign to vindicate your cause by its righteous judgment\n",
            "thus did this humane and right minded father comfort his unhappy daughter and her mother embracing her again did all she could to soothe her feelings\n",
            "thus did the humane and right minded father comfort his unhappy daughter and her mother embracing her again did all she could to soothe the feelings\n",
            "she meanwhile passed her life with her parents in the strictest retirement never letting herself be seen but shunning every eye lest it should read her misfortune in her face\n",
            "she meanwhile passed her life with her parents in the strictest retirement never letting herself be seen but shunning every eye lest it should read her misfortune in her face\n",
            "time rolled on the hour of her delivery arrived it took place in the utmost secrecy her mother taking upon her the office of midwife and she gave birth to a son one of the most beautiful ever seen\n",
            "time rolled on the hour of her delivery arrived it took place in the utmost secrecy her mother taking upon her the office of midwife and she gave birth to a son one of the most beautiful ever seen\n",
            "when the boy walked through the streets blessings were showered upon him by all who saw him blessings upon his beauty upon the mother that bore him upon the father that begot him upon those who brought him up so well\n",
            "when the boy walked through the streets blessings were showered upon him by all who saw him blessing upon his beauty upon the mother that bore him upon the father that begot him upon those who brought him up so well\n",
            "one day when the boy was sent by his grandfather with a message to a relation he passed along a street in which there was a great concourse of horsemen\n",
            "one day when the boy was sent by his grandfather with a message to a relation he passed along a street in which there was a great concourse of horsemen\n",
            "the bed she too well remembered was there and above all the cabinet on which had stood the image she had taken away was still on the same spot\n",
            "the bed she too well remembered was there and above all the cabinet on which had stood the image she had taken away was still on the same spot\n",
            "luis was out of danger in a fortnight in a month he rose from his bed and during all that time he was visited daily by his mother and grandmother and treated by the master and mistress of the house as if he was their own child\n",
            "louis was out of danger in a fortnight in a month he rose from his bed and during all that time he was visited daily by his mother and grandmother and treated by the master and mistress of the house as if he was their own child\n",
            "thus saying and pressing the crucifix to her breast she fell fainting into the arms of dona estafania who as a gentlewoman to whose sex pity is as natural as cruelty is to man instantly pressed her lips to those of the fainting girl shedding over her so many tears that there needed no other sprinkling of water to recover leocadia from her swoon\n",
            "thus saying and pressing the crucifix to her breast she fell fainting into the arms of donna estefania who has a gentle woman to whose sex pity is as natural as cruelty as 2 men instantly pressed her lips to those of the fainting girl shedding over her so many tears that there needed no other sprinkling of water to recover leocadia from her soon\n",
            "i have great things to tell you senor said dona estafania to her husband the cream and substance of which is this the fainting girl before you is your daughter and that boy is your grandson\n",
            "i have great things to tell you senor said donna estefania to her husband the cream and substance of which is this the fainting girl before you is your daughter and the boy is your grandson\n",
            "this truth which i have learned from her lips is confirmed by his face in which we have both beheld that of our son\n",
            "this truth which i have learned from her lips is confirmed by his face in which we have both beheld that of our son\n",
            "just then leocadia came to herself and embracing the cross seemed changed into a sea of tears and the gentleman remained in utter bewilderment until his wife had repeated to him from beginning to end leocadia is whole story and he believed it through the blessed dispensation of heaven which had confirmed it by so many convincing testimonies\n",
            "just then leocadia came to herself and embracing the cross seemed changed into a sea of tears and the gentleman remaining in utter bewilderment until his wife had repeated to him from beginning to end leocadia is whole story and he believed it through the blessed dispensation of heaven which had confirmed it by so many convincing testimonies\n",
            "so persuasive were her entreaties and so strong her assurances that no harm whatever could result to them from the information she sought they were induced to confess that one summer is night the same she had mentioned themselves and another friend being out on a stroll with rodolfo they had been concerned in the abduction of a girl whom rodolfo carried off whilst the rest of them detained her family who made a great outcry and would have defended her if they could\n",
            "so persuasive were her entreaties and so strong her assurances that no harm whatever could result to them from the information she sought they were induced to confess that one summer is night the same she had mentioned themselves and another friend being out on a stroll with rodolfo they had been concerned in the abduction of a girl whom rodolfo carried off whilst the rest of them detained her family who made a great outcry and would have defended her if they could\n",
            "for god is sake my lady mother give me a wife who would be an agreeable companion not one who will disgust me so that we may both bear evenly and with mutual good will the yoke imposed on us by heaven instead of pulling this way and that way and fretting each other to death\n",
            "for god is sake my lady mother give me a wife who would be an agreeable companion not one who will disgust me so that we may both bear evenly and with mutual goodwill the yoke imposed on us by heaven instead of pulling this way and that way and fretting each other to death\n",
            "her bearing was graceful and animated she led her son by the hand and before her walked 2 maids with wax lights and silver candlesticks\n",
            "her bearing was graceful and animated she led her son by the hand and before her walked 2 maids with wax lights and silver candlesticks\n",
            "all rose to do her reverence as if something from heaven had miraculously appeared before them but gazing on her entranced with admiration not one of them was able to address a single word to her\n",
            "all rose to do her reverence as if something from heaven had miraculously appeared before them but gazing on her and trans with admiration not one of them was able to address a single word to her\n",
            "she reflected how near she stood to the crisis which was to determine whether she was to be blessed or unhappy for ever and racked by the intensity of her emotions she suddenly changed color her head dropped and she fell forward in a swoon into the arms of the dismayed estafania\n",
            "she reflected how near she stood to the crisis which was to determine whether she was to be blessed or unhappy for ever and wracked by the intensity of her emotions she suddenly changed color her head dropped and she fell forward in a swoon into the arms of the dismayed estafania\n",
            "his mother had left her to him as being her destined protector but when she saw that he too was insensible she was near making a 3rd and would have done so had he not come to himself\n",
            "his mother had left her to him as being her destined protector but when she saw that he too was insensible she was near making a 3rd and would have done so had he not come to himself\n",
            "know then son of my heart that this fainting lady is your real bride i say real because she is the one whom your father and i have chosen for you and the portrait was a pretense\n",
            "no then son of my heart that this fainting lady is your real bride i say real because she is the one whom your father and i have chosen for you and the portrait was a pretense\n",
            "just at the moment when the tears of the pitying beholders flowed fastest and their ejaculations were most expressive of despair leocadia gave signs of recovery and brought back gladness to the hearts of all\n",
            "just at the moment when the tears of the pitting beholders flowed fastest and their ejaculations were most expressive of despair leocadia gave signs of recovery and brought back gladness to the hearts of all\n",
            "when she came to her senses and blushing to find herself in rodolfo is arms would have disengaged herself no senora he said that must not be strive not to withdraw from the arms of him who holds you in his soul\n",
            "when she came to her senses and blushing to find herself in rodolfo is arms would have disengaged herself no senora he said that must not be strive not to withdraw from the arms of him who holds you in his soul\n",
            "this was done for the event took place at a time when the consent of the parties was sufficient for the celebration of a marriage without any of the preliminary formalities which are now so properly required\n",
            "this was done for the event took place at a time when the consent of the parties was sufficient for the celebration of a marriage without any of the preliminary formalities which are now so properly required\n",
            "nor was rodolfo less surprised than they and the better to assure himself of so wonderful a fact he begged leocadia to give him some token which should make perfectly clear to him that which indeed he did not doubt since it was authenticated by his parents\n",
            "nor was rudolfo less surprised than they and the better to assure himself of so wonderful a fact he begged locadia to give him some token which should make perfectly clear to him that which indeed he did not doubt since it was authenticated by his parents\n",
            "and how odd the directions will look\n",
            "and how odd the directions will look\n",
            "poor alice\n",
            "poor alice\n",
            "it was the white rabbit returning splendidly dressed with a pair of white kid gloves in one hand and a large fan in the other he came trotting along in a great hurry muttering to himself as he came 0 the duchess the duchess\n",
            "it was the white rabbit returning splendidly dressed with a pair of white kid gloves in one hand and a large fan in the other he came trotting along in a great hurry muttering to himself as he came 0 the duchess the duchess\n",
            "0 will not she be savage if i have kept her waiting\n",
            "0 will not she be savage if i have kept her waiting\n",
            "alice took up the fan and gloves and as the hall was very hot she kept fanning herself all the time she went on talking dear dear how queer everything is to day\n",
            "alice took up the fan and gloves and as the hall was very hot she kept fanning herself all the time she went on talking dear dear how queer everything is today\n",
            "and yesterday things went on just as usual\n",
            "and yesterday things went on just as usual\n",
            "i wonder if i have been changed in the night\n",
            "i wonder if i have been changed in the night\n",
            "i almost think i can remember feeling a little different\n",
            "i almost think i can remember feeling a little different\n",
            "i will try if i know all the things i used to know\n",
            "i will try if i know all the things i used to know\n",
            "i shall never get to 20 at that rate\n",
            "i shall never get to 20 at that rate\n",
            "how cheerfully he seems to grin how neatly spread his claws and welcome little fishes in with gently smiling jaws\n",
            "how cheerfully he seems to grin how neatly spread his claws and welcome little fishes in with gently smiling jaws\n",
            "no i have made up my mind about it if i am mabel i will stay down here\n",
            "no i have made up my mind about it if i am able i will stay down here\n",
            "it will be no use their putting their heads down and saying come up again dear\n",
            "it will be no use they are putting their heads down and saying come up again dear\n",
            "i am so very tired of being all alone here\n",
            "i am so very tired of being all alone here\n",
            "and i declare it is too bad that it is\n",
            "and i declare it is too bad that it is\n",
            "i wish i had not cried so much said alice as she swam about trying to find her way out\n",
            "i wish i had not cried so much said alice as she swam about trying to find her way out\n",
            "i shall be punished for it now i suppose by being drowned in my own tears\n",
            "i shall be punished for it now i suppose by being drowned in my own tears\n",
            "that will be a queer thing to be sure\n",
            "that will be a queer thing to be sure\n",
            "i am very tired of swimming about here 0 mouse\n",
            "i am very tired of swimming about here 0 mouse\n",
            "cried alice again for this time the mouse was bristling all over and she felt certain it must be really offended\n",
            "cried alice again for this time the mouse was bristling all over and she felt certain it must be really offended\n",
            "we will not talk about her any more if you would rather not we indeed\n",
            "we will not talk about her anymore if you would rather not we indeed\n",
            "saturday august 15th the sea unbroken all round no land in sight\n",
            "saturday august 15th the sea unbroken all round no land in sight\n",
            "the horizon seems extremely distant\n",
            "the horizon seems extremely distant\n",
            "all my danger and sufferings were needed to strike a spark of human feeling out of him but now that i am well his nature has resumed its sway\n",
            "all my danger and sufferings were needed to strike a spark of human feeling out of him but now that i am well his nature has resumed its sway\n",
            "you seem anxious my uncle i said seeing him continually with his glass to his eye anxious\n",
            "you seem anxious my uncle i said seeing him continually with his glass to his eye anxious\n",
            "one might be with less reason than now\n",
            "one might be with less reason than now\n",
            "i am not complaining that the rate is slow but that the sea is so wide\n",
            "i am not complaining that the rate is slow but that the c is so wide\n",
            "we are losing time and the fact is i have not come all this way to take a little sail upon a pond on a raft\n",
            "we are losing time and the fact is i have not come all this way to take a little sail upon a pond on a raft\n",
            "he called this sea a pond and our long voyage taking a little sail\n",
            "he called this sea upon and our long voyage taking a little sail\n",
            "therefore do not talk to me about views and prospects\n",
            "therefore do not talk to me about views and prospects\n",
            "i take this as my answer and i leave the professor to bite his lips with impatience\n",
            "i take this as my answer and i leave the professor to bite his lips with impatience\n",
            "sunday august 16th\n",
            "sunday august 16th\n",
            "nothing new weather unchanged the wind freshens\n",
            "nothing new weather unchanged the wind freshens\n",
            "but there seemed no reason to fear\n",
            "but there seemed no reason of fear\n",
            "the shadow of the raft was clearly outlined upon the surface of the waves\n",
            "the shadow of the raft was clearly outlined upon the surface of the waves\n",
            "truly this sea is of infinite width\n",
            "truly this sea is of infinite worth\n",
            "it must be as wide as the mediterranean or the atlantic and why not\n",
            "it must be as wide as the mediterranean or the atlantic and why not\n",
            "these thoughts agitated me all day and my imagination scarcely calmed down after several hours sleep\n",
            "these thoughts agitated me all day and my imagination scarcely calmed down after several hours sleep\n",
            "i shudder as i recall these monsters to my remembrance\n",
            "i shudder as i recall these monsters to my remembrance\n",
            "i saw at the hamburg museum the skeleton of one of these creatures 30 feet in length\n",
            "i saw at the hamburg museum the skeleton of one of these creatures 30 feet in length\n",
            "i suppose professor liedenbrock was of my opinion too and even shared my fears for after having examined the pick his eyes traversed the ocean from side to side\n",
            "i suppose professor liedenbrock was of my opinion too and even shared my fears for after having examined the pig his eyes traversed the ocean from side to side\n",
            "tuesday august 18th\n",
            "tuesday august 18th\n",
            "during his watch i slept\n",
            "during his watch i slept\n",
            "2 hours afterwards a terrible shock awoke me\n",
            "2 hours afterwards a terrible shock awoke me\n",
            "the raft was heaved up on a watery mountain and pitched down again at a distance of 20 fathoms\n",
            "the raft was heaved up on a watery mountain and pitched down again at a distance of 20 fathoms\n",
            "there is a whale a whale cried the professor\n",
            "there is a whale a whale cried the professor\n",
            "flight was out of the question now the reptiles rose they wheeled around our little raft with a rapidity greater than that of express trains\n",
            "flight was out of the question now the reptiles rose they wheeled around our little raft with a rapidity greater than that of express trains\n",
            "2 monsters only were creating all this commotion and before my eyes are 2 reptiles of the primitive world\n",
            "2 monsters only were creating all this commotion and before my eyes are 2 reptiles of the primitive world\n",
            "i can distinguish the eye of the ichthyosaurus glowing like a red hot coal and as large as a man is head\n",
            "i can distinguish the eye of the ichthyosaurus glowing like a red hot coal and as large as a man is head\n",
            "its jaw is enormous and according to naturalists it is armed with no less than 182 teeth\n",
            "its jaw is enormous and according to naturalists it is armed with no less than 182 teeth\n",
            "those huge creatures attacked each other with the greatest animosity\n",
            "those huge creatures attacked each other with the greatest animosity\n",
            "suddenly the ichthyosaurus and the plesiosaurus disappear below leaving a whirlpool eddying in the water\n",
            "suddenly the ichthyosaurus and the plesiosaurus disappear below leaving a whirlpool eddying in the water\n",
            "as for the ichthyosaurus has he returned to his submarine cavern\n",
            "as for the ithiosaurus has he returned to his submarine cabin\n",
            "the roarings become lost in the distance\n",
            "the roarings become lost in the distance\n",
            "the weather if we may use that term will change before long\n",
            "the weather if we may use the term we will change before long\n",
            "the atmosphere is charged with vapors pervaded with the electricity generated by the evaporation of saline waters\n",
            "the atmosphere is charged with vapors pervaded with the electricity generated by the evaporation of saline waters\n",
            "the electric light can scarcely penetrate through the dense curtain which has dropped over the theater on which the battle of the elements is about to be waged\n",
            "the electric light can scarcely penetrate through the dense curtain which is dropped over the theater on which the battle of the elements is about to be waged\n",
            "the air is heavy the sea is calm\n",
            "the air is heavy the sea is calm\n",
            "from time to time a fleecy tuft of mist with yet some gleaming light left upon it drops down upon the dense floor of gray and loses itself in the opaque and impenetrable mass\n",
            "from time to time a fleecy tuft of mist with yet some gleaming light left upon it drops down upon the dense floor of gray and loses itself in the opaque and impenetrable mass\n",
            "the atmosphere is evidently charged and surcharged with electricity\n",
            "the atmosphere is evidently charged and surcharged with electricity\n",
            "the wind never lulls but to acquire increased strength the vast bank of heavy clouds is a huge reservoir of fearful windy gusts and rushing storms\n",
            "the wind never lulls but to acquire increased strength the vast bank of heavy clouds is a huge reservoir of fearful windy gusts and rushing storms\n",
            "there is a heavy storm coming on i cried pointing towards the horizon\n",
            "there is a heavy storm coming on i cried pointing towards the horizon\n",
            "those clouds seem as if they were going to crush the sea\n",
            "those clouds seem as if they were going to crush the sea\n",
            "on the mast already i see the light play of a lambent saint elmo is fire the outstretched sail catches not a breath of wind and hangs like a sheet of lead\n",
            "on the mast already i see the light play of alamant saint able is fire the outstretched sail catches not a breath of wind and hangs like a sheet of lead\n",
            "but if we have now ceased to advance why do we yet leave that sail loose which at the 1st shock of the tempest may capsize us in a moment\n",
            "but if we have now ceased to advance why do we yet leave that sail loose which at the 1st shock of a tempest may capsize us in a moment\n",
            "that will be safest no no never\n",
            "that will be the safest no no never\n",
            "the piled up vapors condense into water and the air put into violent action to supply the vacuum left by the condensation of the mists rouses itself into a whirlwind\n",
            "the piled up vapors condensed into water and the air put into violent action to supply the vacuum left by the condensation of the mist rouses itself into a whirlwind\n",
            "hans stirs not\n",
            "honster is not\n",
            "from the under surface of the clouds there are continual emissions of lurid light electric matter is in continual evolution from their component molecules the gaseous elements of the air need to be slaked with moisture for innumerable columns of water rush upwards into the air and fall back again in white foam\n",
            "from the under surface of the clouds there are continual emissions of lurid light electric matter is in continual evolution from their component molecules the gaseous elements of the air need to be slaked with moisture for innumerable columns of water rush upwards into the air and fall back again in white foam\n",
            "i refer to the thermometer it indicates the figure is obliterated\n",
            "i refer to the thermometer it indicates the figure is obliterated\n",
            "is the atmospheric condition having once reached this density to become final\n",
            "is the atmospheric conditioning having once reached this density to become final\n",
            "the raft bears on still to the south east\n",
            "the raft bears on still to the southeast\n",
            "at noon the violence of the storm redoubles\n",
            "at noon the violence of the storm redoubles\n",
            "each of us is lashed to some part of the raft\n",
            "each of us is lashed to some part of the raft\n",
            "the waves rise above our heads\n",
            "the waves rise above our heads\n",
            "they seem to be we are lost but i am not sure\n",
            "they seem to be we are lost but i am not sure\n",
            "he nods his consent\n",
            "he nods his consent\n",
            "the fireball half of it white half azure blue and the size of a 10 inch shell moved slowly about the raft but revolving on its own axis with astonishing velocity as if whipped round by the force of the whirlwind\n",
            "the fireball half of it white half azure blue and the size of a 10 inch shell moves slowly about the raft but revolving on its own axis with astonishing velocity as if whipped round by the force of the whirlwind\n",
            "here it comes there it glides now it is up the ragged stump of the mast thence it lightly leaps on the provision bag descends with a light bound and just skims the powder magazine horrible\n",
            "here it comes there it glides now it is up the ragged stump of the mast then it lightly leaps on the provision bag descends with a light bound and just skims the powder magazine horrible\n",
            "we shall be blown up but no the dazzling disk of mysterious light nimbly leaps aside it approaches hans who fixes his blue eye upon it steadily it threatens the head of my uncle who falls upon his knees with his head down to avoid it\n",
            "we shall be blown up but no the dazzling disk of mysterious light nimbly leaps aside it approaches hans who fixes his blue eye upon it steadily it threatens the head of my uncle who falls upon his knees with his head down to avoid it\n",
            "a suffocating smell of nitrogen fills the air it enters the throat it fills the lungs\n",
            "a suffocating smell of nitrogen fills the air it enters the throat it fills the lungs\n",
            "we suffer stifling pains\n",
            "we suffer stifling pains\n",
            "the bogus legislature numbered 36 members\n",
            "the bogus legislature numbered 36 members\n",
            "this was at the march election 1855\n",
            "this was at the march election 1855\n",
            "that summer is emigration however being mainly from the free states greatly changed the relative strength of the 2 parties\n",
            "that summer is immigration however being mainly from the free states greatly changed the relative strengths of the 2 parties\n",
            "for general service therefore requiring no special effort the numerical strength of the factions was about equal while on extraordinary occasions the 2000 border ruffian reserve lying a little farther back from the state line could at any time easily turn the scale\n",
            "for general service therefore requiring no special effort the numerical strength of the factions was about equal while on extraordinary occasions the 2000 bordeiruffian reserve lying a little farther back from the state line could at any time easily turn the scale\n",
            "the free state men had only their convictions their intelligence their courage and the moral support of the north the conspiracy had its secret combination the territorial officials the legislature the bogus laws the courts the militia officers the president and the army\n",
            "the free state men had only their convictions their intelligence their courage and the moral support of the north the conspiracy had its secret combination the territorial officials the legislature the bogus laws the courts the militia officers the president and the army\n",
            "this was a formidable array of advantages slavery was playing with loaded dice\n",
            "this was a formable array of advantages slavery was playing with loaded dice\n",
            "coming by way of the missouri river towns he fell 1st among border ruffian companionship and influences and perhaps having his inclinations already molded by his washington instructions his early impressions were decidedly adverse to the free state cause\n",
            "coming by way of the missouri river towns he fell 1st among border ruffian companionship and influences and perhaps having his inclinations already molded by his washington instructions his early impressions were decidedly adverse to the free state cause\n",
            "his reception speech at westport in which he maintained the legality of the legislature and his determination to enforce their laws delighted his pro slavery auditors\n",
            "his reception speech at westport in which he maintained the legality of the legislature and his determination to enforce their laws delighted his pro slavery auditors\n",
            "all the territorial dignitaries were present governor shannon presided john calhoun the surveyor general made the principal speech a denunciation of the abolitionists supporting the topeka movement chief justice lecompte dignified the occasion with approving remarks\n",
            "all the territorial dignitaries were present governor shannon presided john calhoun the surveyor general made the principal speech a denunciation of the abolitionist supporting the topeka movement chief justice lacombe dignified the occasion with approving remarks\n",
            "all dissent all non compliance all hesitation all mere silence even were in their stronghold towns like leavenworth branded as abolitionism declared to be hostility to the public welfare and punished with proscription personal violence expulsion and frequently death\n",
            "all dissent all non compliance all hesitation all mere silence even were in their stronghold towns like leavenworth branded as abolitionism declared to be hostility to the public welfare and punished with proscription personal violence expulsion and frequently death\n",
            "of the lynchings the mobs and the murders it would be impossible except in a very extended work to note the frequent and atrocious details\n",
            "of the lynchings the mobs and the murders it would be impossible except in a very extended work to note the frequent and atrocious details\n",
            "the present chapters can only touch upon the more salient movements of the civil war in kansas which happily were not sanguinary if however the individual and more isolated cases of bloodshed could be described they would show a startling aggregate of barbarity and loss of life for opinion is sake\n",
            "the present chapters can only touch upon the more salient movements of the civil war in kansas which happily are not sanguinary if however the individual and more isolated cases of bloodshed could be described they would show a startling aggregate of barbarity and a loss of life for opinion is sake\n",
            "several 100 free state men promptly responded to the summons\n",
            "several 100 free state men promptly responded to the summons\n",
            "it was in fact the best weapon of its day\n",
            "it was in fact the best weapon of its day\n",
            "the leaders of the conspiracy became distrustful of their power to crush the town\n",
            "the leaders of the conspiracy became distrustful of their power to crush the town\n",
            "one of his militia generals suggested that the governor should require the outlaws at lawrence and elsewhere to surrender the sharps rifles another wrote asking him to call out the government troops at fort leavenworth\n",
            "one of his militia generals suggested that the governor should require the outlaws at lawrence and elsewhere to surrender the sharps rifles another wrote asking him to call out the government troops at fort leavenworth\n",
            "the governor on his part becoming doubtful of the legality of employing missouri militia to enforce kansas laws was also eager to secure the help of federal troops\n",
            "the governor on his part becoming doubtful of the legality of employing missouri militia to enforce kansas laws was also eager to secure the help of federal troops\n",
            "sheriff jones had his pockets always full of writs issued in the spirit of persecution but was often baffled by the sharp wits and ready resources of the free state people and sometimes defied outright\n",
            "sheriff jones had his pockets always full of rits issued in the spirit of persecution but was often baffled by the sharp wits and ready resources of the free state people and sometimes defied outright\n",
            "little by little however the latter became hemmed and bound in the meshes of the various devices and proceedings which the territorial officials evolved from the bogus laws\n",
            "little by little however the latter became hemmed and bound in the meshes of the various devices and proceedings which the territorial officials evolved from the bogus laws\n",
            "to embarrass this damaging exposure judge lecompte issued a writ against the ex governor on a frivolous charge of contempt\n",
            "to embarrass this damaging exposure judge lacombe issued a writ against the ex governor on a frivolous charge of contempt\n",
            "the incident was not violent nor even dramatic no posse was summoned no further effort made and reeder fearing personal violence soon fled in disguise\n",
            "the incident was not violent nor even dramatic no posse was summoned no further effort made and reader fearing personal violence soon fled in disguise\n",
            "but the affair was magnified as a crowning proof that the free state men were insurrectionists and outlaws\n",
            "but the affair was magnified as a crowning proof that the free state men were insurrectionists and outlaws\n",
            "from these again sprang barricaded and fortified dwellings camps and scouting parties finally culminating in roving guerrilla bands half partisan half predatory\n",
            "from these again sprang barricaded and fortified dwellings camps and scout parties finally culminating in roving guerrilla bands half partisan half predatory\n",
            "their distinctive characters however display one broad and unfailing difference\n",
            "their distinctive characters however display one broad and unfailing difference\n",
            "the free state men clung to their prairie towns and prairie ravines with all the obstinacy and courage of true defenders of their homes and firesides\n",
            "the free state men clung to their prairie towns and prairie ravines with all the obstinacy and courage of true defenders of their homes and firesides\n",
            "their assumed character changed with their changing opportunities or necessities\n",
            "their assumed character changed with their changing opportunities or necessities\n",
            "in the shooting of sheriff jones in lawrence and in the refusal of ex governor beeder to allow the deputy marshal to arrest him they discovered grave offenses against the territorial and united states laws\n",
            "in the shooting of sheriff jones in lawrence and in the refusal of ex governor reeder to allow the deputy marshal to arrest him they discovered grave offenses against the territorial and the united states laws\n",
            "footnote sumner to shannon may 12th 1856\n",
            "footnote sumner to shannon may 12 1856\n",
            "private persons who had leased the free state hotel vainly besought the various authorities to prevent the destruction of their property\n",
            "private persons who had leased the free state hotel vainly besought the various authorities to present the destruction of their property\n",
            "10 days were consumed in these negotiations but the spirit of vengeance refused to yield\n",
            "10 days were consumed in these negotiations but the spirit of vengeance refused to yield\n",
            "he summoned half a dozen citizens to join his posse who followed obeyed and assisted him\n",
            "he summoned half a dozen citizens to join his posse who followed obeyed and assisted him\n",
            "he continued his pretended search and to give color to his errand made 2 arrests\n",
            "he continued his pretended surge and to give color to his errand made to arrest\n",
            "the free state hotel a stone building in dimensions 50 by 70 feet 3 stories high and handsomely furnished previously occupied only for lodging rooms on that day for the 1st time opened its table accommodations to the public and provided a free dinner in honor of the occasion\n",
            "the free state hotel a stone building in dimensions 50 by 70 feet 3 stories high and handsomely furnished previously occupied only for lodging rooms on that day for the 1st time opened its table accommodations to the public and provided a free dinner in honor of the occasion\n",
            "as he had promised to protect the hotel the reassured citizens began to laugh at their own fears\n",
            "as he had promised to protect the hotel the reassured citizens began to laugh at their own fears\n",
            "to their sorrow they were soon undeceived\n",
            "to their sorrow they were soon undeceived\n",
            "the military force partly rabble partly organized had meanwhile moved into the town\n",
            "the military force partly rabble partly organized had meanwhile moved into the town\n",
            "he planted a company before the hotel and demanded a surrender of the arms belonging to the free state military companies\n",
            "he planned a company before the hotel and demanded a surrender of the arms belonging to the free state military companies\n",
            "half an hour later turning a deaf ear to all remonstrance he gave the proprietors until 50 clock to remove their families and personal property from the free state hotel\n",
            "half an hour later turning a deaf ear to all remonstrants he gave the proprietors until 50 clock to remove their families and personal property from the free state hotel\n",
            "atchison who had been haranguing the mob planted his 2 guns before the building and trained them upon it\n",
            "atchison who had been haranguing the mob planted his 2 guns before the building and trained them upon it\n"
          ]
        }
      ],
      "source": [
        "for i in range(11):\n",
        "  num_of_audio = 25\n",
        "  for i in range(num_of_audio):\n",
        "    current_element = next(dset_iter)\n",
        "    audio = current_element[\"audio\"]\n",
        "    input_features = processor(audio[\"array\"], sampling_rate=audio[\"sampling_rate\"], return_tensors=\"pt\").input_features\n",
        "    reference = processor.tokenizer._normalize(current_element['text'])\n",
        "    references.append(reference)\n",
        "    print(reference)\n",
        "\n",
        "    start_time = time.time()\n",
        "    predicted_ids = model.generate(input_features)\n",
        "    transcription = processor.batch_decode(predicted_ids, skip_special_tokens=True)\n",
        "    end_time = time.time()\n",
        "\n",
        "    prediction = processor.tokenizer._normalize(transcription[0])\n",
        "    predictions.append(prediction)\n",
        "    print(prediction)\n",
        "\n",
        "    file_time = end_time - start_time\n",
        "    total_time += file_time\n",
        "  wer_result = wer(references, predictions)\n",
        "  listwer.append(wer_result)\n",
        "  listtime.append(total_time)"
      ]
    },
    {
      "cell_type": "code",
      "execution_count": null,
      "metadata": {
        "colab": {
          "base_uri": "https://localhost:8080/"
        },
        "id": "T6q5rDjzQSqH",
        "outputId": "cb8fd81e-4b6f-4257-cb10-34dd60ee9f79"
      },
      "outputs": [
        {
          "name": "stdout",
          "output_type": "stream",
          "text": [
            "[0.03982777179763186, 0.04186046511627907, 0.03492063492063492, 0.033294163728946335, 0.03514376996805112, 0.03382818203942565, 0.03251145537857299, 0.03160040774719674, 0.03166915052160954, 0.03086523865744645, 0.030312403340550572]\n",
            "[368.4425735473633, 538.6436421871185, 721.1278717517853, 907.5542681217194, 1092.3417692184448, 1298.684718132019, 1472.6449489593506, 1636.9172883033752, 1812.0237922668457, 1996.1170830726624, 2176.6511340141296]\n"
          ]
        }
      ],
      "source": [
        "print(listwer)\n",
        "print(listtime)"
      ]
    },
    {
      "cell_type": "markdown",
      "metadata": {
        "id": "0Su40N_SQrSC"
      },
      "source": [
        "<a name='1-4'></a>\n",
        "## Тестирование Whisper-Base\n",
        "Размер 0.29 GB\n",
        "\n",
        "300 примеров:\n",
        "\n",
        "1412.48 секунд (23.5 минут)\n",
        "\n",
        "4.7 секунды на 1 пример\n",
        "\n",
        "WER 4.702"
      ]
    },
    {
      "cell_type": "code",
      "execution_count": null,
      "metadata": {
        "colab": {
          "base_uri": "https://localhost:8080/"
        },
        "id": "54RBh1GvVPmG",
        "outputId": "78c9d345-6fae-467d-c814-9aeec9b26996"
      },
      "outputs": [
        {
          "name": "stdout",
          "output_type": "stream",
          "text": [
            "Collecting datasets\n",
            "  Downloading datasets-2.16.1-py3-none-any.whl (507 kB)\n",
            "\u001b[2K     \u001b[90m━━━━━━━━━━━━━━━━━━━━━━━━━━━━━━━━━━━━━━━━\u001b[0m \u001b[32m507.1/507.1 kB\u001b[0m \u001b[31m3.3 MB/s\u001b[0m eta \u001b[36m0:00:00\u001b[0m\n",
            "\u001b[?25hRequirement already satisfied: filelock in /usr/local/lib/python3.10/dist-packages (from datasets) (3.13.1)\n",
            "Requirement already satisfied: numpy>=1.17 in /usr/local/lib/python3.10/dist-packages (from datasets) (1.23.5)\n",
            "Requirement already satisfied: pyarrow>=8.0.0 in /usr/local/lib/python3.10/dist-packages (from datasets) (10.0.1)\n",
            "Requirement already satisfied: pyarrow-hotfix in /usr/local/lib/python3.10/dist-packages (from datasets) (0.6)\n",
            "Collecting dill<0.3.8,>=0.3.0 (from datasets)\n",
            "  Downloading dill-0.3.7-py3-none-any.whl (115 kB)\n",
            "\u001b[2K     \u001b[90m━━━━━━━━━━━━━━━━━━━━━━━━━━━━━━━━━━━━━━━━\u001b[0m \u001b[32m115.3/115.3 kB\u001b[0m \u001b[31m9.9 MB/s\u001b[0m eta \u001b[36m0:00:00\u001b[0m\n",
            "\u001b[?25hRequirement already satisfied: pandas in /usr/local/lib/python3.10/dist-packages (from datasets) (1.5.3)\n",
            "Requirement already satisfied: requests>=2.19.0 in /usr/local/lib/python3.10/dist-packages (from datasets) (2.31.0)\n",
            "Requirement already satisfied: tqdm>=4.62.1 in /usr/local/lib/python3.10/dist-packages (from datasets) (4.66.1)\n",
            "Requirement already satisfied: xxhash in /usr/local/lib/python3.10/dist-packages (from datasets) (3.4.1)\n",
            "Collecting multiprocess (from datasets)\n",
            "  Downloading multiprocess-0.70.15-py310-none-any.whl (134 kB)\n",
            "\u001b[2K     \u001b[90m━━━━━━━━━━━━━━━━━━━━━━━━━━━━━━━━━━━━━━━━\u001b[0m \u001b[32m134.8/134.8 kB\u001b[0m \u001b[31m8.5 MB/s\u001b[0m eta \u001b[36m0:00:00\u001b[0m\n",
            "\u001b[?25hRequirement already satisfied: fsspec[http]<=2023.10.0,>=2023.1.0 in /usr/local/lib/python3.10/dist-packages (from datasets) (2023.6.0)\n",
            "Requirement already satisfied: aiohttp in /usr/local/lib/python3.10/dist-packages (from datasets) (3.9.1)\n",
            "Requirement already satisfied: huggingface-hub>=0.19.4 in /usr/local/lib/python3.10/dist-packages (from datasets) (0.20.3)\n",
            "Requirement already satisfied: packaging in /usr/local/lib/python3.10/dist-packages (from datasets) (23.2)\n",
            "Requirement already satisfied: pyyaml>=5.1 in /usr/local/lib/python3.10/dist-packages (from datasets) (6.0.1)\n",
            "Requirement already satisfied: attrs>=17.3.0 in /usr/local/lib/python3.10/dist-packages (from aiohttp->datasets) (23.2.0)\n",
            "Requirement already satisfied: multidict<7.0,>=4.5 in /usr/local/lib/python3.10/dist-packages (from aiohttp->datasets) (6.0.4)\n",
            "Requirement already satisfied: yarl<2.0,>=1.0 in /usr/local/lib/python3.10/dist-packages (from aiohttp->datasets) (1.9.4)\n",
            "Requirement already satisfied: frozenlist>=1.1.1 in /usr/local/lib/python3.10/dist-packages (from aiohttp->datasets) (1.4.1)\n",
            "Requirement already satisfied: aiosignal>=1.1.2 in /usr/local/lib/python3.10/dist-packages (from aiohttp->datasets) (1.3.1)\n",
            "Requirement already satisfied: async-timeout<5.0,>=4.0 in /usr/local/lib/python3.10/dist-packages (from aiohttp->datasets) (4.0.3)\n",
            "Requirement already satisfied: typing-extensions>=3.7.4.3 in /usr/local/lib/python3.10/dist-packages (from huggingface-hub>=0.19.4->datasets) (4.5.0)\n",
            "Requirement already satisfied: charset-normalizer<4,>=2 in /usr/local/lib/python3.10/dist-packages (from requests>=2.19.0->datasets) (3.3.2)\n",
            "Requirement already satisfied: idna<4,>=2.5 in /usr/local/lib/python3.10/dist-packages (from requests>=2.19.0->datasets) (3.6)\n",
            "Requirement already satisfied: urllib3<3,>=1.21.1 in /usr/local/lib/python3.10/dist-packages (from requests>=2.19.0->datasets) (2.0.7)\n",
            "Requirement already satisfied: certifi>=2017.4.17 in /usr/local/lib/python3.10/dist-packages (from requests>=2.19.0->datasets) (2023.11.17)\n",
            "Requirement already satisfied: python-dateutil>=2.8.1 in /usr/local/lib/python3.10/dist-packages (from pandas->datasets) (2.8.2)\n",
            "Requirement already satisfied: pytz>=2020.1 in /usr/local/lib/python3.10/dist-packages (from pandas->datasets) (2023.3.post1)\n",
            "Requirement already satisfied: six>=1.5 in /usr/local/lib/python3.10/dist-packages (from python-dateutil>=2.8.1->pandas->datasets) (1.16.0)\n",
            "Installing collected packages: dill, multiprocess, datasets\n",
            "Successfully installed datasets-2.16.1 dill-0.3.7 multiprocess-0.70.15\n"
          ]
        }
      ],
      "source": [
        "!pip install datasets"
      ]
    },
    {
      "cell_type": "code",
      "execution_count": null,
      "metadata": {
        "colab": {
          "base_uri": "https://localhost:8080/"
        },
        "id": "iwV3gQ0xVPmJ",
        "outputId": "1cd28ac9-e3a7-4dff-9bf2-df17e443ed34"
      },
      "outputs": [
        {
          "name": "stdout",
          "output_type": "stream",
          "text": [
            "Collecting jiwer\n",
            "  Downloading jiwer-3.0.3-py3-none-any.whl (21 kB)\n",
            "Requirement already satisfied: click<9.0.0,>=8.1.3 in /usr/local/lib/python3.10/dist-packages (from jiwer) (8.1.7)\n",
            "Collecting rapidfuzz<4,>=3 (from jiwer)\n",
            "  Downloading rapidfuzz-3.6.1-cp310-cp310-manylinux_2_17_x86_64.manylinux2014_x86_64.whl (3.4 MB)\n",
            "\u001b[2K     \u001b[90m━━━━━━━━━━━━━━━━━━━━━━━━━━━━━━━━━━━━━━━━\u001b[0m \u001b[32m3.4/3.4 MB\u001b[0m \u001b[31m12.2 MB/s\u001b[0m eta \u001b[36m0:00:00\u001b[0m\n",
            "\u001b[?25hInstalling collected packages: rapidfuzz, jiwer\n",
            "Successfully installed jiwer-3.0.3 rapidfuzz-3.6.1\n"
          ]
        }
      ],
      "source": [
        "!pip install jiwer"
      ]
    },
    {
      "cell_type": "code",
      "execution_count": null,
      "metadata": {
        "colab": {
          "base_uri": "https://localhost:8080/",
          "height": 508,
          "referenced_widgets": [
            "2aebb9a7bfa5472b97011d6404262443",
            "b9038090b2fc42f5a89fe5179216cb56",
            "e877d934c5154042870e9db166eefa7e",
            "4cf55cf6d8204f188c66ff26760c2464",
            "d0426e7ddbf74f0ba07559dbbd6281a1",
            "519aa4a2d51c411fae0615df5084686c",
            "4bdce0c162a34fbcab03619f01ff7cef",
            "8ca11227c31a40dcb9be34b1ddda7bb1",
            "9a70046527004bacbd17e4ce8dd6bcb4",
            "f11be45f52424bc6a2d13a636df3b4d7",
            "8612f2a469fb46cba7c7a3030d37e7af",
            "fb77728af84643c79f4148811a4e5732",
            "7d0003e50e60414797e6b935c5fda221",
            "0194a1e3ae2f4c9fb0cbaedb0c4b55d9",
            "16cf2e3987be481383adb87a93d6ba71",
            "4072a80fc067478cb37ae1c17b7dc4d0",
            "60d02df9da6d4023b80a999ef48b739e",
            "7c155e99373c460d974fd48f558e2850",
            "330acef9711146e7ae2ea4d59e54b61c",
            "3c7405b6fc71415b8edb309acdc3f11e",
            "a8067896cf2d477da107ac867d3389c0",
            "586e0b8a6eef4644ac8391503315c229",
            "5f814de594614f9e9eb52a722ada0406",
            "b0cb9828a6624b39bc474a35e694dd90",
            "bfd3fc2e952d4202a4fda9bda687c28e",
            "fc697351850e4840a06860523dda087b",
            "8e50a50cfa464ea4bd8ec6e674f672fa",
            "6ac3fe10181a42028d6d4bc339224686",
            "b4f3d4d474ce454ca55769a82753544b",
            "8b673bda516443cf9d28fad2bf2dc0b7",
            "5a2e10239d0043008007f93f249c27ed",
            "eaaed0c097df4191b8b3973db417f6de",
            "7a63ce04814d49d7af1c8988dee2406b",
            "ab431a0dcac14721a9f90be275117b68",
            "fe7e5a30688e48ec800adc0deb60d516",
            "c0c788a107a7434c9a07da82e42ab435",
            "f3e010efdd344e2bad2dafc0a53c8413",
            "d5544a6ab14c4ea382026c340a027a06",
            "16c4218e3171465490f83105c5a2107d",
            "097f1705ad6a43eea2f882a78ceb9040",
            "9be3f7f00d9c48958dfc8bdc7172f07a",
            "50694d8a59474111b73bfbc8d253c6e6",
            "e5a002a6f6104d0c849443cd66323fee",
            "a1520f42d14946c69edcf954b416aafa",
            "840a444a459d4677887280aac4e39bc2",
            "79d99bba5a6e41268a294f78edb70965",
            "7c1b194aabf64b72a9177d1ed30b5826",
            "b59a8e7d58ce497581a18aea6fa7771a",
            "d17ba708fc73466688512c7a285be288",
            "7aaf5fefce164bcdb298d07cf6c478ac",
            "5d43cb0ba1a24964ad39672c6ea31542",
            "acdc32ced2554291b6735e1f24a3cf5e",
            "ee1c5f503a97471f901e97f3a6040ca4",
            "71f4cff665724f51823b45b9729df213",
            "eb336015e2654709b963f4c80d5102aa",
            "e7a71741901d4e7d80aacf89193caf4a",
            "970482255eee4b4ba831014813445767",
            "31bb6c85a4dc4ea68de7df61e1a5bb7d",
            "a9c22dd51f53402bb8361210684e7d80",
            "8e948e6f63594e1db5b7dd2ae5600fb7",
            "2b7fc6106b05446eb3cc57b5a66c757d",
            "918ca4b0177b4328822cae491521e6f2",
            "c134750e9b044c46b2b96faea2738f09",
            "d8f7cd830687450998eb9b19961b6d8d",
            "fecd4217c80b41818d25c96f0cb8141f",
            "0d0b936481594bf1a9aaf129a22659fd",
            "7ff112d5d0a34f0aabfc21225e54ca63",
            "dde08e741f8e4b7082aaa2896bca3f4a",
            "0ad3d7c165df499eb93ee3db8101d396",
            "6264911e71084b9eb2eb59777241c52e",
            "83a83ccca2e74027822d0c3e1eeb9b15",
            "32f9f8b5750d497b826ca695d376dc38",
            "1363a52851ea47ccb10122a8e821f5dd",
            "f09d2c8e077a4b518ddc0c5d37172454",
            "cfec7479bb2a4532b14c515be89b44a4",
            "2da12bed13fc4201ae5b518b557ab89b",
            "16c0432a8e5e4731b4decf9e53c9473e",
            "e0e6b7b5d66940329a26e3d8cd133399",
            "554f58e6ca7745d8991d5ac9d735a57d",
            "f3f77d0cfe904deba5db2a07e951b730",
            "5b75dd87f3c74cf7b49f6250374990de",
            "f1a964baa109433e92e1656f73fd0b79",
            "d58b776008704d0db1a0f8d769c8419e",
            "e991f82f4b2341db8e0f6d0729f57332",
            "284773e876d24bc5aff7cbd529d7e66c",
            "23bf6681da26439292b6e574ba350082",
            "0bd201492d0c4c7d9f08b9a5e1717c24",
            "151f9328fb7a4b6d8380873b8f6eefac",
            "a0cd5105cbbe45ea87374a55c031f9b0",
            "bc7a03c3c037413c8062ba6058383311",
            "57db07220306434ea8d86dc6126aa381",
            "e28d4b945c954fdd9c012e1cb47b5c42",
            "4c62ca21e347473fbfa08032e0218331",
            "a08bdc18b1c6421ab83af015994afef8",
            "1d173fd0184e494dbbe41b149f5eb4cc",
            "16c36a7304414eac93408ec7e1e9465c",
            "a287ddd9cbfd46dc9f4e10de051fdfbc",
            "8ffe8ea056e4427f9ae094d129fb8768",
            "c8529e7f03534958aaf65c1c431ae1a9",
            "59f7c9972b7b4687a6b198c84669e8a7",
            "6d7eb61fcbdc435ea663977365a8b055",
            "132d42562fdc4f869597f21e9221fc79",
            "5fa69e81c54743c983cea9bbdac87240",
            "10ee74c80f20450ea808da1ad87722d7",
            "f0d672f3e22a476888f326aa6299cd10",
            "d1190332bfd64d4da58bb1674501fb0e",
            "e87f09183a83426989549372df74fc35",
            "423e026631bf427c82f5093678a7f799",
            "84a1c10582a84efb8f1cb946df326c94",
            "f856b0e8e8574b1ca8b7ea372eac63d7",
            "99491fa0e3dd4aef965d00363137ebfa",
            "0f065ee1bcab41a3a78f60ec9825b670",
            "2b54094862d7480699cbc198996cf434",
            "d1d54726618341958948402bda7a4311",
            "da768daec8de44bea6753a108830b7c2",
            "e3627f7725974a65a9abe03229be4678",
            "8f0091e270ab4aa0adcb80430dc912cb",
            "bfee9db68f1a42299d2db1e91fa309df",
            "f98eab8cf7284c2b8fb208b23096b247",
            "ccdffc7075ce448d9d20240d770c6e02",
            "44f99544b50b4305b91be99f9aa75be1"
          ]
        },
        "id": "jx4cBC_IVPmK",
        "outputId": "f3348ff1-fd92-490c-c592-51a97b7619e9"
      },
      "outputs": [
        {
          "name": "stderr",
          "output_type": "stream",
          "text": [
            "/usr/local/lib/python3.10/dist-packages/huggingface_hub/utils/_token.py:88: UserWarning: \n",
            "The secret `HF_TOKEN` does not exist in your Colab secrets.\n",
            "To authenticate with the Hugging Face Hub, create a token in your settings tab (https://huggingface.co/settings/tokens), set it as secret in your Google Colab and restart your session.\n",
            "You will be able to reuse this secret in all of your notebooks.\n",
            "Please note that authentication is recommended but still optional to access public models or datasets.\n",
            "  warnings.warn(\n"
          ]
        },
        {
          "data": {
            "application/vnd.jupyter.widget-view+json": {
              "model_id": "2aebb9a7bfa5472b97011d6404262443",
              "version_major": 2,
              "version_minor": 0
            },
            "text/plain": [
              "preprocessor_config.json:   0%|          | 0.00/185k [00:00<?, ?B/s]"
            ]
          },
          "metadata": {},
          "output_type": "display_data"
        },
        {
          "data": {
            "application/vnd.jupyter.widget-view+json": {
              "model_id": "fb77728af84643c79f4148811a4e5732",
              "version_major": 2,
              "version_minor": 0
            },
            "text/plain": [
              "tokenizer_config.json:   0%|          | 0.00/805 [00:00<?, ?B/s]"
            ]
          },
          "metadata": {},
          "output_type": "display_data"
        },
        {
          "data": {
            "application/vnd.jupyter.widget-view+json": {
              "model_id": "5f814de594614f9e9eb52a722ada0406",
              "version_major": 2,
              "version_minor": 0
            },
            "text/plain": [
              "vocab.json:   0%|          | 0.00/836k [00:00<?, ?B/s]"
            ]
          },
          "metadata": {},
          "output_type": "display_data"
        },
        {
          "data": {
            "application/vnd.jupyter.widget-view+json": {
              "model_id": "ab431a0dcac14721a9f90be275117b68",
              "version_major": 2,
              "version_minor": 0
            },
            "text/plain": [
              "tokenizer.json:   0%|          | 0.00/2.48M [00:00<?, ?B/s]"
            ]
          },
          "metadata": {},
          "output_type": "display_data"
        },
        {
          "data": {
            "application/vnd.jupyter.widget-view+json": {
              "model_id": "840a444a459d4677887280aac4e39bc2",
              "version_major": 2,
              "version_minor": 0
            },
            "text/plain": [
              "merges.txt:   0%|          | 0.00/494k [00:00<?, ?B/s]"
            ]
          },
          "metadata": {},
          "output_type": "display_data"
        },
        {
          "data": {
            "application/vnd.jupyter.widget-view+json": {
              "model_id": "e7a71741901d4e7d80aacf89193caf4a",
              "version_major": 2,
              "version_minor": 0
            },
            "text/plain": [
              "normalizer.json:   0%|          | 0.00/52.7k [00:00<?, ?B/s]"
            ]
          },
          "metadata": {},
          "output_type": "display_data"
        },
        {
          "data": {
            "application/vnd.jupyter.widget-view+json": {
              "model_id": "7ff112d5d0a34f0aabfc21225e54ca63",
              "version_major": 2,
              "version_minor": 0
            },
            "text/plain": [
              "added_tokens.json:   0%|          | 0.00/34.6k [00:00<?, ?B/s]"
            ]
          },
          "metadata": {},
          "output_type": "display_data"
        },
        {
          "data": {
            "application/vnd.jupyter.widget-view+json": {
              "model_id": "e0e6b7b5d66940329a26e3d8cd133399",
              "version_major": 2,
              "version_minor": 0
            },
            "text/plain": [
              "special_tokens_map.json:   0%|          | 0.00/2.08k [00:00<?, ?B/s]"
            ]
          },
          "metadata": {},
          "output_type": "display_data"
        },
        {
          "data": {
            "application/vnd.jupyter.widget-view+json": {
              "model_id": "a0cd5105cbbe45ea87374a55c031f9b0",
              "version_major": 2,
              "version_minor": 0
            },
            "text/plain": [
              "config.json:   0%|          | 0.00/1.98k [00:00<?, ?B/s]"
            ]
          },
          "metadata": {},
          "output_type": "display_data"
        },
        {
          "data": {
            "application/vnd.jupyter.widget-view+json": {
              "model_id": "59f7c9972b7b4687a6b198c84669e8a7",
              "version_major": 2,
              "version_minor": 0
            },
            "text/plain": [
              "model.safetensors:   0%|          | 0.00/290M [00:00<?, ?B/s]"
            ]
          },
          "metadata": {},
          "output_type": "display_data"
        },
        {
          "data": {
            "application/vnd.jupyter.widget-view+json": {
              "model_id": "99491fa0e3dd4aef965d00363137ebfa",
              "version_major": 2,
              "version_minor": 0
            },
            "text/plain": [
              "generation_config.json:   0%|          | 0.00/3.81k [00:00<?, ?B/s]"
            ]
          },
          "metadata": {},
          "output_type": "display_data"
        },
        {
          "name": "stdout",
          "output_type": "stream",
          "text": [
            "Device: cpu\n"
          ]
        }
      ],
      "source": [
        "from transformers import WhisperProcessor, WhisperForConditionalGeneration\n",
        "import time\n",
        "import torch\n",
        "device = torch.device(\"cuda\" if torch.cuda.is_available() else \"cpu\")\n",
        "\n",
        "# Загрузите модель и процессор\n",
        "processor = WhisperProcessor.from_pretrained(\"openai/whisper-base\")\n",
        "model = WhisperForConditionalGeneration.from_pretrained(\"openai/whisper-base\")\n",
        "model.config.forced_decoder_ids = None\n",
        "\n",
        "# Перенесите модель на GPU, если CUDA доступен\n",
        "model.to(device)\n",
        "\n",
        "print(\"Device:\", device)\n",
        "\n",
        "# Дополнительная информация о GPU, если доступно\n",
        "if device.type == 'cuda':\n",
        "    print(\"GPU Name:\", torch.cuda.get_device_name(0))\n",
        "    print(\"CUDA Version:\", torch.version.cuda)\n"
      ]
    },
    {
      "cell_type": "code",
      "execution_count": null,
      "metadata": {
        "colab": {
          "base_uri": "https://localhost:8080/",
          "height": 169,
          "referenced_widgets": [
            "00de5a52d21b46b8add4d911cbadb0d0",
            "0dda34175ac042b789c97f0174e1d061",
            "ee4dfbe7c05c428f85f83b27792bafcc",
            "02e82ece86a04d5f85af2e3d1e7f42d1",
            "face1f0fae3a4a4eb5d29d12d55ae616",
            "444bff89f42e45feb6a69de82b967b48",
            "276910cde8ad47a8bc8d5631cd97e7c1",
            "34e3a0f8b3ee4dbbba3d4ba8f3575fd9",
            "90d06cbeb43d4253a557c00477e0fe14",
            "9b7f4aee22ca492aab508f96d1682169",
            "fe747ddb68eb4d5c98a5f29bba497a67",
            "f12828ba73ce44db83ef5a27c676048d",
            "ad692d66006643149d6b5b2b883e4886",
            "cb7809d0461848dfbb7bc04cc622c94f",
            "10b4188d41f2425f9e4df4f63b822914",
            "fb3728b761a9496fa406ab250e1f676c",
            "10ad2a51dc3a4055b458457132ca7e09",
            "c55322ebf0564a79b29881a970e513a6",
            "7b95290270054310bced776cadd41a80",
            "2f936e439573491d9d0b59e271897b43",
            "12032ec64cbf4ea88f75f11e3b40de1c",
            "97e3d1dad25d4fa2a8080909cf959186"
          ]
        },
        "id": "Z-kfXtv_VPmL",
        "outputId": "87243e6d-4983-41bf-bc40-43582ef24f7d"
      },
      "outputs": [
        {
          "name": "stderr",
          "output_type": "stream",
          "text": [
            "/usr/local/lib/python3.10/dist-packages/datasets/load.py:1429: FutureWarning: The repository for librispeech_asr contains custom code which must be executed to correctly load the dataset. You can inspect the repository content at https://hf.co/datasets/librispeech_asr\n",
            "You can avoid this message in future by passing the argument `trust_remote_code=True`.\n",
            "Passing `trust_remote_code=True` will be mandatory to load this dataset from the next major release of `datasets`.\n",
            "  warnings.warn(\n"
          ]
        },
        {
          "data": {
            "application/vnd.jupyter.widget-view+json": {
              "model_id": "00de5a52d21b46b8add4d911cbadb0d0",
              "version_major": 2,
              "version_minor": 0
            },
            "text/plain": [
              "Downloading builder script:   0%|          | 0.00/11.5k [00:00<?, ?B/s]"
            ]
          },
          "metadata": {},
          "output_type": "display_data"
        },
        {
          "data": {
            "application/vnd.jupyter.widget-view+json": {
              "model_id": "f12828ba73ce44db83ef5a27c676048d",
              "version_major": 2,
              "version_minor": 0
            },
            "text/plain": [
              "Downloading readme:   0%|          | 0.00/10.2k [00:00<?, ?B/s]"
            ]
          },
          "metadata": {},
          "output_type": "display_data"
        }
      ],
      "source": [
        "from datasets import load_dataset\n",
        "\n",
        "dset = load_dataset(\"librispeech_asr\", 'clean', split=\"test\", streaming=True)"
      ]
    },
    {
      "cell_type": "code",
      "execution_count": null,
      "metadata": {
        "id": "c2zGnkUPVPmL"
      },
      "outputs": [],
      "source": [
        "dset_iter = iter(dset)  # создаем итератор"
      ]
    },
    {
      "cell_type": "code",
      "execution_count": null,
      "metadata": {
        "id": "_lFcpBTvVPmL"
      },
      "outputs": [],
      "source": [
        "#для пропуска первых n элементов датасета\n",
        "n = 0\n",
        "for _ in range(n):\n",
        "  next(dset_iter)\n",
        "  #first_element = next(dset_iter)\n",
        "  #print(first_element)\n"
      ]
    },
    {
      "cell_type": "code",
      "execution_count": null,
      "metadata": {
        "id": "xf4msYRPVPmM"
      },
      "outputs": [],
      "source": [
        "predictions = []\n",
        "references = []\n",
        "total_time = 0"
      ]
    },
    {
      "cell_type": "code",
      "execution_count": null,
      "metadata": {
        "colab": {
          "base_uri": "https://localhost:8080/"
        },
        "id": "DmB-GYqYVPmM",
        "outputId": "9dfeb493-6690-48a2-9a79-62595b08b23d"
      },
      "outputs": [
        {
          "name": "stdout",
          "output_type": "stream",
          "text": [
            "concord returned to its place amidst the tents\n",
            "concorde returned to its place amidst the tents\n",
            "the english forwarded to the french baskets of flowers of which they had made a plentiful provision to greet the arrival of the young princess the french in return invited the english to a supper which was to be given the next day\n",
            "the english forwarded to the french baskets of flowers of which they had made a plentiful provision to greet the arrival of the young princess the french in return invited the english to a supper which was to be given the next day\n",
            "congratulations were poured in upon the princess everywhere during her journey\n",
            "congratulations we are poured in upon the princess everywhere during her journey\n",
            "from the respect paid her on all sides she seemed like a queen and from the adoration with which she was treated by 2 or 3 she appeared an object of worship the queen mother gave the french the most affectionate reception france was her native country and she had suffered too much unhappiness in england for england to have made her forget france\n",
            "from the respect paid her on all sides she seemed like a queen and from the adoration with which she was treated by 2 or 3 she appeared an object of worship the queen mother gave the french the most affectionate reception france was her native country and she had suffered too much unhappiness in england for england to have made her forget france\n",
            "she taught her daughter then by her own affection for it that love for a country where they had both been hospitably received and where a brilliant future opened before them\n",
            "she taught her daughter then by her own affection for it that love for a country where they had both been hospitably received and where a brilliant future opened for them\n",
            "the count had thrown himself back on his seat leaning his shoulders against the partition of the tent and remained thus his face buried in his hands with heaving chest and restless limbs\n",
            "the count had thrown himself back on his seat leaning his shoulders against the partition of the tent and remained thus his face buried in his hands with heaving chest and restless limbs\n",
            "this has indeed been a harassing day continued the young man his eyes fixed upon his friend\n",
            "this has indeed been a harassing day continued the young man his eyes fixed upon his friend\n",
            "you will be frank with me i always am\n",
            "you will be frank with me i always am\n",
            "can you imagine why buckingham has been so violent i suspect\n",
            "can you imagine why buckingham has been so violent i suspect\n",
            "it is you who are mistaken raoul i have read his distress in his eyes in his every gesture and action the whole day\n",
            "it is you who are mistaken rao i have read his distress in his eyes in his every gesture and action the whole day\n",
            "i can perceive love clearly enough\n",
            "i can perceive love clearly enough\n",
            "i am convinced of what i say said the count\n",
            "i am convinced of what i say said the count\n",
            "it is annoyance then\n",
            "it is annoyance then\n",
            "in those very terms i even added more\n",
            "in those very terms i even added more\n",
            "but continued raoul not interrupted by this movement of his friend heaven be praised the french who are pronounced to be thoughtless and indiscreet reckless even are capable of bringing a calm and sound judgment to bear on matters of such high importance\n",
            "but continued rao not interrupted by this movement of his friend heaven be praised the french who are pronounced to be thoughtless and indiscreet reckless even are capable of bringing a calm and sound judgment to bear on matters of such high importance\n",
            "thus it is that the honor of 3 is saved our country is our master is and our own\n",
            "thus it is that the honor of 3 is saved our country our masters and our own\n",
            "yes i need repose many things have agitated me to day both in mind and body when you return to morrow i shall no longer be the same man\n",
            "yes i need to repose many things have agitated me today both in mind and body when you return tomorrow i shall no longer be the same man\n",
            "but in this friendly pressure raoul could detect the nervous agitation of a great internal conflict\n",
            "but in this friendly pressure rao could detect the nervous agitation of a great internal conflict\n",
            "the night was clear starlit and splendid the tempest had passed away and the sweet influences of the evening had restored life peace and security everywhere\n",
            "the night was clear starlet and splendid the tempest had passed away and the sweet influences of the evening had restored life peace and security everywhere\n",
            "upon the large square in front of the hotel the shadows of the tents intersected by the golden moonbeams formed as it were a huge mosaic of jet and yellow flagstones\n",
            "upon the large square in front of the hotel the shadows of the tents intersected by the golden moonbeams formed as it were a huge mosaic of jet and yellow flagstones\n",
            "bragelonne watched for some time the conduct of the 2 lovers listened to the loud and uncivil slumbers of manicamp who snored as imperiously as though he was wearing his blue and gold instead of his violet suit\n",
            "braggelon watched for some time the conduct of the 2 lovers listened to the loud and uncivil slumbers of manicamp who snored as imperiously as though he was wearing his blue and gold instead of his violet suit\n",
            "goliath makes another discovery\n",
            "goliath makes another discovery\n",
            "they were certainly no nearer the solution of their problem\n",
            "they were certainly no near the solution of their problem\n",
            "the poor little things cried cynthia think of them having been turned to the wall all these years\n",
            "the poor little things cright cynthia think of them having been turned to the wall all these years\n",
            "now what was the sense of it 2 innocent babies like that\n",
            "now what is the sense of it 2 innocent babies like that\n"
          ]
        }
      ],
      "source": [
        "num_of_audio = 25\n",
        "for i in range(num_of_audio):\n",
        "  current_element = next(dset_iter)\n",
        "  audio = current_element[\"audio\"]\n",
        "  input_features = processor(audio[\"array\"], sampling_rate=audio[\"sampling_rate\"], return_tensors=\"pt\").input_features\n",
        "  reference = processor.tokenizer._normalize(current_element['text'])\n",
        "  references.append(reference)\n",
        "  print(reference)\n",
        "\n",
        "  start_time = time.time()\n",
        "  predicted_ids = model.generate(input_features)\n",
        "  transcription = processor.batch_decode(predicted_ids, skip_special_tokens=True)\n",
        "  end_time = time.time()\n",
        "\n",
        "  prediction = processor.tokenizer._normalize(transcription[0])\n",
        "  predictions.append(prediction)\n",
        "  print(prediction)\n",
        "\n",
        "  file_time = end_time - start_time\n",
        "  total_time += file_time"
      ]
    },
    {
      "cell_type": "code",
      "execution_count": null,
      "metadata": {
        "colab": {
          "base_uri": "https://localhost:8080/"
        },
        "id": "eX2FWt64VPmN",
        "outputId": "e80b53b5-b309-40e1-f9fe-4b55f523247f"
      },
      "outputs": [
        {
          "name": "stdout",
          "output_type": "stream",
          "text": [
            "25\n",
            "25\n"
          ]
        }
      ],
      "source": [
        "print(len(references))\n",
        "print(len(predictions))"
      ]
    },
    {
      "cell_type": "code",
      "execution_count": null,
      "metadata": {
        "colab": {
          "base_uri": "https://localhost:8080/"
        },
        "id": "LiRlueGsVPmN",
        "outputId": "c0a038a0-4d94-421d-932c-d75dda12eef6"
      },
      "outputs": [
        {
          "name": "stdout",
          "output_type": "stream",
          "text": [
            "Result wer: 3.8095238095238098\n",
            "Accuracy: 0.96190\n"
          ]
        }
      ],
      "source": [
        "from jiwer import wer\n",
        "wer_result = wer(references, predictions)\n",
        "print(f\"Result wer: {wer_result * 100}\")\n",
        "accuracy = 1 - wer_result\n",
        "print(\"Accuracy: %.5f\" % accuracy)"
      ]
    },
    {
      "cell_type": "code",
      "execution_count": null,
      "metadata": {
        "colab": {
          "base_uri": "https://localhost:8080/"
        },
        "id": "5A8y0gn_VPmN",
        "outputId": "e8060861-afed-4501-f1f8-70b73ef359c8"
      },
      "outputs": [
        {
          "name": "stdout",
          "output_type": "stream",
          "text": [
            "Общее время: 114.02 секунд\n",
            "Среднее время на одно аудио: 4.56 секунд\n"
          ]
        }
      ],
      "source": [
        "print(f\"Общее время: {total_time:.2f} секунд\")\n",
        "print(f\"Среднее время на одно аудио: {total_time/num_of_audio:.2f} секунд\")"
      ]
    },
    {
      "cell_type": "code",
      "execution_count": null,
      "metadata": {
        "id": "cmWk4gMk4uTU"
      },
      "outputs": [],
      "source": [
        "listwer = []\n",
        "listtime = []"
      ]
    },
    {
      "cell_type": "code",
      "execution_count": null,
      "metadata": {
        "colab": {
          "base_uri": "https://localhost:8080/"
        },
        "id": "1UNVFfgf4327",
        "outputId": "72f98ce2-2dac-44cb-f45f-24b60f832ccd"
      },
      "outputs": [
        {
          "name": "stdout",
          "output_type": "stream",
          "text": [
            "but joyce had not been listening all at once she put down her candle on the table and faced her companion\n",
            "but joyce had not been listening all at once she put down her candle on the table and faced her companion\n",
            "the twin brother did something she did not like and she turned his picture to the wall\n",
            "the twin brother did something she did not like and she turned his picture to the wall\n",
            "hers happened to be in the same frame too but she evidently did not care about that\n",
            "hers happened to be on the same frame 2 but she evidently did not care about it\n",
            "now what have you to say cynthia sprague\n",
            "now what have you to say cynthia sprague\n",
            "i thought we were stumped again when i 1st saw that picture but it has been of some use after all\n",
            "i thought we were stumped again when i 1st saw that picture but it has been of some use after all\n",
            "do you suppose the miniature was a copy of the same thing\n",
            "do you suppose the miniature was a copy of the same thing\n",
            "what in the world is that queried joyce\n",
            "what in the world is it query choice\n",
            "they worry me terribly and besides i would like to see what this lovely furniture looks like without such quantities of dust all over it good scheme cyn\n",
            "they were and me terribly and besides i would like to see what this lovely furniture looks like without such quantities of dust all over it good scheme sin\n",
            "we will come in here this afternoon with old clothes on and have a regular house cleaning\n",
            "we will come in here this afternoon with old clothes on and have a regular house cleaning\n",
            "it can not hurt anything i am sure for we will not disturb things at all\n",
            "he can not hurt anything i am sure for we will not disturb things at all\n",
            "this thought however did not enter the heads of the enthusiastic pair\n",
            "this thought however did not enter the heads of the enthusiastic pair\n",
            "smuggling the house cleaning paraphernalia into the cellar window unobserved that afternoon proved no easy task for cynthia had added a whisk broom and dust pan to the outfit\n",
            "smuggling the house cleaning paraphernalia into the seller window unobserved that afternoon proved no easy task for cynthia had added a whisk broom and dust pan to the outfit\n",
            "the lure proved too much for him and he came sporting after it as friskily as a young kitten much to cynthia is delight when she caught sight of him\n",
            "the lure proved too much for him and he came sporting after it as friskly as a young kitten much to cynthia is delight when she caught sight of him\n",
            "0 let him come along she urged i do love to see him about that old house\n",
            "0 let him come along she urged i do love to see him about that old house\n",
            "he makes it sort of cozier\n",
            "he makes it sort of cozier\n",
            "now let us dust the furniture and pictures\n",
            "now let us dust the furniture and pictures\n",
            "yet little as it was it had already made a vast difference in the aspect of the room\n",
            "yet little as it was it had already made a vast difference in the aspect of the room\n",
            "surface dust at least had been removed and the fine old furniture gave a hint of its real elegance and polish\n",
            "surface dust at least had been removed and the fine old furniture gave a hint of its real elegance and polish\n",
            "then she suddenly remarked\n",
            "then she suddenly remarked\n",
            "and my pocket money is getting low again and you have not any left as usual\n",
            "and my pocket money is getting low again and you have it any left as usual\n",
            "they say illumination by candle light is the prettiest in the world\n",
            "they say illumination by candlelight is the prettiest in the world\n",
            "why it is goliath as usual they both cried peering in\n",
            "why it is quiet as usual they both cry peering in\n",
            "is not he the greatest for getting into odd corners\n",
            "is not hate the greatest for getting into odd corners\n",
            "forgetting all their weariness they seized their candles and scurried through the house finding an occasional paper tucked away in some odd corner\n",
            "for getting all their weariness they seize their candles and scurry through the house finding on occasional paper tucked away in some odd corner\n",
            "well i am convinced that the boarded up house mystery happened not earlier than april 16th 1861 and probably not much later\n",
            "well i am convinced that the boarded up house mystery happened not earlier than april 16th 1861 and probably not much later\n",
            "no words were spoken no language was uttered save that of wailing and hissing and that somehow was indistinct as if it existed in fancy and not in reality\n",
            "no words were spoken no language was uttered saved out of wailing and hissing and that somehow was indistinct as if it existed in fancy and not in reality\n",
            "i heard a noise behind i turned and saw kaffar his black eyes shining while in his hand he held a gleaming knife he lifted it above his head as if to strike but i had the strength of 10 men and i hurled him from me\n",
            "i heard a noise behind i turned and saw caffer his black eyes shining while in his hand he held a gleaming knife he lifted it above his head as if to strike but i had the strength of 10 men and i hurled him from me\n",
            "onward said a distant voice\n",
            "onward said a distant voice\n",
            "no sound broke the stillness of the night\n",
            "no sound broke the stillness of the night\n",
            "the story of its evil influence came back to me and in my bewildered condition i wondered whether there was not some truth in what had been said\n",
            "the story of its evil influence came back to me and in my bewildered condition i wondered whether there was not some truth in what had been said\n",
            "what was that\n",
            "what was that\n",
            "what then a human hand large and shapely appeared distinctly on the surface of the pond\n",
            "what then a human hand large and shapely appeared distinctly on the surface of the pond\n",
            "nothing more not even the wrist to which it might be attached\n",
            "nothing more not even the wrist to which it might be attached\n",
            "it did not beckon or indeed move at all it was as still as the hand of death\n",
            "it did not beckon or indeed move at all it was as still as the hand of death\n",
            "i awoke to consciousness fighting at 1st it seemed as if i was fighting with a phantom but gradually my opponent became more real to me it was kaffar\n",
            "i awoke to consciousness fighting at 1st it seemed as if i was fighting with the phantom but gradually my opponent became more real to me it was caffer\n",
            "a sound of voices a flash of light\n",
            "a sound of voices a flash of light\n",
            "a feeling of freedom and i was awake where\n",
            "a feeling of freedom and i was awake where\n",
            "said another voice which i recognized as voltaire is kaffar\n",
            "set another voice which i recognize as vultures caffer\n",
            "i had scarcely known what i had been saying or doing up to this time but as he spoke i looked at my hand\n",
            "i had scarcely known what i had been saying or doing up to this time but as he spoke i looked at my hand\n",
            "in the light of the moon i saw a knife red with blood and my hand too was also discolored\n",
            "in the light of the moon i saw a knife red with blood and my hand too was also discolored\n",
            "i do not know i am dazed bewildered\n",
            "i do not know i am dazed bewildered\n",
            "but that is kaffar is knife\n",
            "but that is caffer is knife\n",
            "i know he had it this very evening\n",
            "i know he had it this very evening\n",
            "i remember saying have we been together\n",
            "i remember saying have we been together\n",
            "voltaire picked up something from the ground and looked at it\n",
            "will not you pick up something from the ground and look at it\n",
            "i say you do know what this means and you must tell us\n",
            "i say you do know what this means and you must tell us\n",
            "a terrible thought flashed into my mind\n",
            "a terrible thought flashed into my mind\n",
            "i had again been acting under the influence of this man is power\n",
            "i had again been acting under the influence of this man is power\n",
            "perchance too kaffar is death might serve him in good stead\n",
            "per chance too cafer is death might serve him in good stead\n",
            "my tongue refused to articulate my power of speech left me\n",
            "my tongue refused to articulate my power of speech left me\n",
            "my position was too terrible\n",
            "my position was too terrible\n",
            "my overwrought nerves yielded at last\n",
            "my overwrought nerves yielded at last\n",
            "for some time after that i remembered nothing distinctly\n",
            "for some time after that i remembered nothing distinctly\n",
            "notwithstanding the high resolution of hawkeye he fully comprehended all the difficulties and danger he was about to incur\n",
            "notwithstanding the high resolution of hawkeye he fully comprehended all the difficulties and danger he was about to incur\n",
            "in his return to the camp his acute and practiced intellects were intently engaged in devising means to counteract a watchfulness and suspicion on the part of his enemies that he knew were in no degree inferior to his own\n",
            "in his return to the camp his acute and practiced intellects were intently engaged in devising means to counteract a watchfulness and suspicion on the part of his enemies that he knew were in no degree inferior to his own\n",
            "in other words while he had implicit faith in the ability of balaam is ass to speak he was somewhat skeptical on the subject of a bear is singing and yet he had been assured of the latter on the testimony of his own exquisite organs\n",
            "in other words while he had implicit faith in the ability of balam is asked to speak he was somewhat skeptical on the subject of a bear is singing and yet he had been assured of the latter on the testimony of his own exquisite organs\n",
            "there was something in his air and manner that betrayed to the scout the utter confusion of the state of his mind\n",
            "there was something in his air in demand that betrayed to the scout the utter confusion of the state of his mind\n",
            "the ingenious hawkeye who recalled the hasty manner in which the other had abandoned his post at the bedside of the sick woman was not without his suspicions concerning the subject of so much solemn deliberation\n",
            "the ingenious hawkeye who recalled the hasty manner in which the other had abandoned his post at the bedside of the sick woman was not without his suspicions concerning the subject of so much solemn deliberation\n",
            "the bear shook his shaggy sides and then a well known voice replied\n",
            "the bear shook his shaggy sides and then a well known voice replied\n",
            "can these things be returned david breathing more freely as the truth began to dawn upon him\n",
            "can these things be return david breathing more freely as the truth began to dawn upon him\n",
            "come come returned hawkeye uncasing his honest countenance the better to assure the wavering confidence of his companion you may see a skin which if it be not as white as one of the gentle ones has no tinge of red to it that the winds of the heaven and the sun have not bestowed now let us to business\n",
            "com com returned hawkeye encasing his honest countenance the better to assure the wavering confidence of his companion you may see a skin which if it be not as white as one of the gentle ones has no tinge of red to it that the winds of the heaven and the sun have not bestowed now let us to business\n",
            "the young man is in bondage and much i fear his death is decreed\n",
            "the young man is in bondage and much i fear his death is decreed\n",
            "i greatly mourn that one so well disposed should die in his ignorance and i have sought a goodly hymn can you lead me to him\n",
            "i greatly mourn that one so well disposed should die in his ignorance and i have sought a goodly him can you lead me to him\n",
            "the task will not be difficult returned david hesitating though i greatly fear your presence would rather increase than mitigate his unhappy fortunes\n",
            "the task will not be difficult return david hesitating though i greatly fear your presence would rather increase than mitigate his unhappy fortunes\n",
            "the lodge in which uncas was confined was in the very center of the village and in a situation perhaps more difficult than any other to approach or leave without observation\n",
            "the lodge in which onkus was confined was in the very center of the village and in a situation perhaps more difficult than any other to approach or leave without observation\n",
            "4 or 5 of the latter only lingered about the door of the prison of uncas wary but close observers of the manner of their captive\n",
            "4 or 5 of the latter only lingered about the door of the prison of unkas wary but close observers of the manner of their captive\n",
            "delivered in a strong tone of assent announced the gratification the savage would receive in witnessing such an exhibition of weakness in an enemy so long hated and so much feared\n",
            "delivered in a strong tone of ascent announced the gratification the savage would receive and witnessing such an exhibition of weakness in an enemy so long hated and so much feared\n",
            "they drew back a little from the entrance and motioned to the supposed conjurer to enter\n",
            "they drew back a little from the entrance and motion to the supposed conjurer to enter\n",
            "but the bear instead of obeying maintained the seat it had taken and growled\n",
            "but the bear instead of obeying maintained the seed it had taken and growled\n",
            "the cunning man is afraid that his breath will blow upon his brothers and take away their courage too continued david improving the hint he received they must stand further off\n",
            "the cunning man is afraid that his breath will blow upon his brothers and take away their courage too continue david improving the hint he received they must stand further off\n",
            "then as if satisfied of their safety the scout left his position and slowly entered the place\n",
            "then as if satisfied of their safety the scout left his position and slowly entered the place\n",
            "it was silent and gloomy being tenanted solely by the captive and lighted by the dying embers of a fire which had been used for the purposed of cookery\n",
            "it was silent and gloomy being tenanted solely by the captive and lighted by the dying embers of a fire which had been used for the purpose of cookery\n",
            "uncas occupied a distant corner in a reclining attitude being rigidly bound both hands and feet by strong and painful withes\n",
            "ancus occupied a distant corner in a reclining attitude being rigidly bound both hands and feet by strong and painful widths\n",
            "the scout who had left david at the door to ascertain they were not observed thought it prudent to preserve his disguise until assured of their privacy\n",
            "the scout who had left david at the door to ascertain they were not observed thought it prudent to preserve his disguise until assured of their privacy\n",
            "what shall we do with the mingoes at the door they count 6 and this singer is as good as nothing\n",
            "what shall we do with the mingos at the door they count 6 and this singer is as good as nothing\n",
            "the delawares are children of the tortoise and they outstrip the deer\n",
            "the delaware is are children of the tortoise and they outstrip the deer\n",
            "uncas who had already approached the door in readiness to lead the way now recoiled and placed himself once more in the bottom of the lodge\n",
            "uncus who had already approached the door and readiness to lead the way now recoiled and placed himself once more in the bottom of the lodge\n",
            "but hawkeye who was too much occupied with his own thoughts to note the movement continued speaking more to himself than to his companion\n",
            "but hawkeye who was too much occupied with his own thoughts to note the movement continued speaking more to himself than to his companion\n",
            "so uncas you had better take the lead while i will put on the skin again and trust to cunning for want of speed\n",
            "so uncus you would better take the lead while i will put on the skin again and trust to cunning for want of speed\n",
            "well what can not be done by main courage in war must be done by circumvention\n",
            "well what can not be done by main courage and war must be done by circumvention\n",
            "as soon as these dispositions were made the scout turned to david and gave him his parting instructions\n",
            "as soon as these dispositions were made the scout turned to david and gave him his parting instructions\n",
            "my pursuits are peaceful and my temper i humbly trust is greatly given to mercy and love returned david a little nettled at so direct an attack on his manhood but there are none who can say that i have ever forgotten my faith in the lord even in the greatest straits\n",
            "my pursuits are peaceful and my temper i humbly trust is greatly given to mercy and love return david a little nettle that so direct and attack on his manhood but there are none who can say that i have ever forgotten my faith in the lord even in the greatest straits\n",
            "if you are not then knocked on the head your being a non composser will protect you and you will then have a good reason to expect to die in your bed\n",
            "if you are not then knocked on the head you are being a non composer will protect you and you will then have a good reason to expect to die in your bed\n",
            "so choose for yourself to make a rush or tarry here\n",
            "so choose for yourself to make a rush or terry here\n",
            "bravely and generously has he battled in my behalf and this and more will i dare in his service\n",
            "bravely and generously has he battled in my behalf and this and more will i dare in his service\n",
            "keep silent as long as may be and it would be wise when you do speak to break out suddenly in one of your shoutings which will serve to remind the indians that you are not altogether as responsible as men should be\n",
            "keep silent as long as may be and it would be wise when you do speak to break out suddenly in one of your shoutings which will serve to remind the indians that you are not altogether as responsible as men should be\n",
            "if however they take your scalp as i trust and believe they will not depend on it uncas and i will not forget the deed but revenge it as becomes true warriors and trusty friends\n",
            "if however they take your scalp as i trust and believe they will not depend on it unkas and i will not forget the deed but revenge it as becomes true warriors and trusty friends\n",
            "hold said david perceiving that with this assurance they were about to leave him i am an unworthy and humble follower of one who taught not the damnable principle of revenge\n",
            "holds said david perceiving that with this assurance they were about to leave him i am an unworthy and humble follower of one who taught not the damnable principle of revenge\n",
            "then heaving a heavy sigh probably among the last he ever drew in pining for a condition he had so long abandoned he added it is what i would wish to practice myself as one without a cross of blood though it is not always easy to deal with an indian as you would with a fellow christian\n",
            "then heaving a heavy sigh probably among the last he ever drew in pining for a condition he had so long abandoned he added it is what i would wish to practice myself as one without a cross of blood though it is not always easy to deal with an indian as you would with a fellow christian\n",
            "god bless you friend i do believe your scent is not greatly wrong when the matter is duly considered and keeping eternity before the eyes though much depends on the natural gifts and the force of temptation\n",
            "god bless you friend i do believe your sin is not greatly wrong when the matter is duly considered and keeping eternity before the eyes though much depends on the natural gifts and the force of temptation\n",
            "the delaware dog he said leaning forward and peering through the dim light to catch the expression of the other is features is he afraid\n",
            "the delaware dog he said leaning forward and peering through the dim light to catch the expression of the other is features is he afraid\n",
            "will the hurons hear his groans\n",
            "will the herons hear his groans\n",
            "the mohican started on his feet and shook his shaggy covering as though the animal he counterfeited was about to make some desperate effort\n",
            "the mohiken started on his feet and shook his shaggy covering as though the animal he counterfeited was about to make some desperate effort\n",
            "he had no occasion to delay for at the next instant a burst of cries filled the outer air and ran along the whole extent of the village\n",
            "he had no occasion to delay for at the next instant a burst of cries filled the outer air and ran along the whole extent of the village\n",
            "uncas cast his skin and stepped forth in his own beautiful proportions\n",
            "uncus cast his skin and stepped forth in his own beautiful proportions\n",
            "since the period of our tale the active spirit of the country has surrounded it with a belt of rich and thriving settlements though none but the hunter or the savage is ever known even now to penetrate its wild recesses\n",
            "since the period of our tale the active spirit of the country has surrounded it with a belt of rich and thriving settlements though none but the hunter or the savage is ever known even now to penetrate its wild recesses\n",
            "the dews were suffered to exhale and the sun had dispersed the mists and was shedding a strong and clear light in the forest when the travelers resumed their journey\n",
            "the dews were suffered to exhale and the sun had dispersed the mists and was shedding a strong and clear light in the forest when the travelers resumed their journey\n",
            "after proceeding a few miles the progress of hawkeye who led the advance became more deliberate and watchful\n",
            "after proceeding a few miles the progress of hawkeye who led the advance became more deliberate and watchful\n",
            "he often stopped to examine the trees nor did he cross a rivulet without attentively considering the quantity the velocity and the color of its waters\n",
            "he often stopped to examine the trees nor did he cross a rivulet without attentively considering the quantity the velocity and the color of its waters\n",
            "distrusting his own judgment his appeals to the opinion of chingachgook were frequent and earnest\n",
            "distrusting his own judgment his appeals to the opinion of chingachukwa frequent and earnest\n",
            "yet here are we within a short range of the scaroons and not a sign of a trail have we crossed\n",
            "yet here are we within a short range of the scouroons and not a sign of a trail have we crossed\n",
            "let us retrace our steps and examine as we go with keener eyes\n",
            "let us retrace our steps and examine as we go with keener eyes\n",
            "chingachgook had caught the look and motioning with his hand he bade him speak\n",
            "chingachguk had caught the look and motioning with his hand he bade him speak\n",
            "the eyes of the whole party followed the unexpected movement and read their success in the air of triumph that the youth assumed\n",
            "the eyes of the whole party followed the unexpected movement and read their success in the air of triumph that the youth assumed\n",
            "it would have been more wonderful had he spoken without a bidding\n",
            "it would have been more wonderful had he spoken without abiding\n",
            "see said uncas pointing north and south at the evident marks of the broad trail on either side of him the dark hair has gone toward the forest\n",
            "c said oncus pointing north and south at the evident marks of the broad trail on either side of him the dark hair has gone toward the forest\n",
            "if a rock or a rivulet or a bit of earth harder than common severed the links of the clew they followed the true eye of the scout recovered them at a distance and seldom rendered the delay of a single moment necessary\n",
            "if a rock or a rivulet or a bit of earth harder than common severed the links of the clue they followed the true eye of the scout recovered them at a distance and seldom rendered the delay of a single moment necessary\n",
            "extinguished brands were lying around a spring the offals of a deer were scattered about the place and the trees bore evident marks of having been browsed by the horses\n",
            "extinguished brands were lying around a spring the offels of a deer were scattered about the place and the trees bore evident marks of having been browsed by the horses\n",
            "a circle of a few 100 feet in circumference was drawn and each of the party took a segment for his portion\n",
            "a circle of a few 100 feet in circumference was drawn and each of the party took a segment for his portion\n",
            "the examination however resulted in no discovery\n",
            "the examination however resulted in no discovery\n",
            "the whole party crowded to the spot where uncas pointed out the impression of a moccasin in the moist alluvion\n",
            "the whole party crowded to the spot where unkas pointed out the impression of a moccasin in the moisteluvian\n",
            "run back uncas and bring me the size of the singer is foot\n",
            "run back unkas and bring me the size of the singer is foot\n",
            "110 clock had struck it was a fine clear night they were the only persons on the road and they sauntered leisurely along to avoid paying the price of fatigue for the recreation provided for the toledans in their valley or on the banks of their river\n",
            "11 a clock had struck it was a fine clear night there were the only persons on the road and they santed leisurely along to avoid paying the price of fatigue for the recreation provided for the toledans in the valley or on the banks of their river\n",
            "secure as he thought in the careful administration of justice in that city and the character of its well disposed inhabitants the good hidalgo was far from thinking that any disaster could befal his family\n",
            "secure as he thought in the careful administration of justice in that city and the character of its well disposed inhabitants the good had algo was far from thinking that any disaster could be fought as family\n",
            "rodolfo and his companions with their faces muffled in their cloaks stared rudely and insolently at the mother the daughter and the servant maid\n",
            "rudolfo and his companions with their faces muffled in their cloaks stared rudely and insolently at the mother the daughter and the servant made\n",
            "in a moment he communicated his thoughts to his companions and in the next moment they resolved to turn back and carry her off to please rodolfo for the rich who are open handed always find parasites ready to encourage their bad propensities and thus to conceive this wicked design to communicate it approve it resolve on ravishing leocadia and to carry that design into effect was the work of a moment\n",
            "in a moment he communicated his thoughts to his companions and in the next moment they resolved to turn back and carry her off to please riddolfo for the rich who are open handed always find parasites ready to encourage their bad propensities and thus to conceive this wicked design to communicate it approve it resolve on ravish and leocadia and to carry that design into effect was the work of a moment\n",
            "they drew their swords hid their faces in the flaps of their cloaks turned back and soon came in front of the little party who had not yet done giving thanks to god for their escape from those audacious men\n",
            "they drew their swords hid their faces in the flaps of their cloaks turned back and soon came in front of the little party who had not yet done giving thanks to god for their escape from those audacious men\n",
            "finally the one party went off exulting and the other was left in desolation and woe\n",
            "finally the one party went off exalting and the other was left in desolation and woe\n",
            "rodolfo arrived at his own house without any impediment and leocadia is parents reached theirs heart broken and despairing\n",
            "rudolfo arrived at his own house without any impediment and leocadia is parents reached theirs heartbroken and despairing\n",
            "meanwhile rodolfo had leocadia safe in his custody and in his own apartment\n",
            "meanwhile rudolfo had leukemia safe in his custody and in his own apartment\n",
            "who touches me am i in bed\n",
            "who touches me am i in bed\n",
            "mother dear father do you hear me\n",
            "mother dear father do you hear me\n",
            "it is the only amends i ask of you for the wrong you have done me\n",
            "it is the only amends i ask of you for the wrong you have done me\n",
            "she found the door but it was locked outside\n",
            "she found the door but it was locked outside\n",
            "she succeeded in opening the window and the moonlight shone in so brightly that she could distinguish the color of some damask hangings in the room\n",
            "she succeeded in opening the window and the moonlight shone in so brightly that she could distinguish the color of some damask hanging in the room\n",
            "she saw that the bed was gilded and so rich that it seemed that of a prince rather than of a private gentleman\n",
            "she saw that the bed was gilded and so rich that it seemed that of a prince rather than of a private gentleman\n",
            "among other things on which she cast her eyes was a small crucifix of solid silver standing on a cabinet near the window\n",
            "among other things on which she cast her eyes was a small crucifix of solid silver standing on a cabinet near the window\n",
            "this person was rodolfo who though he had gone to look for his friends had changed his mind in that respect not thinking it advisable to acquaint them with what had passed between him and the girl\n",
            "this person was ridolfo although he had gone to look for his friends had changed his mind in that respect not thinking it advisable to acquaint them but what had passed between him and the girl\n",
            "on the contrary he resolved to tell them that repenting of his violence and moved by her tears he had only carried her half way towards his house and then let her go\n",
            "on the contrary he resolved to tell them that repenting of his violence and moved by a tear he had only carried her halfway towards his house and then let her go\n",
            "choking with emotion leocadi made a sign to her parents that she wished to be alone with them\n",
            "choking with emotion leocadia made a sign to her parents that she wished to be alone with them\n",
            "that would be very well my child replied her father if your plan were not liable to be frustrated by ordinary cunning but no doubt this image has been already missed by its owner and he will have set it down for certain that it was taken out of the room by the person he locked up there\n",
            "that would be very well my child replied her father if your plan were not liable to be frustrated by ordinary cunning but no doubt this image had been already missed by its owner and he will have set it down for certain that it was taken out of the room by the person he locked up there\n",
            "what you had best do my child is to keep it and pray to it that since it was a witness to your undoing it will deign to vindicate your cause by its righteous judgment\n",
            "what you had best do my child is to keep it and pray to it that since it was a witness to your undoing it will dain to vindicate your cause by its righteous judgment\n",
            "thus did this humane and right minded father comfort his unhappy daughter and her mother embracing her again did all she could to soothe her feelings\n",
            "thus did the humane and right minded father comfort his unhappy daughter and her mother embracing her again did all she could to sue the feelings\n",
            "she meanwhile passed her life with her parents in the strictest retirement never letting herself be seen but shunning every eye lest it should read her misfortune in her face\n",
            "she meanwhile passed her life with her parents in the strictest retirement never letting herself be seen but shunning every eye elested should read her misfortune in her face\n",
            "time rolled on the hour of her delivery arrived it took place in the utmost secrecy her mother taking upon her the office of midwife and she gave birth to a son one of the most beautiful ever seen\n",
            "time rolled on the hour of her delivery arrived it took place in the atmos secrecy her mother taking upon her the office of midwife as she gave birth to a son one of the most beautiful ever seen\n",
            "when the boy walked through the streets blessings were showered upon him by all who saw him blessings upon his beauty upon the mother that bore him upon the father that begot him upon those who brought him up so well\n",
            "when the boy walked through the streets blessings were showered upon him by all who saw him blessing upon his beauty upon the mother that bore him upon the father that begot him upon those who brought him up so well\n",
            "one day when the boy was sent by his grandfather with a message to a relation he passed along a street in which there was a great concourse of horsemen\n",
            "one day when the boy was sent by his grandfather with a message to a relation he passed along a street in which there was a great concourse of horsemen\n",
            "the bed she too well remembered was there and above all the cabinet on which had stood the image she had taken away was still on the same spot\n",
            "the bed sheet too well remembered was there and above all the cabinet on which had stood the image she had taken away was still on the same spot\n",
            "luis was out of danger in a fortnight in a month he rose from his bed and during all that time he was visited daily by his mother and grandmother and treated by the master and mistress of the house as if he was their own child\n",
            "lewis was out of danger in a fortnight in a month he rose from his bed and during all that time he was visited daily by his mother and grandmother and treated by the master and mistress of the house as if he was their own child\n",
            "thus saying and pressing the crucifix to her breast she fell fainting into the arms of dona estafania who as a gentlewoman to whose sex pity is as natural as cruelty is to man instantly pressed her lips to those of the fainting girl shedding over her so many tears that there needed no other sprinkling of water to recover leocadia from her swoon\n",
            "thus saying and pressing the crucifix to her breast she fell fainting into the arms of donna estafania who as a gentle woman to whose sex pity is a natural as cruelty as to man instantly pressed her lips to those of the fainting girl shedding over her so many tears that there needed no other sprinkling of water to recover leocadia from her soon\n",
            "i have great things to tell you senor said dona estafania to her husband the cream and substance of which is this the fainting girl before you is your daughter and that boy is your grandson\n",
            "i have great things to tell you senor sadhana estafaunya to her husband the cream and substance of which is this the fainting girl before you is your daughter and the boy is your grandson\n",
            "this truth which i have learned from her lips is confirmed by his face in which we have both beheld that of our son\n",
            "this truth which i have learned from her lips is confirmed by his face in which we have both beheld that of our son\n",
            "just then leocadia came to herself and embracing the cross seemed changed into a sea of tears and the gentleman remained in utter bewilderment until his wife had repeated to him from beginning to end leocadia is whole story and he believed it through the blessed dispensation of heaven which had confirmed it by so many convincing testimonies\n",
            "just then leocadia came to herself and embracing the cross seemed changed into a sea of tears and the gentleman remaining in atrever wilderman until his wife had repeated to him from beginning to end leocadia is whole story and he believed it through the blessed dispensation of heaven which had confirmed it by so many convincing testimonies\n",
            "so persuasive were her entreaties and so strong her assurances that no harm whatever could result to them from the information she sought they were induced to confess that one summer is night the same she had mentioned themselves and another friend being out on a stroll with rodolfo they had been concerned in the abduction of a girl whom rodolfo carried off whilst the rest of them detained her family who made a great outcry and would have defended her if they could\n",
            "so persuasive were her entreaties and so strong her assurances that no harm whatever could result to them from the information she sought they were induced to confess that one summer is night the same she had mentioned themselves and another friend being out on a stroll with rudolfo they had been concerned in the adduction of a girl whom rudolfo carried off whilst the rest of them detained her family who made a great outcry and would have defended her if they could\n",
            "for god is sake my lady mother give me a wife who would be an agreeable companion not one who will disgust me so that we may both bear evenly and with mutual good will the yoke imposed on us by heaven instead of pulling this way and that way and fretting each other to death\n",
            "for god is sake my lady mother give me a wife who would be an agreeable companion not one who will disgust me so that we may both bear evenly and with mutual goodwill the yoke imposed on us by heaven instead of pulling this way and that way and fretting each other to death\n",
            "her bearing was graceful and animated she led her son by the hand and before her walked 2 maids with wax lights and silver candlesticks\n",
            "her bearing was graceful and animated she led her son by the hand and before her walked 2 maids with wax lights and silver candlesticks\n",
            "all rose to do her reverence as if something from heaven had miraculously appeared before them but gazing on her entranced with admiration not one of them was able to address a single word to her\n",
            "all rose to do her reverence as if something from heaven had miraculously appeared before them but gazing on her and trans with admiration not one of them was able to address a single word to her\n",
            "she reflected how near she stood to the crisis which was to determine whether she was to be blessed or unhappy for ever and racked by the intensity of her emotions she suddenly changed color her head dropped and she fell forward in a swoon into the arms of the dismayed estafania\n",
            "she reflected how near she stood to the crisis which was to determine whether she was to be blessed or unhappy forever and racked by the intensity of her emotions she suddenly changed color her head dropped and she fell forward in a swoon into the arms of the dismayed estaphania\n",
            "his mother had left her to him as being her destined protector but when she saw that he too was insensible she was near making a 3rd and would have done so had he not come to himself\n",
            "his mother had left her to him as being her distant protector but when she saw that he too was insensible she was near making a 3rd and would have done so had he not come to himself\n",
            "know then son of my heart that this fainting lady is your real bride i say real because she is the one whom your father and i have chosen for you and the portrait was a pretense\n",
            "no then son of my heart that this fainting lady is your real bride i say real because she is the one whom your father and i have chosen for you and the portrait was a pretense\n",
            "just at the moment when the tears of the pitying beholders flowed fastest and their ejaculations were most expressive of despair leocadia gave signs of recovery and brought back gladness to the hearts of all\n",
            "just at the moment when the tears of the pitting beholders flowed fastest and their ejaculations were most expressive of despair leocadia gave signs of recovery and brought back gladness through the hearts of all\n",
            "when she came to her senses and blushing to find herself in rodolfo is arms would have disengaged herself no senora he said that must not be strive not to withdraw from the arms of him who holds you in his soul\n",
            "when she came to her senses and blushing to find herself in rudolfo is arms would have disengaged herself no senora he said that must not be strive not to withdraw from the arms of him who holds you in his soul\n",
            "this was done for the event took place at a time when the consent of the parties was sufficient for the celebration of a marriage without any of the preliminary formalities which are now so properly required\n",
            "this was done for the event took place at a time when the consent of the parties was sufficient for the celebration of a marriage without any of the preliminary formalities which are now so properly required\n",
            "nor was rodolfo less surprised than they and the better to assure himself of so wonderful a fact he begged leocadia to give him some token which should make perfectly clear to him that which indeed he did not doubt since it was authenticated by his parents\n",
            "nor was rudolfo less surprised than they and the better to assure himself of so wonderful a fact he begged lucadia to give him some token which should make perfectly clear to him that which indeed he did not doubt since it was authenticated by his parents\n",
            "and how odd the directions will look\n",
            "and how odd the directions will look\n",
            "poor alice\n",
            "poor alice\n",
            "it was the white rabbit returning splendidly dressed with a pair of white kid gloves in one hand and a large fan in the other he came trotting along in a great hurry muttering to himself as he came 0 the duchess the duchess\n",
            "it was the white rabbit returning splendidly dressed for the pair of white kid gloves in one hand and a large fan in the other he came trotting along and a great hurry muttering to himself as he came 0 the duchess the duchess\n",
            "0 will not she be savage if i have kept her waiting\n",
            "0 will not she be savage if i have kept her waiting\n",
            "alice took up the fan and gloves and as the hall was very hot she kept fanning herself all the time she went on talking dear dear how queer everything is to day\n",
            "alice took up the fan and gloves and as the hall was very hot she kept fanning herself all the time she went on talking dear dear how queer everything is today\n",
            "and yesterday things went on just as usual\n",
            "and yesterday thanks for not just as usual\n",
            "i wonder if i have been changed in the night\n",
            "i wonder if i have been changed in the night\n",
            "i almost think i can remember feeling a little different\n",
            "i almost think i can remember feeling a little different\n",
            "i will try if i know all the things i used to know\n",
            "i will try if i know all the things i used to know\n",
            "i shall never get to 20 at that rate\n",
            "i shall never get to 20 at that rate\n",
            "how cheerfully he seems to grin how neatly spread his claws and welcome little fishes in with gently smiling jaws\n",
            "how cheerfully he seems to grin how neatly spread his claws and welcome little fishes in with gently smiling jaws\n",
            "no i have made up my mind about it if i am mabel i will stay down here\n",
            "no i have made up my mind about it if i am able i will stay down here\n",
            "it will be no use their putting their heads down and saying come up again dear\n",
            "it will be no use they are putting their heads down and saying come up again dear\n",
            "i am so very tired of being all alone here\n",
            "i am so very tired of being all alone here\n",
            "and i declare it is too bad that it is\n",
            "and i declare it is too bad that it is\n",
            "i wish i had not cried so much said alice as she swam about trying to find her way out\n",
            "i wish i had not cried so much said alice as she swam about trying to find her way out\n",
            "i shall be punished for it now i suppose by being drowned in my own tears\n",
            "i shall be punished for it now i suppose by being crowned in my own tears\n",
            "that will be a queer thing to be sure\n",
            "that will be a queer thing to be sure\n",
            "i am very tired of swimming about here 0 mouse\n",
            "i am very tired of swimming about here 0 mouse\n",
            "cried alice again for this time the mouse was bristling all over and she felt certain it must be really offended\n",
            "quite alice again for this time the mouse was bristling all over and she felt certain it must be really offended\n",
            "we will not talk about her any more if you would rather not we indeed\n",
            "we will not talk about her anymore if you would rather not we indeed\n",
            "saturday august 15th the sea unbroken all round no land in sight\n",
            "saturday august 15th the sea unbroken all round no land in sight\n",
            "the horizon seems extremely distant\n",
            "the horizon seems extremely distant\n",
            "all my danger and sufferings were needed to strike a spark of human feeling out of him but now that i am well his nature has resumed its sway\n",
            "all my danger and sufferings were needed to strike a spark of human feeling out of him but now that i am well his nature has resumed its sway\n",
            "you seem anxious my uncle i said seeing him continually with his glass to his eye anxious\n",
            "you seem anxious my uncle i said seeing him continually with his glass to his eye\n",
            "one might be with less reason than now\n",
            "one might be with less reason than now\n",
            "i am not complaining that the rate is slow but that the sea is so wide\n",
            "i am not complaining that the rate is slow but that the seat is so wide\n",
            "we are losing time and the fact is i have not come all this way to take a little sail upon a pond on a raft\n",
            "we are losing time and the fact is i have not come all this way to take a little sail upon a pond on a raft\n",
            "he called this sea a pond and our long voyage taking a little sail\n",
            "he called this sea upon and i longed for ways taking a little sail\n",
            "therefore do not talk to me about views and prospects\n",
            "therefore do not talk to me about views and prospects\n",
            "i take this as my answer and i leave the professor to bite his lips with impatience\n",
            "i take this as my answer and i leave the professor to bite his lips with impatience\n",
            "sunday august 16th\n",
            "sunday august 16\n",
            "nothing new weather unchanged the wind freshens\n",
            "nothing new whether unchanged the wind freshens\n",
            "but there seemed no reason to fear\n",
            "but there seem no reason to fear\n",
            "the shadow of the raft was clearly outlined upon the surface of the waves\n",
            "the shadow of the raft was clearly outlined upon the surface of the waves\n",
            "truly this sea is of infinite width\n",
            "truly this c is of infinite width\n",
            "it must be as wide as the mediterranean or the atlantic and why not\n",
            "it must be as wide as the mediterranean or the atlantic and why not\n",
            "these thoughts agitated me all day and my imagination scarcely calmed down after several hours sleep\n",
            "these thoughts agitated me all day and my imagination scarcely calmed down after several hours sleep\n",
            "i shudder as i recall these monsters to my remembrance\n",
            "i shudder as i recall these monsters to my remembrance\n",
            "i saw at the hamburg museum the skeleton of one of these creatures 30 feet in length\n",
            "i saw at the hamburg museum the skeleton of one of these creatures 30 feet in length\n",
            "i suppose professor liedenbrock was of my opinion too and even shared my fears for after having examined the pick his eyes traversed the ocean from side to side\n",
            "i suppose professor leidenbrock was of my opinion too and even shared my fears for after having examined the pick his eyes traversed the ocean from side to side\n",
            "tuesday august 18th\n",
            "tuesday august 18\n",
            "during his watch i slept\n",
            "during his watch i slept\n",
            "2 hours afterwards a terrible shock awoke me\n",
            "2 hours afterwards a terrible shock awoke me\n",
            "the raft was heaved up on a watery mountain and pitched down again at a distance of 20 fathoms\n",
            "the raft was heaved up on a watery mountain and pitched down again at a distance of 20 fathoms\n",
            "there is a whale a whale cried the professor\n",
            "there is a well a well cried the professor\n",
            "flight was out of the question now the reptiles rose they wheeled around our little raft with a rapidity greater than that of express trains\n",
            "flight was out of the question now the reptiles rose they wheeled around our little raft with a rapidity greater than that of express trains\n",
            "2 monsters only were creating all this commotion and before my eyes are 2 reptiles of the primitive world\n",
            "2 monsters only were creating all this commotion and before my eyes are 2 reptiles of the primitive world\n",
            "i can distinguish the eye of the ichthyosaurus glowing like a red hot coal and as large as a man is head\n",
            "i can distinguish the eye of the ictiasaurus glowing like a red hot cove and as large as a man is head\n",
            "its jaw is enormous and according to naturalists it is armed with no less than 182 teeth\n",
            "its jaw is enormous and according to naturalists it is armed with no less than 182 teeth\n",
            "those huge creatures attacked each other with the greatest animosity\n",
            "those huge creatures attack each other with the greatest animosity\n",
            "suddenly the ichthyosaurus and the plesiosaurus disappear below leaving a whirlpool eddying in the water\n",
            "suddenly the ictiasaurus and the plessiosaurus disappear below leaving a warpole edding in the water\n",
            "as for the ichthyosaurus has he returned to his submarine cavern\n",
            "as for the ithiasaurus has he returned to his submarine cavern\n",
            "the roarings become lost in the distance\n",
            "the rowings become lost in the distance\n",
            "the weather if we may use that term will change before long\n",
            "the weather if we may use the term we will change before lawn\n",
            "the atmosphere is charged with vapors pervaded with the electricity generated by the evaporation of saline waters\n",
            "the atmosphere is charged with vapors pervaded with the electricity generated by the evaporation of saline waters\n",
            "the electric light can scarcely penetrate through the dense curtain which has dropped over the theater on which the battle of the elements is about to be waged\n",
            "the electric light can scarcely penetrate through the dense curtain which is dropped over the theater on which the battle of the elements is about to be waged\n",
            "the air is heavy the sea is calm\n",
            "the air is heavy the sea is calm\n",
            "from time to time a fleecy tuft of mist with yet some gleaming light left upon it drops down upon the dense floor of gray and loses itself in the opaque and impenetrable mass\n",
            "from time to time a fleecey tuffed abyss with yet some gleaming light left upon it drops down upon the dense floor of gray and loses itself in the oak hake an impenetrable mass\n",
            "the atmosphere is evidently charged and surcharged with electricity\n",
            "the atmosphere is evidently charged and surcharged with electricity\n",
            "the wind never lulls but to acquire increased strength the vast bank of heavy clouds is a huge reservoir of fearful windy gusts and rushing storms\n",
            "the wind never lulls but to acquire increased strength the vast bank of heavy clouds is a huge reservoir of fearful windy gusts and rushing storms\n",
            "there is a heavy storm coming on i cried pointing towards the horizon\n",
            "there is a heavy storm coming on i cried pointing towards the horizon\n",
            "those clouds seem as if they were going to crush the sea\n",
            "those clouds seem as if they were going to crush the sea\n",
            "on the mast already i see the light play of a lambent saint elmo is fire the outstretched sail catches not a breath of wind and hangs like a sheet of lead\n",
            "on the mast already i see the light play of alamant and saint airwolf is fire the outstretched sail catches not a breath of wind and hangs like a sheet of lead\n",
            "but if we have now ceased to advance why do we yet leave that sail loose which at the 1st shock of the tempest may capsize us in a moment\n",
            "but if we have now ceased to advance why do we yet leave that sail loose which at the 1st shock of a tempest may capsize us in a moment\n",
            "that will be safest no no never\n",
            "that will be the safest no no never\n",
            "the piled up vapors condense into water and the air put into violent action to supply the vacuum left by the condensation of the mists rouses itself into a whirlwind\n",
            "the piled up vapors condensed into water and the air put into violent action to supply the vacuum left by the condensation of the mist rouses itself into a whirlwind\n",
            "hans stirs not\n",
            "hawnster is nod\n",
            "from the under surface of the clouds there are continual emissions of lurid light electric matter is in continual evolution from their component molecules the gaseous elements of the air need to be slaked with moisture for innumerable columns of water rush upwards into the air and fall back again in white foam\n",
            "from the under surface of the clouds there are continual emissions of lured light electric matter is in continual evolution from their component molecules the gaseous elements of the air need to be slaked with moisture for innumerable columns of water rush upwards into the air and fall back again in white foam\n",
            "i refer to the thermometer it indicates the figure is obliterated\n",
            "i refer to the thermometer it indicates the figure is obliterated\n",
            "is the atmospheric condition having once reached this density to become final\n",
            "is the atmospheric condition having once reached the density to become final\n",
            "the raft bears on still to the south east\n",
            "the raft bears on still to the southeast\n",
            "at noon the violence of the storm redoubles\n",
            "at noon the violence of the storm redoubles\n",
            "each of us is lashed to some part of the raft\n",
            "each of us is lashed to some part of the raft\n",
            "the waves rise above our heads\n",
            "the waves rise above our heads\n",
            "they seem to be we are lost but i am not sure\n",
            "they seem to be we are lost but i am not sure\n",
            "he nods his consent\n",
            "he nods his consent\n",
            "the fireball half of it white half azure blue and the size of a 10 inch shell moved slowly about the raft but revolving on its own axis with astonishing velocity as if whipped round by the force of the whirlwind\n",
            "the fireball half of it white half a zir blue and the size of a 10 inch shell moves solely about the raft but revolving on its own axis with astonishing velocity as if whipped round by the force of the whirlwind\n",
            "here it comes there it glides now it is up the ragged stump of the mast thence it lightly leaps on the provision bag descends with a light bound and just skims the powder magazine horrible\n",
            "here it comes there it glides now it is up the ragged stump of the mast then it lightly leaps on the provision bag descends with a light bound and just skims the powder magazine horrible\n",
            "we shall be blown up but no the dazzling disk of mysterious light nimbly leaps aside it approaches hans who fixes his blue eye upon it steadily it threatens the head of my uncle who falls upon his knees with his head down to avoid it\n",
            "we shall be blown up but no the dazzling disk of mysterious light nimbley leaps aside it approaches hans who fixes his blue eye upon it steadily it threatens the head of my uncle who falls upon its knees with his head down to avoid it\n",
            "a suffocating smell of nitrogen fills the air it enters the throat it fills the lungs\n",
            "a suffocating smell of nitrogen fills the air it enters the throat it fills the lungs\n",
            "we suffer stifling pains\n",
            "we suffer stifling pains\n",
            "the bogus legislature numbered 36 members\n",
            "the bogus legislature numbered 36 members\n",
            "this was at the march election 1855\n",
            "this was at the march election 1855\n",
            "that summer is emigration however being mainly from the free states greatly changed the relative strength of the 2 parties\n",
            "that is summer is immigration however being mainly from the free states greatly changed the relative strengths of the 2 parties\n",
            "for general service therefore requiring no special effort the numerical strength of the factions was about equal while on extraordinary occasions the 2000 border ruffian reserve lying a little farther back from the state line could at any time easily turn the scale\n",
            "for general service therefore requiring no special effort the numerical strength of the factions was about equal while on extraordinary occasions the 2000 border referion reserve lying a little farther back from the state line could it any time easily turn the scale\n",
            "the free state men had only their convictions their intelligence their courage and the moral support of the north the conspiracy had its secret combination the territorial officials the legislature the bogus laws the courts the militia officers the president and the army\n",
            "the free state men had only their convictions their intelligence their courage and the moral support of the north the conspiracy had its secret combination the territorial officials the legislature the bogus laws the courts the militia officers the president and the army\n",
            "this was a formidable array of advantages slavery was playing with loaded dice\n",
            "this was a formidable array of advantages slavery was playing with loaded dice\n",
            "coming by way of the missouri river towns he fell 1st among border ruffian companionship and influences and perhaps having his inclinations already molded by his washington instructions his early impressions were decidedly adverse to the free state cause\n",
            "coming by way of the missouri river towns he fell 1st among border refinned companionship and influences and perhaps having his inclinations already molded by his washington instructions his early impressions were decidedly adverse to the free state cause\n",
            "his reception speech at westport in which he maintained the legality of the legislature and his determination to enforce their laws delighted his pro slavery auditors\n",
            "his reception speech at westport in which he maintained the legality of the legislature and his determination to enforce their laws delighted his pro slavery auditors\n",
            "all the territorial dignitaries were present governor shannon presided john calhoun the surveyor general made the principal speech a denunciation of the abolitionists supporting the topeka movement chief justice lecompte dignified the occasion with approving remarks\n",
            "all the territorial dignitaries were present governor shannon presided john calhoun the surveyor general made the principal speech a denunciation of the abolitionist supporting the topeka movement chief justice lacomp dignified the occasion with approving remarks\n",
            "all dissent all non compliance all hesitation all mere silence even were in their stronghold towns like leavenworth branded as abolitionism declared to be hostility to the public welfare and punished with proscription personal violence expulsion and frequently death\n",
            "all dissent all non compliance all hesitation all mere silence even were in their stronghold towns like levinworth branded as abolitionism declared to be hostility to the public welfare and punished with proscription personal violence expulsion and frequently death\n",
            "of the lynchings the mobs and the murders it would be impossible except in a very extended work to note the frequent and atrocious details\n",
            "of the lynchings the mobs and the murders it would be impossible except in a very extended work to note the frequent and atrocious details\n",
            "the present chapters can only touch upon the more salient movements of the civil war in kansas which happily were not sanguinary if however the individual and more isolated cases of bloodshed could be described they would show a startling aggregate of barbarity and loss of life for opinion is sake\n",
            "the present chapters can only touch upon the more salient movements of the civil war in kansas which happily are not sanguinary if however the individual and more isolated cases of bloodshed could be described they would show a startling aggregate of barbarity and a loss of life for opinion is sake\n",
            "several 100 free state men promptly responded to the summons\n",
            "several 100 free state men promptly responded to the summons\n",
            "it was in fact the best weapon of its day\n",
            "it was in fact the best weapon of its day\n",
            "the leaders of the conspiracy became distrustful of their power to crush the town\n",
            "the leaders of the conspiracy became distrustful of their power to crush the town\n",
            "one of his militia generals suggested that the governor should require the outlaws at lawrence and elsewhere to surrender the sharps rifles another wrote asking him to call out the government troops at fort leavenworth\n",
            "one of his militia generals suggested that the governor should require the outlaws at lawrence and elsewhere to surrender the sharps rifles another wrote asking him to call out the government troops at fort levinworth\n",
            "the governor on his part becoming doubtful of the legality of employing missouri militia to enforce kansas laws was also eager to secure the help of federal troops\n",
            "the governor on his part becoming doubtful of the legality of employing missouri militia to enforce kansas laws was also eager to secure the help of federal troops\n",
            "sheriff jones had his pockets always full of writs issued in the spirit of persecution but was often baffled by the sharp wits and ready resources of the free state people and sometimes defied outright\n",
            "sheriff jones had his pockets always full of rits issued in the spirit of persecution but was often baffled by the sharp wits and ready resources of the free state people and sometimes defied outright\n",
            "little by little however the latter became hemmed and bound in the meshes of the various devices and proceedings which the territorial officials evolved from the bogus laws\n",
            "little by little however the latter became hemmed and bound in the meshes of the various devices and proceedings which the territorial officials evolved from the bogus laws\n",
            "to embarrass this damaging exposure judge lecompte issued a writ against the ex governor on a frivolous charge of contempt\n",
            "to embarrass this damaging exposure judge locompt issued a writ against the ex goviner on a frivolous charge of contempt\n",
            "the incident was not violent nor even dramatic no posse was summoned no further effort made and reeder fearing personal violence soon fled in disguise\n",
            "the incident was not violent nor even dramatic no posse was summoned no further effort made and reader fearing personal violence soon fled into skies\n",
            "but the affair was magnified as a crowning proof that the free state men were insurrectionists and outlaws\n",
            "but the affair was magnified as a crowning proof that the free state men were insurrectionists and outlaws\n",
            "from these again sprang barricaded and fortified dwellings camps and scouting parties finally culminating in roving guerrilla bands half partisan half predatory\n",
            "from these again spring barricaded and fortified dwellings camps and scout parties finally culminating in roving guerrilla vans half partisan half predatory\n",
            "their distinctive characters however display one broad and unfailing difference\n",
            "there are distinctive characters however display one broad and unfailing difference\n",
            "the free state men clung to their prairie towns and prairie ravines with all the obstinacy and courage of true defenders of their homes and firesides\n",
            "the free state men clung to their prairie towns and prairie ravines with all the obstinacy and courage of true defenders of their homes and firesides\n",
            "their assumed character changed with their changing opportunities or necessities\n",
            "they are assumed character changed with their changing opportunities or necessities\n",
            "in the shooting of sheriff jones in lawrence and in the refusal of ex governor beeder to allow the deputy marshal to arrest him they discovered grave offenses against the territorial and united states laws\n",
            "in the shooting of sheriff jones in lawrence and in the refusal of ex govina reader to allow the deputy marshal to arrest him they discovered grave offenses against the territorial and the united states laws\n",
            "footnote sumner to shannon may 12th 1856\n",
            "footnote summner to shannon may 12 1856\n",
            "private persons who had leased the free state hotel vainly besought the various authorities to prevent the destruction of their property\n",
            "private persons who at least the free state hotel vainly besought the various authorities to present the destruction of their property\n",
            "10 days were consumed in these negotiations but the spirit of vengeance refused to yield\n",
            "10 days were consumed in these negotiations but the spirit of vengeance refused to yield\n",
            "he summoned half a dozen citizens to join his posse who followed obeyed and assisted him\n",
            "he summoned happy dozen citizens to join his posse who followed obeyed and assisted him\n",
            "he continued his pretended search and to give color to his errand made 2 arrests\n",
            "he continued his pretended surge and to give color to his errand made to arrest\n",
            "the free state hotel a stone building in dimensions 50 by 70 feet 3 stories high and handsomely furnished previously occupied only for lodging rooms on that day for the 1st time opened its table accommodations to the public and provided a free dinner in honor of the occasion\n",
            "the free state hotel a stone building in dimensions 50 by 70 feet 3 stories high and handsomely furnished previously occupied only for lodging rooms on that day for the 1st time opened its table accommodations to the public and provided a free dinner in honor of the occasion\n",
            "as he had promised to protect the hotel the reassured citizens began to laugh at their own fears\n",
            "as he had promised to protect the hotel the reassured citizens began to laugh at their own fears\n",
            "to their sorrow they were soon undeceived\n",
            "to their sorrow they were soon undissieved\n",
            "the military force partly rabble partly organized had meanwhile moved into the town\n",
            "the military force partly rabble partly organized had meanwhile moved into the town\n",
            "he planted a company before the hotel and demanded a surrender of the arms belonging to the free state military companies\n",
            "he planted a company before the hotel and demanded a surrender of the arms belonging to the free state military companies\n",
            "half an hour later turning a deaf ear to all remonstrance he gave the proprietors until 50 clock to remove their families and personal property from the free state hotel\n",
            "half an hour later turning a deaf ear to all remonstrants he gave the proprietors until 50 clock to remove their families and personal property from the free state hotel\n",
            "atchison who had been haranguing the mob planted his 2 guns before the building and trained them upon it\n",
            "atchison who had been herringing the mob planted his 2 guns before the building and trained them upon it\n"
          ]
        }
      ],
      "source": [
        "for i in range(11):\n",
        "  num_of_audio = 25\n",
        "  for i in range(num_of_audio):\n",
        "    current_element = next(dset_iter)\n",
        "    audio = current_element[\"audio\"]\n",
        "    input_features = processor(audio[\"array\"], sampling_rate=audio[\"sampling_rate\"], return_tensors=\"pt\").input_features\n",
        "    reference = processor.tokenizer._normalize(current_element['text'])\n",
        "    references.append(reference)\n",
        "    print(reference)\n",
        "\n",
        "    start_time = time.time()\n",
        "    predicted_ids = model.generate(input_features)\n",
        "    transcription = processor.batch_decode(predicted_ids, skip_special_tokens=True)\n",
        "    end_time = time.time()\n",
        "\n",
        "    prediction = processor.tokenizer._normalize(transcription[0])\n",
        "    predictions.append(prediction)\n",
        "    print(prediction)\n",
        "\n",
        "    file_time = end_time - start_time\n",
        "    total_time += file_time\n",
        "  wer_result = wer(references, predictions)\n",
        "  listwer.append(wer_result*100)\n",
        "  listtime.append(total_time)"
      ]
    },
    {
      "cell_type": "code",
      "execution_count": null,
      "metadata": {
        "colab": {
          "base_uri": "https://localhost:8080/"
        },
        "id": "D_mg63C7Bmad",
        "outputId": "407973c8-ca45-4bd5-ddff-ea3e10c4257f"
      },
      "outputs": [
        {
          "name": "stdout",
          "output_type": "stream",
          "text": [
            "[4.628632938643703, 4.8062015503875966, 4.391534391534392, 4.151978065021543, 4.472843450479233, 4.5266488196641514, 4.494872354353044, 4.525993883792049, 4.731743666169896, 4.621352673300725, 4.701515620167028]\n",
            "[205.402813911438, 296.4485719203949, 423.85910058021545, 558.0162155628204, 667.7470791339874, 817.4740777015686, 936.3943474292755, 1043.8194456100464, 1162.5019054412842, 1288.2776317596436, 1412.4775195121765]\n"
          ]
        }
      ],
      "source": [
        "print(listwer)\n",
        "print(listtime)"
      ]
    },
    {
      "cell_type": "markdown",
      "metadata": {
        "id": "oXjywehhRGZA"
      },
      "source": [
        "<a name='1-5'></a>\n",
        "## Тестирование Whisper-Tiny\n",
        "Размер 0.15 GB\n",
        "\n",
        "300 примеров:\n",
        "\n",
        "501.17 секунд (8.3 минут)\n",
        "\n",
        "1.67 секунды на 1 пример\n",
        "\n",
        "WER 7.253"
      ]
    },
    {
      "cell_type": "code",
      "execution_count": null,
      "metadata": {
        "colab": {
          "base_uri": "https://localhost:8080/"
        },
        "id": "URbdcjn3YK3n",
        "outputId": "78c9d345-6fae-467d-c814-9aeec9b26996"
      },
      "outputs": [
        {
          "name": "stdout",
          "output_type": "stream",
          "text": [
            "Collecting datasets\n",
            "  Downloading datasets-2.16.1-py3-none-any.whl (507 kB)\n",
            "\u001b[2K     \u001b[90m━━━━━━━━━━━━━━━━━━━━━━━━━━━━━━━━━━━━━━━━\u001b[0m \u001b[32m507.1/507.1 kB\u001b[0m \u001b[31m3.3 MB/s\u001b[0m eta \u001b[36m0:00:00\u001b[0m\n",
            "\u001b[?25hRequirement already satisfied: filelock in /usr/local/lib/python3.10/dist-packages (from datasets) (3.13.1)\n",
            "Requirement already satisfied: numpy>=1.17 in /usr/local/lib/python3.10/dist-packages (from datasets) (1.23.5)\n",
            "Requirement already satisfied: pyarrow>=8.0.0 in /usr/local/lib/python3.10/dist-packages (from datasets) (10.0.1)\n",
            "Requirement already satisfied: pyarrow-hotfix in /usr/local/lib/python3.10/dist-packages (from datasets) (0.6)\n",
            "Collecting dill<0.3.8,>=0.3.0 (from datasets)\n",
            "  Downloading dill-0.3.7-py3-none-any.whl (115 kB)\n",
            "\u001b[2K     \u001b[90m━━━━━━━━━━━━━━━━━━━━━━━━━━━━━━━━━━━━━━━━\u001b[0m \u001b[32m115.3/115.3 kB\u001b[0m \u001b[31m9.9 MB/s\u001b[0m eta \u001b[36m0:00:00\u001b[0m\n",
            "\u001b[?25hRequirement already satisfied: pandas in /usr/local/lib/python3.10/dist-packages (from datasets) (1.5.3)\n",
            "Requirement already satisfied: requests>=2.19.0 in /usr/local/lib/python3.10/dist-packages (from datasets) (2.31.0)\n",
            "Requirement already satisfied: tqdm>=4.62.1 in /usr/local/lib/python3.10/dist-packages (from datasets) (4.66.1)\n",
            "Requirement already satisfied: xxhash in /usr/local/lib/python3.10/dist-packages (from datasets) (3.4.1)\n",
            "Collecting multiprocess (from datasets)\n",
            "  Downloading multiprocess-0.70.15-py310-none-any.whl (134 kB)\n",
            "\u001b[2K     \u001b[90m━━━━━━━━━━━━━━━━━━━━━━━━━━━━━━━━━━━━━━━━\u001b[0m \u001b[32m134.8/134.8 kB\u001b[0m \u001b[31m8.5 MB/s\u001b[0m eta \u001b[36m0:00:00\u001b[0m\n",
            "\u001b[?25hRequirement already satisfied: fsspec[http]<=2023.10.0,>=2023.1.0 in /usr/local/lib/python3.10/dist-packages (from datasets) (2023.6.0)\n",
            "Requirement already satisfied: aiohttp in /usr/local/lib/python3.10/dist-packages (from datasets) (3.9.1)\n",
            "Requirement already satisfied: huggingface-hub>=0.19.4 in /usr/local/lib/python3.10/dist-packages (from datasets) (0.20.3)\n",
            "Requirement already satisfied: packaging in /usr/local/lib/python3.10/dist-packages (from datasets) (23.2)\n",
            "Requirement already satisfied: pyyaml>=5.1 in /usr/local/lib/python3.10/dist-packages (from datasets) (6.0.1)\n",
            "Requirement already satisfied: attrs>=17.3.0 in /usr/local/lib/python3.10/dist-packages (from aiohttp->datasets) (23.2.0)\n",
            "Requirement already satisfied: multidict<7.0,>=4.5 in /usr/local/lib/python3.10/dist-packages (from aiohttp->datasets) (6.0.4)\n",
            "Requirement already satisfied: yarl<2.0,>=1.0 in /usr/local/lib/python3.10/dist-packages (from aiohttp->datasets) (1.9.4)\n",
            "Requirement already satisfied: frozenlist>=1.1.1 in /usr/local/lib/python3.10/dist-packages (from aiohttp->datasets) (1.4.1)\n",
            "Requirement already satisfied: aiosignal>=1.1.2 in /usr/local/lib/python3.10/dist-packages (from aiohttp->datasets) (1.3.1)\n",
            "Requirement already satisfied: async-timeout<5.0,>=4.0 in /usr/local/lib/python3.10/dist-packages (from aiohttp->datasets) (4.0.3)\n",
            "Requirement already satisfied: typing-extensions>=3.7.4.3 in /usr/local/lib/python3.10/dist-packages (from huggingface-hub>=0.19.4->datasets) (4.5.0)\n",
            "Requirement already satisfied: charset-normalizer<4,>=2 in /usr/local/lib/python3.10/dist-packages (from requests>=2.19.0->datasets) (3.3.2)\n",
            "Requirement already satisfied: idna<4,>=2.5 in /usr/local/lib/python3.10/dist-packages (from requests>=2.19.0->datasets) (3.6)\n",
            "Requirement already satisfied: urllib3<3,>=1.21.1 in /usr/local/lib/python3.10/dist-packages (from requests>=2.19.0->datasets) (2.0.7)\n",
            "Requirement already satisfied: certifi>=2017.4.17 in /usr/local/lib/python3.10/dist-packages (from requests>=2.19.0->datasets) (2023.11.17)\n",
            "Requirement already satisfied: python-dateutil>=2.8.1 in /usr/local/lib/python3.10/dist-packages (from pandas->datasets) (2.8.2)\n",
            "Requirement already satisfied: pytz>=2020.1 in /usr/local/lib/python3.10/dist-packages (from pandas->datasets) (2023.3.post1)\n",
            "Requirement already satisfied: six>=1.5 in /usr/local/lib/python3.10/dist-packages (from python-dateutil>=2.8.1->pandas->datasets) (1.16.0)\n",
            "Installing collected packages: dill, multiprocess, datasets\n",
            "Successfully installed datasets-2.16.1 dill-0.3.7 multiprocess-0.70.15\n"
          ]
        }
      ],
      "source": [
        "!pip install datasets"
      ]
    },
    {
      "cell_type": "code",
      "execution_count": null,
      "metadata": {
        "colab": {
          "base_uri": "https://localhost:8080/"
        },
        "id": "wjHHKe16YK3x",
        "outputId": "1cd28ac9-e3a7-4dff-9bf2-df17e443ed34"
      },
      "outputs": [
        {
          "name": "stdout",
          "output_type": "stream",
          "text": [
            "Collecting jiwer\n",
            "  Downloading jiwer-3.0.3-py3-none-any.whl (21 kB)\n",
            "Requirement already satisfied: click<9.0.0,>=8.1.3 in /usr/local/lib/python3.10/dist-packages (from jiwer) (8.1.7)\n",
            "Collecting rapidfuzz<4,>=3 (from jiwer)\n",
            "  Downloading rapidfuzz-3.6.1-cp310-cp310-manylinux_2_17_x86_64.manylinux2014_x86_64.whl (3.4 MB)\n",
            "\u001b[2K     \u001b[90m━━━━━━━━━━━━━━━━━━━━━━━━━━━━━━━━━━━━━━━━\u001b[0m \u001b[32m3.4/3.4 MB\u001b[0m \u001b[31m12.2 MB/s\u001b[0m eta \u001b[36m0:00:00\u001b[0m\n",
            "\u001b[?25hInstalling collected packages: rapidfuzz, jiwer\n",
            "Successfully installed jiwer-3.0.3 rapidfuzz-3.6.1\n"
          ]
        }
      ],
      "source": [
        "!pip install jiwer"
      ]
    },
    {
      "cell_type": "code",
      "execution_count": null,
      "metadata": {
        "colab": {
          "base_uri": "https://localhost:8080/",
          "height": 386,
          "referenced_widgets": [
            "e7d30296e4b04a2da810cd0e914af242",
            "d91fe0ebd0664d3587f1d801db074607",
            "3cc5c7f17295475b8c868c3ef09b3de0",
            "7f5d46b6ef564c3fabb502c2a882ca1e",
            "11d9fdd1cac242958237a65c1fe0824b",
            "50236587766441a2bec56c8973ad79f4",
            "bff85fef08c24267b727475dfeb2441f",
            "8397bfa060684e2b8b7316e636682565",
            "31ce19b263e74a51bd881262b9510c81",
            "4d77faba54d246aab77250fb686cefb3",
            "7231d34bab0b4ae9984e282e916cbd17",
            "18695b0b220d44938f80f1deba76b706",
            "daf0a534a629454b9878bde26c53ea6e",
            "066a4e42d240433b936722751e83caa0",
            "f848e1267efe4fab8a4a31e67c794457",
            "4f46457b8f5d4dffa2e4519bc2710afa",
            "01f58809823343b48002158fa32bf2e1",
            "32168f1336414e23ad7aa25eaf0fa4f5",
            "d3514b08cfce45cfbc357f51774b00e7",
            "a73a91d51d854fd9884aa711be6f2d2e",
            "af7068980df54759917c1e78fb7e7aab",
            "99fb2fc48499424a8d8fcec3a9da106b",
            "05bec7c17b8845dd87320dbc442cedbf",
            "e1ebf83def1a402b863a73f00b00229b",
            "0bbdc600a1d2492ebb6ed6fb5e8c3d53",
            "46e789bf005c4924a17bf24650652ff4",
            "88545bfe13724014ba10b077e17fa86e",
            "7324e6cf14d64ff6b09d352dc720a515",
            "c8e6428de1f74fb6a91d78fdb997a22b",
            "8577002f96e9448fb0c820de50f619b8",
            "c574c977b8c0411091433b6954b574ac",
            "2fb7fd704ae643bfbbadc157865ad0b0",
            "acc4819f7e67485aa61019c3fdc6684c",
            "c7386af8de5a4a319e75147841392d76",
            "2ca55078cbbf471a88b7b801e98a20de",
            "ae71084828fb4a7996b3f5790cfe1c39",
            "368778c3038b4a8882b0429832931507",
            "d200d66812dc4a5c88567bb4cbf99df8",
            "64ea4e4623ce4e6d881c16b811d4453c",
            "89d27fc9e3b24a72947247bf8fe192ff",
            "f8b313056c024a40ae9abfd4319d9cc4",
            "774fccdfe1714bd2b732f4ba664cf435",
            "027f8be6264f49e8b575fbdc4e991c44",
            "df21879053db4efe82b9f2d13c80344c",
            "90617cddfac5441f92d24791a7e78b1f",
            "90be17693cc545eebe3a41778a9a5c41",
            "d5a06e1f836949ffb8070f8877ef4c4d",
            "5f5f634a174f4d5daa658bb87f26aa8f",
            "a6e69d1431c44f8f8d86d47b10758cd3",
            "d032d8c0e50c4124b187222b0f479835",
            "1d133c48485c4d27b25212a774de74a8",
            "785a5dbfa83f4e3785145b14bc3531ba",
            "0cdc05b6b60f4e32b78aad6f567830fa",
            "1e27a0b1ad354b1e805dd8b51972103c",
            "3c00e81138ea42c7a583787f29da7532",
            "59efaa54cbed4c21918e259a3c4f41c2",
            "f8b6f9e6e9b3420b9552a6c5ac0d4c96",
            "52b993c1b85e4a61b4473a6b2abd84c7",
            "9684da412b0c4ab0a9cd843739705556",
            "798947ba82fd43bbaedcf436fe29e383",
            "9361648b65284bdc8492a496ef403bc6",
            "4779302ce95b49bb9f29b95f91e2e340",
            "2e447f5493e54b4285fde0eb3d4deda8",
            "49047d3667e64e8eb8b27585a9cbb393",
            "b672d6af777746018d8ca5b8c4b54747",
            "196bc51bc9ed42afa9295b1fdc1889c9",
            "097e631c6f3e4c5c9c2f5d4c8b8c43bc",
            "78bafe340db94aadab0c8dfd8f9c8703",
            "cc4d94be5e4f4fd4b78a531628c2bee7",
            "e299513758844564b46552958bb5cb4d",
            "aa189803517f44b682e26975d5a82661",
            "1466a998f0dc464cbebfd7f87dae7403",
            "88593d583ac24714811a9f688040ab85",
            "8c54f09f49a64f3dad1d4e5cef7011cf",
            "9b623f22b39c4cbca145a5f5beb29f18",
            "0bea4165ec984bf8a4e2844beb21f809",
            "d7c4e6871fe24a218b80445cea3763b0",
            "9c6e475f7b8f4cad924aaa561c772efa",
            "0ede81ec1c684c92a11fe813e9ac23fa",
            "140f5b3311d846d787a4ad8cb745c289",
            "8a858b5ce57f43cdbf471967a946166a",
            "f24c64c0071f45bd87da49ebbf641a83",
            "c6379e234c5a4e3dbc9521b185b8152d",
            "4ca18317f5b742f28691f15d207f5d30",
            "8653f78e56e543e99be1231fa45cb669",
            "53ae1abddd1b401e9841313a3b8add58",
            "28ede440958c415eb79980e8fb315ec5",
            "57994409bbf4416783b68a4701ef280b",
            "f84c04281ec241228f1354324fc0f933",
            "4dd2a6ced6e84647aa2e0e81b18a3375",
            "2062af0552714d4d805d62d533b27f01",
            "fc057a124e024044945579e54b5a70ce",
            "dcfcb9ddfbad42e893fef4694b92d93a",
            "c9fb6862ed0b48f1948ab28f97281e28",
            "fcf8f217e15b4a70a2c998e00cf016ff",
            "4e8a5f4496424413961db1def9fc7755",
            "f2d6782fc7744b3e9c5a03955358a675",
            "4ca0b8d479ed4c91bdbe7d7642769276",
            "eae4d3cd55d5450ca77b1e8ad0cdbe1d",
            "e749066144994e3b90db0875a4982ae8",
            "5ad38a39f6ca4021a3942e31f7e2cd53",
            "5c817a5e35374efea318bbe10ff1164f",
            "426892907a83490c9e672bd0904ff56e",
            "9d9df7ddd67d4ed981a5457a303a5f5a",
            "5e705f1b5541487e81e82124f62d45db",
            "8ec27889fb614bdfa3b72fcf760712a5",
            "e99bb6d8e58f4fc4b1db36d12d451a98",
            "789c311024a148fd8368931a5d902932",
            "641c2e9ad0f04dd6aabfe1f10bb2ec15",
            "c691c0d1ef844508b76892196f8190c8",
            "f40c4a6cc81c4b98bc7e8ed1477b9117",
            "f8d1138325d94da2b0ab0f2424e835fa",
            "791c3babe96343079530f651760ec68f",
            "1f776987ea8645a5b8bb0ffb8cb43eac",
            "4a07e438756a41ca8f16029c7cb01e09",
            "353e5ad3639b471db1ac0ac5e61302c0",
            "7a8ac338534e44d1a47a8422cbfc4a25",
            "0b3d94caabb1459890fa9f34c74333bf",
            "8374af639f494d2f82fb0515ca8ab2a1",
            "bf2482d3d6ab42c08caed185590ddb11",
            "237a3035ea8e49748b23d5d4835e9b5f"
          ]
        },
        "id": "3yQ0aVjMYK3y",
        "outputId": "2cef74f0-d13e-460c-e885-e2c73c556d07"
      },
      "outputs": [
        {
          "data": {
            "application/vnd.jupyter.widget-view+json": {
              "model_id": "e7d30296e4b04a2da810cd0e914af242",
              "version_major": 2,
              "version_minor": 0
            },
            "text/plain": [
              "preprocessor_config.json:   0%|          | 0.00/185k [00:00<?, ?B/s]"
            ]
          },
          "metadata": {},
          "output_type": "display_data"
        },
        {
          "data": {
            "application/vnd.jupyter.widget-view+json": {
              "model_id": "18695b0b220d44938f80f1deba76b706",
              "version_major": 2,
              "version_minor": 0
            },
            "text/plain": [
              "tokenizer_config.json:   0%|          | 0.00/805 [00:00<?, ?B/s]"
            ]
          },
          "metadata": {},
          "output_type": "display_data"
        },
        {
          "data": {
            "application/vnd.jupyter.widget-view+json": {
              "model_id": "05bec7c17b8845dd87320dbc442cedbf",
              "version_major": 2,
              "version_minor": 0
            },
            "text/plain": [
              "vocab.json:   0%|          | 0.00/836k [00:00<?, ?B/s]"
            ]
          },
          "metadata": {},
          "output_type": "display_data"
        },
        {
          "data": {
            "application/vnd.jupyter.widget-view+json": {
              "model_id": "c7386af8de5a4a319e75147841392d76",
              "version_major": 2,
              "version_minor": 0
            },
            "text/plain": [
              "tokenizer.json:   0%|          | 0.00/2.48M [00:00<?, ?B/s]"
            ]
          },
          "metadata": {},
          "output_type": "display_data"
        },
        {
          "data": {
            "application/vnd.jupyter.widget-view+json": {
              "model_id": "90617cddfac5441f92d24791a7e78b1f",
              "version_major": 2,
              "version_minor": 0
            },
            "text/plain": [
              "merges.txt:   0%|          | 0.00/494k [00:00<?, ?B/s]"
            ]
          },
          "metadata": {},
          "output_type": "display_data"
        },
        {
          "data": {
            "application/vnd.jupyter.widget-view+json": {
              "model_id": "59efaa54cbed4c21918e259a3c4f41c2",
              "version_major": 2,
              "version_minor": 0
            },
            "text/plain": [
              "normalizer.json:   0%|          | 0.00/52.7k [00:00<?, ?B/s]"
            ]
          },
          "metadata": {},
          "output_type": "display_data"
        },
        {
          "data": {
            "application/vnd.jupyter.widget-view+json": {
              "model_id": "097e631c6f3e4c5c9c2f5d4c8b8c43bc",
              "version_major": 2,
              "version_minor": 0
            },
            "text/plain": [
              "added_tokens.json:   0%|          | 0.00/34.6k [00:00<?, ?B/s]"
            ]
          },
          "metadata": {},
          "output_type": "display_data"
        },
        {
          "data": {
            "application/vnd.jupyter.widget-view+json": {
              "model_id": "9c6e475f7b8f4cad924aaa561c772efa",
              "version_major": 2,
              "version_minor": 0
            },
            "text/plain": [
              "special_tokens_map.json:   0%|          | 0.00/2.08k [00:00<?, ?B/s]"
            ]
          },
          "metadata": {},
          "output_type": "display_data"
        },
        {
          "data": {
            "application/vnd.jupyter.widget-view+json": {
              "model_id": "f84c04281ec241228f1354324fc0f933",
              "version_major": 2,
              "version_minor": 0
            },
            "text/plain": [
              "config.json:   0%|          | 0.00/1.98k [00:00<?, ?B/s]"
            ]
          },
          "metadata": {},
          "output_type": "display_data"
        },
        {
          "data": {
            "application/vnd.jupyter.widget-view+json": {
              "model_id": "e749066144994e3b90db0875a4982ae8",
              "version_major": 2,
              "version_minor": 0
            },
            "text/plain": [
              "model.safetensors:   0%|          | 0.00/151M [00:00<?, ?B/s]"
            ]
          },
          "metadata": {},
          "output_type": "display_data"
        },
        {
          "data": {
            "application/vnd.jupyter.widget-view+json": {
              "model_id": "f40c4a6cc81c4b98bc7e8ed1477b9117",
              "version_major": 2,
              "version_minor": 0
            },
            "text/plain": [
              "generation_config.json:   0%|          | 0.00/3.75k [00:00<?, ?B/s]"
            ]
          },
          "metadata": {},
          "output_type": "display_data"
        },
        {
          "name": "stdout",
          "output_type": "stream",
          "text": [
            "Device: cpu\n"
          ]
        }
      ],
      "source": [
        "from transformers import WhisperProcessor, WhisperForConditionalGeneration\n",
        "import time\n",
        "import torch\n",
        "device = torch.device(\"cuda\" if torch.cuda.is_available() else \"cpu\")\n",
        "\n",
        "# Загрузите модель и процессор\n",
        "processor = WhisperProcessor.from_pretrained(\"openai/whisper-tiny\")\n",
        "model = WhisperForConditionalGeneration.from_pretrained(\"openai/whisper-tiny\")\n",
        "model.config.forced_decoder_ids = None\n",
        "\n",
        "# Перенесите модель на GPU, если CUDA доступен\n",
        "model.to(device)\n",
        "\n",
        "print(\"Device:\", device)\n",
        "\n",
        "# Дополнительная информация о GPU, если доступно\n",
        "if device.type == 'cuda':\n",
        "    print(\"GPU Name:\", torch.cuda.get_device_name(0))\n",
        "    print(\"CUDA Version:\", torch.version.cuda)\n"
      ]
    },
    {
      "cell_type": "code",
      "execution_count": null,
      "metadata": {
        "colab": {
          "base_uri": "https://localhost:8080/",
          "height": 169,
          "referenced_widgets": [
            "00de5a52d21b46b8add4d911cbadb0d0",
            "0dda34175ac042b789c97f0174e1d061",
            "ee4dfbe7c05c428f85f83b27792bafcc",
            "02e82ece86a04d5f85af2e3d1e7f42d1",
            "face1f0fae3a4a4eb5d29d12d55ae616",
            "444bff89f42e45feb6a69de82b967b48",
            "276910cde8ad47a8bc8d5631cd97e7c1",
            "34e3a0f8b3ee4dbbba3d4ba8f3575fd9",
            "90d06cbeb43d4253a557c00477e0fe14",
            "9b7f4aee22ca492aab508f96d1682169",
            "fe747ddb68eb4d5c98a5f29bba497a67",
            "f12828ba73ce44db83ef5a27c676048d",
            "ad692d66006643149d6b5b2b883e4886",
            "cb7809d0461848dfbb7bc04cc622c94f",
            "10b4188d41f2425f9e4df4f63b822914",
            "fb3728b761a9496fa406ab250e1f676c",
            "10ad2a51dc3a4055b458457132ca7e09",
            "c55322ebf0564a79b29881a970e513a6",
            "7b95290270054310bced776cadd41a80",
            "2f936e439573491d9d0b59e271897b43",
            "12032ec64cbf4ea88f75f11e3b40de1c",
            "97e3d1dad25d4fa2a8080909cf959186"
          ]
        },
        "id": "N9PJR7ZJYK3z",
        "outputId": "87243e6d-4983-41bf-bc40-43582ef24f7d"
      },
      "outputs": [
        {
          "name": "stderr",
          "output_type": "stream",
          "text": [
            "/usr/local/lib/python3.10/dist-packages/datasets/load.py:1429: FutureWarning: The repository for librispeech_asr contains custom code which must be executed to correctly load the dataset. You can inspect the repository content at https://hf.co/datasets/librispeech_asr\n",
            "You can avoid this message in future by passing the argument `trust_remote_code=True`.\n",
            "Passing `trust_remote_code=True` will be mandatory to load this dataset from the next major release of `datasets`.\n",
            "  warnings.warn(\n"
          ]
        },
        {
          "data": {
            "application/vnd.jupyter.widget-view+json": {
              "model_id": "00de5a52d21b46b8add4d911cbadb0d0",
              "version_major": 2,
              "version_minor": 0
            },
            "text/plain": [
              "Downloading builder script:   0%|          | 0.00/11.5k [00:00<?, ?B/s]"
            ]
          },
          "metadata": {},
          "output_type": "display_data"
        },
        {
          "data": {
            "application/vnd.jupyter.widget-view+json": {
              "model_id": "f12828ba73ce44db83ef5a27c676048d",
              "version_major": 2,
              "version_minor": 0
            },
            "text/plain": [
              "Downloading readme:   0%|          | 0.00/10.2k [00:00<?, ?B/s]"
            ]
          },
          "metadata": {},
          "output_type": "display_data"
        }
      ],
      "source": [
        "from datasets import load_dataset\n",
        "\n",
        "dset = load_dataset(\"librispeech_asr\", 'clean', split=\"test\", streaming=True)"
      ]
    },
    {
      "cell_type": "code",
      "execution_count": null,
      "metadata": {
        "id": "PKlHj1gQYK30"
      },
      "outputs": [],
      "source": [
        "dset_iter = iter(dset)  # создаем итератор"
      ]
    },
    {
      "cell_type": "code",
      "execution_count": null,
      "metadata": {
        "id": "PctqnsaZYK30"
      },
      "outputs": [],
      "source": [
        "#для пропуска первых n элементов датасета\n",
        "n = 0\n",
        "for _ in range(n):\n",
        "  next(dset_iter)\n",
        "  #first_element = next(dset_iter)\n",
        "  #print(first_element)\n"
      ]
    },
    {
      "cell_type": "code",
      "execution_count": null,
      "metadata": {
        "id": "xA1OAW9dYK31"
      },
      "outputs": [],
      "source": [
        "predictions = []\n",
        "references = []\n",
        "total_time = 0"
      ]
    },
    {
      "cell_type": "code",
      "execution_count": null,
      "metadata": {
        "colab": {
          "base_uri": "https://localhost:8080/"
        },
        "id": "KZyejz_3YK31",
        "outputId": "8b98f6f8-255d-45c4-d8ae-166bcc4d5ee3"
      },
      "outputs": [
        {
          "name": "stdout",
          "output_type": "stream",
          "text": [
            "concord returned to its place amidst the tents\n",
            "conquered returned to its place amidst the tents\n",
            "the english forwarded to the french baskets of flowers of which they had made a plentiful provision to greet the arrival of the young princess the french in return invited the english to a supper which was to be given the next day\n",
            "the english forwarded to the french baskets of flowers of which they had made a plantable provision to greet the arrival of the young princess the french in return invited the english to a supper which was to be given the next day\n",
            "congratulations were poured in upon the princess everywhere during her journey\n",
            "congratulations report in upon the princess everywhere during her journey\n",
            "from the respect paid her on all sides she seemed like a queen and from the adoration with which she was treated by 2 or 3 she appeared an object of worship the queen mother gave the french the most affectionate reception france was her native country and she had suffered too much unhappiness in england for england to have made her forget france\n",
            "from the respect paid her on all sides she seemed like a queen and from the adoration with which she was treated by 2 or 3 she appeared in object of worship the queen mother gave the french the most affectionate reception france was her native country and she has suffered too much unhappiness in england for england to have made her forget france\n",
            "she taught her daughter then by her own affection for it that love for a country where they had both been hospitably received and where a brilliant future opened before them\n",
            "she taught her daughter then by her own affection for it that love for a country where they had both been hospitably received and where a brilliant future opened for them\n",
            "the count had thrown himself back on his seat leaning his shoulders against the partition of the tent and remained thus his face buried in his hands with heaving chest and restless limbs\n",
            "the count had thrown himself back on his seat leaning his shoulders against the partition of the tent and remained thus his face buried in his hands with heaving chest and restless limbs\n",
            "this has indeed been a harassing day continued the young man his eyes fixed upon his friend\n",
            "this has indeed been a harassing day continued the young man his eyes fixed upon his friend\n",
            "you will be frank with me i always am\n",
            "you will be frank with me i always am\n",
            "can you imagine why buckingham has been so violent i suspect\n",
            "can you imagine my buckingham has been so violent i suspect\n",
            "it is you who are mistaken raoul i have read his distress in his eyes in his every gesture and action the whole day\n",
            "it is you who are mistaken rao i have read his distress in his eyes in his every gesture and action the whole day\n",
            "i can perceive love clearly enough\n",
            "i can perceive love clearly enough\n",
            "i am convinced of what i say said the count\n",
            "i am convinced of what i say said the count\n",
            "it is annoyance then\n",
            "it is annoyance then\n",
            "in those very terms i even added more\n",
            "in those very terms i even had it more\n",
            "but continued raoul not interrupted by this movement of his friend heaven be praised the french who are pronounced to be thoughtless and indiscreet reckless even are capable of bringing a calm and sound judgment to bear on matters of such high importance\n",
            "but continued rauh not interrupted by this movement of his friend heaven be praised the french who are pronounced to be thoughtless and indiscrete reckless even are capable of bringing a calm and sound judgment to bear on matters of such high importance\n",
            "thus it is that the honor of 3 is saved our country is our master is and our own\n",
            "thus it is that the honor of 3 is saved our country our masters and our own\n",
            "yes i need repose many things have agitated me to day both in mind and body when you return to morrow i shall no longer be the same man\n",
            "yes i need repose many things have agitated me today both in mind and body when you return tomorrow i shall no longer be the same man\n",
            "but in this friendly pressure raoul could detect the nervous agitation of a great internal conflict\n",
            "but in this friendly pressure rao could detect the nervous agitation of a great internal conflict\n",
            "the night was clear starlit and splendid the tempest had passed away and the sweet influences of the evening had restored life peace and security everywhere\n",
            "the night was clear starlet and splendid the tempest had passed away and the sweet influences of the evening had restored life peace and security everywhere\n",
            "upon the large square in front of the hotel the shadows of the tents intersected by the golden moonbeams formed as it were a huge mosaic of jet and yellow flagstones\n",
            "upon the large square in front of the hotel the shadows of the tents intersected by the golden moon beams formed as it were a huge mosaic of jet and yellow flagstones\n",
            "bragelonne watched for some time the conduct of the 2 lovers listened to the loud and uncivil slumbers of manicamp who snored as imperiously as though he was wearing his blue and gold instead of his violet suit\n",
            "brayla on watched for some time the conduct of the 2 lovers listened to the loud and unsillable slumbers of manacamp who snored as empirously as though he was wearing his blue and gold instead of his violet suit\n",
            "goliath makes another discovery\n",
            "galaya makes another discovery\n",
            "they were certainly no nearer the solution of their problem\n",
            "they were certainly known near the solution of their problem\n",
            "the poor little things cried cynthia think of them having been turned to the wall all these years\n",
            "the poor little things cried cynthia think of them having been turned to the wall all these years\n",
            "now what was the sense of it 2 innocent babies like that\n",
            "now what is the sense of it 2 innocent babies like that\n"
          ]
        }
      ],
      "source": [
        "num_of_audio = 25\n",
        "for i in range(num_of_audio):\n",
        "  current_element = next(dset_iter)\n",
        "  audio = current_element[\"audio\"]\n",
        "  input_features = processor(audio[\"array\"], sampling_rate=audio[\"sampling_rate\"], return_tensors=\"pt\").input_features\n",
        "  reference = processor.tokenizer._normalize(current_element['text'])\n",
        "  references.append(reference)\n",
        "  print(reference)\n",
        "\n",
        "  start_time = time.time()\n",
        "  predicted_ids = model.generate(input_features)\n",
        "  transcription = processor.batch_decode(predicted_ids, skip_special_tokens=True)\n",
        "  end_time = time.time()\n",
        "\n",
        "  prediction = processor.tokenizer._normalize(transcription[0])\n",
        "  predictions.append(prediction)\n",
        "  print(prediction)\n",
        "\n",
        "  file_time = end_time - start_time\n",
        "  total_time += file_time"
      ]
    },
    {
      "cell_type": "code",
      "execution_count": null,
      "metadata": {
        "colab": {
          "base_uri": "https://localhost:8080/"
        },
        "id": "6Pwc36INYK32",
        "outputId": "4e7f4812-69ab-43e4-f956-aefd0970711e"
      },
      "outputs": [
        {
          "name": "stdout",
          "output_type": "stream",
          "text": [
            "25\n",
            "25\n"
          ]
        }
      ],
      "source": [
        "print(len(references))\n",
        "print(len(predictions))"
      ]
    },
    {
      "cell_type": "code",
      "execution_count": null,
      "metadata": {
        "colab": {
          "base_uri": "https://localhost:8080/"
        },
        "id": "ZejMJtp4YK32",
        "outputId": "043f7b8e-9b35-4a6b-a2bb-20cefa0cb52e"
      },
      "outputs": [
        {
          "name": "stdout",
          "output_type": "stream",
          "text": [
            "Result wer: 6.2857142857142865\n",
            "Accuracy: 0.93714\n"
          ]
        }
      ],
      "source": [
        "from jiwer import wer\n",
        "wer_result = wer(references, predictions)\n",
        "print(f\"Result wer: {wer_result * 100}\")\n",
        "accuracy = 1 - wer_result\n",
        "print(\"Accuracy: %.5f\" % accuracy)"
      ]
    },
    {
      "cell_type": "code",
      "execution_count": null,
      "metadata": {
        "colab": {
          "base_uri": "https://localhost:8080/"
        },
        "id": "97H_UyqTYK32",
        "outputId": "1bfa8c67-6394-4a36-efa7-3a6f36cdc9fe"
      },
      "outputs": [
        {
          "name": "stdout",
          "output_type": "stream",
          "text": [
            "Общее время: 41.11 секунд\n",
            "Среднее время на одно аудио: 1.64 секунд\n"
          ]
        }
      ],
      "source": [
        "print(f\"Общее время: {total_time:.2f} секунд\")\n",
        "print(f\"Среднее время на одно аудио: {total_time/num_of_audio:.2f} секунд\")"
      ]
    },
    {
      "cell_type": "code",
      "execution_count": null,
      "metadata": {
        "id": "2d06PGX-YK33"
      },
      "outputs": [],
      "source": [
        "listwer = []\n",
        "listtime = []"
      ]
    },
    {
      "cell_type": "code",
      "execution_count": null,
      "metadata": {
        "colab": {
          "base_uri": "https://localhost:8080/"
        },
        "id": "h6qawob4YK33",
        "outputId": "5957eedc-d476-497a-9387-6849b6080868"
      },
      "outputs": [
        {
          "name": "stdout",
          "output_type": "stream",
          "text": [
            "but joyce had not been listening all at once she put down her candle on the table and faced her companion\n",
            "but joyce had not been listening all at once she put down her candle on the table and faced her companion\n",
            "the twin brother did something she did not like and she turned his picture to the wall\n",
            "the twin brother did something she did not like and she turned his picture to the wall\n",
            "hers happened to be in the same frame too but she evidently did not care about that\n",
            "hers happened to be on the same frame too but she evidently did not care about it\n",
            "now what have you to say cynthia sprague\n",
            "now what have you to say cynthia sprug\n",
            "i thought we were stumped again when i 1st saw that picture but it has been of some use after all\n",
            "i thought we were stumped again when i 1st saw that picture but it has been some use after all\n",
            "do you suppose the miniature was a copy of the same thing\n",
            "do you suppose the miniature was a copy of the same thing\n",
            "what in the world is that queried joyce\n",
            "what in the world is it query choice\n",
            "they worry me terribly and besides i would like to see what this lovely furniture looks like without such quantities of dust all over it good scheme cyn\n",
            "may worry me terribly ambicides i would like to see what this lovely furniture looks like without such quantities of dust all over it good it is scheme sin\n",
            "we will come in here this afternoon with old clothes on and have a regular house cleaning\n",
            "we will come in here this afternoon with old clothes on and have a regular house cleaning\n",
            "it can not hurt anything i am sure for we will not disturb things at all\n",
            "i can not hurt anything i am sure for we will not disturb things at all\n",
            "this thought however did not enter the heads of the enthusiastic pair\n",
            "this thought however did not enter the heads of the enthusiastic pair\n",
            "smuggling the house cleaning paraphernalia into the cellar window unobserved that afternoon proved no easy task for cynthia had added a whisk broom and dust pan to the outfit\n",
            "smuggling the house cleaning paraphernalia into the seller window unabserved that afternoon proved no easy task for cynthia had added a whisk broom and dust pan to the outfit\n",
            "the lure proved too much for him and he came sporting after it as friskily as a young kitten much to cynthia is delight when she caught sight of him\n",
            "the lure proved too much for him and he came sporting after it as friscally as a young kitten much to cynthia is delight when she caught sight of him\n",
            "0 let him come along she urged i do love to see him about that old house\n",
            "0 let him come along she urged i do love to see him about that old house\n",
            "he makes it sort of cozier\n",
            "he makes it sort of cozier\n",
            "now let us dust the furniture and pictures\n",
            "now let us dust the furniture and pictures\n",
            "yet little as it was it had already made a vast difference in the aspect of the room\n",
            "yet lino as it was it had already made a vast difference in the aspect of the room\n",
            "surface dust at least had been removed and the fine old furniture gave a hint of its real elegance and polish\n",
            "surface dust at least had been removed and the fine old furniture gave a hint of its real elegance and polish\n",
            "then she suddenly remarked\n",
            "then she suddenly remarked\n",
            "and my pocket money is getting low again and you have not any left as usual\n",
            "and my pocket money is getting lower again and you have it any left as usual\n",
            "they say illumination by candle light is the prettiest in the world\n",
            "they say illumination by candlelight is the prettiest in the world\n",
            "why it is goliath as usual they both cried peering in\n",
            "why it is glyphosusual they both cry appearing in\n",
            "is not he the greatest for getting into odd corners\n",
            "is a hate the greatest for getting into odd corners\n",
            "forgetting all their weariness they seized their candles and scurried through the house finding an occasional paper tucked away in some odd corner\n",
            "forgetting all their wearingess they seized their candles and streed through the house finding on occasional paper tucked away in some odd corner\n",
            "well i am convinced that the boarded up house mystery happened not earlier than april 16th 1861 and probably not much later\n",
            "well i am convinced that the boarded up house mystery happened not earlier than april 16th 1861 and probably not much later\n",
            "no words were spoken no language was uttered save that of wailing and hissing and that somehow was indistinct as if it existed in fancy and not in reality\n",
            "no words were spoken no language was uttered saved out of wailing and hissing and that somehow was indistinct as if it existed in fancy and not in reality\n",
            "i heard a noise behind i turned and saw kaffar his black eyes shining while in his hand he held a gleaming knife he lifted it above his head as if to strike but i had the strength of 10 men and i hurled him from me\n",
            "i heard a noise behind i turned and saw a caffer his black eyes shining while in his hand he held a gleaming knife he lifted it above his head as if to strike but i had the strength of 10 men and i hurled him from me\n",
            "onward said a distant voice\n",
            "onward said a distant voice\n",
            "no sound broke the stillness of the night\n",
            "no sound broke the stillness of the night\n",
            "the story of its evil influence came back to me and in my bewildered condition i wondered whether there was not some truth in what had been said\n",
            "the story of its evil influence came back to me and in my bewildered condition i wondered whether there was not some truth in what had been said\n",
            "what was that\n",
            "what was that\n",
            "what then a human hand large and shapely appeared distinctly on the surface of the pond\n",
            "what then a human hand large and shapely appear distinctly on the surface of the pond\n",
            "nothing more not even the wrist to which it might be attached\n",
            "nothing more not even the risk to which it might be attached\n",
            "it did not beckon or indeed move at all it was as still as the hand of death\n",
            "it did not back in or indeed move at all it was as still as the hand of death\n",
            "i awoke to consciousness fighting at 1st it seemed as if i was fighting with a phantom but gradually my opponent became more real to me it was kaffar\n",
            "i awoke to consciousness fighting at 1st it seemed as if i was fighting with the phantom but gradually my opponent became more real to me it was caffir\n",
            "a sound of voices a flash of light\n",
            "a sound of voices a flash of light\n",
            "a feeling of freedom and i was awake where\n",
            "a feeling of freedom and i was awake where\n",
            "said another voice which i recognized as voltaire is kaffar\n",
            "set another voice with direct nice vocal chairs\n",
            "i had scarcely known what i had been saying or doing up to this time but as he spoke i looked at my hand\n",
            "i had scarcely known what i had been saying or doing up to this time but as he spoke i looked at my hand\n",
            "in the light of the moon i saw a knife red with blood and my hand too was also discolored\n",
            "in the light of the moon i saw a knife red with blood and my hand too was also discolored\n",
            "i do not know i am dazed bewildered\n",
            "i do not know i am dazed be willed\n",
            "but that is kaffar is knife\n",
            "but that is kaffer is knife\n",
            "i know he had it this very evening\n",
            "i know he had it this very evening\n",
            "i remember saying have we been together\n",
            "i remember saying have we been together\n",
            "voltaire picked up something from the ground and looked at it\n",
            "we will chair picked up something from the ground and looked at it\n",
            "i say you do know what this means and you must tell us\n",
            "i say you do know what this means and you must tell us\n",
            "a terrible thought flashed into my mind\n",
            "a terrible thought flashed into my mind\n",
            "i had again been acting under the influence of this man is power\n",
            "i had again been acting under the influence of this man is power\n",
            "perchance too kaffar is death might serve him in good stead\n",
            "perchants 2 kafer is death might serve him in good stead\n",
            "my tongue refused to articulate my power of speech left me\n",
            "my tongue refused to articulate my power of speech left me\n",
            "my position was too terrible\n",
            "my position was too terrible\n",
            "my overwrought nerves yielded at last\n",
            "my overwrought nerve shield is at last\n",
            "for some time after that i remembered nothing distinctly\n",
            "for some time after that i remembered nothing distinctly\n",
            "notwithstanding the high resolution of hawkeye he fully comprehended all the difficulties and danger he was about to incur\n",
            "notwithstanding the high resolution of hawkeye he fully comprehended all the difficulties and danger he was about to incur\n",
            "in his return to the camp his acute and practiced intellects were intently engaged in devising means to counteract a watchfulness and suspicion on the part of his enemies that he knew were in no degree inferior to his own\n",
            "in his return to the camp his acute and practiced intellects were intently engaged in devising means to counteract a watchfulness and suspicion on the part of his enemies that he knew were in no degree inferior to his own\n",
            "in other words while he had implicit faith in the ability of balaam is ass to speak he was somewhat skeptical on the subject of a bear is singing and yet he had been assured of the latter on the testimony of his own exquisite organs\n",
            "in other words while he had implicit faith in the ability of baalim is ass to speak he was somewhat skeptical on the subject of a bear is singing and yet he had been assured of the latter on the testimony of his own exquisite organs\n",
            "there was something in his air and manner that betrayed to the scout the utter confusion of the state of his mind\n",
            "there was something in his air and a manner that betrayed to the scout the utter confusion of the state of his mind\n",
            "the ingenious hawkeye who recalled the hasty manner in which the other had abandoned his post at the bedside of the sick woman was not without his suspicions concerning the subject of so much solemn deliberation\n",
            "the ingenious hawkeye who recalled the hasty manner in which the other had abandoned his post at the bedside of the sick woman was not without his suspicions concerning the subject of so much solemn deliberation\n",
            "the bear shook his shaggy sides and then a well known voice replied\n",
            "the bear shook his shaggy sides and then a well known voice replied\n",
            "can these things be returned david breathing more freely as the truth began to dawn upon him\n",
            "can these things be return david breathing more freely as the truth began to dawn upon him\n",
            "come come returned hawkeye uncasing his honest countenance the better to assure the wavering confidence of his companion you may see a skin which if it be not as white as one of the gentle ones has no tinge of red to it that the winds of the heaven and the sun have not bestowed now let us to business\n",
            "come come return haka uncaicing his honest countenance the better to assure the wavering confidence of his companion you may see a skin which if it be not as white as one of the gentle ones has no tinge of red to it that the winds of the heaven and the sun have not bestowed now let us to business\n",
            "the young man is in bondage and much i fear his death is decreed\n",
            "the young man is in bondage and much i fear his death is decreed\n",
            "i greatly mourn that one so well disposed should die in his ignorance and i have sought a goodly hymn can you lead me to him\n",
            "i greatly mourned that one so well disposed should die in his ignorance and i have sought a goodly him can you lead me to him\n",
            "the task will not be difficult returned david hesitating though i greatly fear your presence would rather increase than mitigate his unhappy fortunes\n",
            "the task will not be difficult to return david hesitating though i greatly fear your presence would rather increase than mitigate his unhappy fortunes\n",
            "the lodge in which uncas was confined was in the very center of the village and in a situation perhaps more difficult than any other to approach or leave without observation\n",
            "the lodge in which oncus was confined was in the very center of the village and in a situation perhaps more difficult than any other to approach or leave without observation\n",
            "4 or 5 of the latter only lingered about the door of the prison of uncas wary but close observers of the manner of their captive\n",
            "4 or 5 of the latter only lingered about the door of the prison of ancus wary but close observers of the manner of their captive\n",
            "delivered in a strong tone of assent announced the gratification the savage would receive in witnessing such an exhibition of weakness in an enemy so long hated and so much feared\n",
            "delivered in a strong tone of a scent announce the gratification the savage would receive and witnessing such an exhibition of weakness and an enemy so long hated and so much feared\n",
            "they drew back a little from the entrance and motioned to the supposed conjurer to enter\n",
            "they drew back a little from the entrance and motion to the supposed conjurer to enter\n",
            "but the bear instead of obeying maintained the seat it had taken and growled\n",
            "but the bear instead of obeying maintained the seed it had taken and growled\n",
            "the cunning man is afraid that his breath will blow upon his brothers and take away their courage too continued david improving the hint he received they must stand further off\n",
            "the cunning man is afraid that his breath will blow up on his brothers and take away their courage too continue david improving the hint he received they must stand further off\n",
            "then as if satisfied of their safety the scout left his position and slowly entered the place\n",
            "then as if satisfied of their safety the scout left his position and slowly entered the place\n",
            "it was silent and gloomy being tenanted solely by the captive and lighted by the dying embers of a fire which had been used for the purposed of cookery\n",
            "it was silent and gloomy being tenented solely by the captive and lighted by the dying embers of a fire which had been used for the purpose of cookery\n",
            "uncas occupied a distant corner in a reclining attitude being rigidly bound both hands and feet by strong and painful withes\n",
            "onkus occupied a distant corner in a reclining attitude being rigidly bound both hands and feet by strong and painful wits\n",
            "the scout who had left david at the door to ascertain they were not observed thought it prudent to preserve his disguise until assured of their privacy\n",
            "the scout who had left david at the door to ascertainly were not observed thought it prudent to preserve his disguise until assured of their privacy\n",
            "what shall we do with the mingoes at the door they count 6 and this singer is as good as nothing\n",
            "watch how we do with the mingo is at the door they count 6 and this singer is as good as nothing\n",
            "the delawares are children of the tortoise and they outstrip the deer\n",
            "the delaware is are children of the tortoise and they outstrip the deer\n",
            "uncas who had already approached the door in readiness to lead the way now recoiled and placed himself once more in the bottom of the lodge\n",
            "onkes who had already approached the door and readiness to lead the way now recoiled and placed himself once more in the bottom of the lodge\n",
            "but hawkeye who was too much occupied with his own thoughts to note the movement continued speaking more to himself than to his companion\n",
            "but hakai who was too much occupied with his own thoughts to note the movement continued speaking more to himself and to his companion\n",
            "so uncas you had better take the lead while i will put on the skin again and trust to cunning for want of speed\n",
            "so on course you would better take the lead while i will put on the skin again and trust to cunning for one to speed\n",
            "well what can not be done by main courage in war must be done by circumvention\n",
            "well what can not be done by main courage and war must be done by circumvention\n",
            "as soon as these dispositions were made the scout turned to david and gave him his parting instructions\n",
            "as soon as these dispositions were made the scout turned to david and gave him his parting instructions\n",
            "my pursuits are peaceful and my temper i humbly trust is greatly given to mercy and love returned david a little nettled at so direct an attack on his manhood but there are none who can say that i have ever forgotten my faith in the lord even in the greatest straits\n",
            "my pursuits are peaceful and my temper i humbly trust is greatly given to mercy and love return david a little net hold at so direct and attack on his manhood but there are none who can say that i have ever forgotten my faith in the lord even in the greatest straits\n",
            "if you are not then knocked on the head your being a non composser will protect you and you will then have a good reason to expect to die in your bed\n",
            "if you are not then knocked on the head you are being a non composer will protect you and you will then have a good reason to expect to die in your bed\n",
            "so choose for yourself to make a rush or tarry here\n",
            "so choose for yourself to make a rush or carry here\n",
            "bravely and generously has he battled in my behalf and this and more will i dare in his service\n",
            "bravely and generously has he battled in my behalf and this and more will i dare in his service\n",
            "keep silent as long as may be and it would be wise when you do speak to break out suddenly in one of your shoutings which will serve to remind the indians that you are not altogether as responsible as men should be\n",
            "keep silent as long as it may be and it would be wise when you do speak to break out suddenly in one of your shouting which will serve to remind the indians that you are not all together as responsible as men should be\n",
            "if however they take your scalp as i trust and believe they will not depend on it uncas and i will not forget the deed but revenge it as becomes true warriors and trusty friends\n",
            "if however they take your scalp as i trust and believe they will not depend on it oncus and i will not forget the deed but revenge it has become true warriors and trusty friends\n",
            "hold said david perceiving that with this assurance they were about to leave him i am an unworthy and humble follower of one who taught not the damnable principle of revenge\n",
            "hold said david perceiving that with this assurance they were about to leave him i am an unworthy and humble follower of one who taught not the damnable principle of revenge\n",
            "then heaving a heavy sigh probably among the last he ever drew in pining for a condition he had so long abandoned he added it is what i would wish to practice myself as one without a cross of blood though it is not always easy to deal with an indian as you would with a fellow christian\n",
            "then heaving a heavy sigh probably among the last he ever drew in pining for a condition he had so long abandoned he added it is what i would wish to practice myself as one without a cross of blood though it is not always easy to deal with an indian as you would with a fellow christian\n",
            "god bless you friend i do believe your scent is not greatly wrong when the matter is duly considered and keeping eternity before the eyes though much depends on the natural gifts and the force of temptation\n",
            "god bless you friend i do believe your sin has not greatly wrong when the matter is duly considered and keeping eternity before the eyes though much depends on the natural gifts and the force of temptation\n",
            "the delaware dog he said leaning forward and peering through the dim light to catch the expression of the other is features is he afraid\n",
            "the delaware dog he said leaning forward and peering through the dim light to catch the expression of the other is features is he afraid\n",
            "will the hurons hear his groans\n",
            "will the hurrens hear his groans\n",
            "the mohican started on his feet and shook his shaggy covering as though the animal he counterfeited was about to make some desperate effort\n",
            "the mohe could not start it on his feet and shook his shaggy covering as though the animal he counterfitted was about to make some desperate effort\n",
            "he had no occasion to delay for at the next instant a burst of cries filled the outer air and ran along the whole extent of the village\n",
            "he had no occasion to delay for at the next instant a burst of cries filled the outer air and ran along the whole extent of the village\n",
            "uncas cast his skin and stepped forth in his own beautiful proportions\n",
            "uncus cast his skin and stepped forth in his own beautiful proportions\n",
            "since the period of our tale the active spirit of the country has surrounded it with a belt of rich and thriving settlements though none but the hunter or the savage is ever known even now to penetrate its wild recesses\n",
            "since the period of our tale the active spirit of the country has surrounded it with a belt of rich and thriving settlements though none but the hunter or the savage is ever known even now to penetrate its wild recesses\n",
            "the dews were suffered to exhale and the sun had dispersed the mists and was shedding a strong and clear light in the forest when the travelers resumed their journey\n",
            "the deus were suffered to exhale and the sun had dispersed the mist and was shedding a strong and clear light in the forest when the travelers resumed their journey\n",
            "after proceeding a few miles the progress of hawkeye who led the advance became more deliberate and watchful\n",
            "after proceeding a few miles the progress of hawkeye who led the advance became more deliberate and watchful\n",
            "he often stopped to examine the trees nor did he cross a rivulet without attentively considering the quantity the velocity and the color of its waters\n",
            "he often stopped to examine the trees nor did he cross a river with out attentively considering the quantity the velocity and the color of its waters\n",
            "distrusting his own judgment his appeals to the opinion of chingachgook were frequent and earnest\n",
            "distrusting his own judgment his appeals to the opinion of chingajuku for frequent and earnest\n",
            "yet here are we within a short range of the scaroons and not a sign of a trail have we crossed\n",
            "yet here we within a short range of the skoroons and not a sign of a trail have we crossed\n",
            "let us retrace our steps and examine as we go with keener eyes\n",
            "let us retrace our steps and examine as we go with keen rise\n",
            "chingachgook had caught the look and motioning with his hand he bade him speak\n",
            "chinggachthuk had caught the look and motionning with his hand he bait him speak\n",
            "the eyes of the whole party followed the unexpected movement and read their success in the air of triumph that the youth assumed\n",
            "the eyes of the whole party followed the unexpected movement and read their success in the air of triumph that the youth assumed\n",
            "it would have been more wonderful had he spoken without a bidding\n",
            "it would have been more wonderful had he spoken without a bidding\n",
            "see said uncas pointing north and south at the evident marks of the broad trail on either side of him the dark hair has gone toward the forest\n",
            "see cedoncus pointing north in south at the evident marks of the broad trail on either side of him the dark hair has gone toward the forest\n",
            "if a rock or a rivulet or a bit of earth harder than common severed the links of the clew they followed the true eye of the scout recovered them at a distance and seldom rendered the delay of a single moment necessary\n",
            "if a rock or a rivulet or a bit of earth harder than common severed the links of the clue they followed the true eye of the scout recovered them at a distance and seldom rendered the delay of a single moment necessary\n",
            "extinguished brands were lying around a spring the offals of a deer were scattered about the place and the trees bore evident marks of having been browsed by the horses\n",
            "extinguished brands were lying around a spring the offels of a deer were scattered about the place and the trees bore evident marks of having been browsed by the horses\n",
            "a circle of a few 100 feet in circumference was drawn and each of the party took a segment for his portion\n",
            "a circle of a few 100 feet in circumference was drawn and each of the party took a segment for his portion\n",
            "the examination however resulted in no discovery\n",
            "the examination however resulted in no discovery\n",
            "the whole party crowded to the spot where uncas pointed out the impression of a moccasin in the moist alluvion\n",
            "the whole party crowded to the spot where uncus pointed out the impression of a moccasin in the moistoluvian\n",
            "run back uncas and bring me the size of the singer is foot\n",
            "run back oncus and bring me the size of the singers foot\n",
            "110 clock had struck it was a fine clear night they were the only persons on the road and they sauntered leisurely along to avoid paying the price of fatigue for the recreation provided for the toledans in their valley or on the banks of their river\n",
            "a lover to clock at struck it was a fine clear night there were the only persons on the road and they sounded leisurely along to avoid paying the price of fatigue for the recreation provided for the toledans in the valley or on the banks of their river\n",
            "secure as he thought in the careful administration of justice in that city and the character of its well disposed inhabitants the good hidalgo was far from thinking that any disaster could befal his family\n",
            "secure as he thought and the careful administration of justice in that city and the character of its well disposed inhabitants the good hidalgo was far from thinking that any disaster could be faulted as family\n",
            "rodolfo and his companions with their faces muffled in their cloaks stared rudely and insolently at the mother the daughter and the servant maid\n",
            "rudolfo and his companions with their faces muffled in their cloaks stared rudely and insulently at the mother the daughter and the servant made\n",
            "in a moment he communicated his thoughts to his companions and in the next moment they resolved to turn back and carry her off to please rodolfo for the rich who are open handed always find parasites ready to encourage their bad propensities and thus to conceive this wicked design to communicate it approve it resolve on ravishing leocadia and to carry that design into effect was the work of a moment\n",
            "in a moment he communicated his thoughts to his companions and in the next moment they resolved to turn back and carry her off to please redolfo for the rich who are open handed always find parasites ready to encourage their bad propensities and thus to conceive this wicked design to communicate it approve it resolve on ravishing leo cadia and to carry that design into effect was the work of a moment\n",
            "they drew their swords hid their faces in the flaps of their cloaks turned back and soon came in front of the little party who had not yet done giving thanks to god for their escape from those audacious men\n",
            "they drew their swords hid their faces in the flaps of their cloaks turned back and soon came in front of the little party who had not yet done giving thanks to god for their escape from those audacious men\n",
            "finally the one party went off exulting and the other was left in desolation and woe\n",
            "finally the one party went off exalting and the other was left in desolation and woe\n",
            "rodolfo arrived at his own house without any impediment and leocadia is parents reached theirs heart broken and despairing\n",
            "rudolfo arrived at his own house without any impediment and leo kadeus parents reached there his heart broken and despairing\n",
            "meanwhile rodolfo had leocadia safe in his custody and in his own apartment\n",
            "meanwhile rudolfo had located his safe in his custody and in his own apartment\n",
            "who touches me am i in bed\n",
            "who touches me am i in bed\n",
            "mother dear father do you hear me\n",
            "mother do your father do you hear me\n",
            "it is the only amends i ask of you for the wrong you have done me\n",
            "it is the only amends i ask of you for the wrong you have done me\n",
            "she found the door but it was locked outside\n",
            "she found the door but it was locked outside\n",
            "she succeeded in opening the window and the moonlight shone in so brightly that she could distinguish the color of some damask hangings in the room\n",
            "she succeeded in opening the window and the moonlight shown in so brightly that she could distinguish the color of some damask hanging in the room\n",
            "she saw that the bed was gilded and so rich that it seemed that of a prince rather than of a private gentleman\n",
            "she saw that the bed was gilded and so rich that it seemed that of a prince rather than of a private gentleman\n",
            "among other things on which she cast her eyes was a small crucifix of solid silver standing on a cabinet near the window\n",
            "among other things on which she cast her eyes with a small crucifix of solid silver standing on a cabinet near the window\n",
            "this person was rodolfo who though he had gone to look for his friends had changed his mind in that respect not thinking it advisable to acquaint them with what had passed between him and the girl\n",
            "this person was redulfu although he had gone to look for his friends had changed his mind in that respect not thinking it advisable to acquaint them but what had passed between him and the girl\n",
            "on the contrary he resolved to tell them that repenting of his violence and moved by her tears he had only carried her half way towards his house and then let her go\n",
            "on the contrary he resolved to tell them that repenting of his violence and move by a tear see it only carried her halfway towards his house and then let her go\n",
            "choking with emotion leocadi made a sign to her parents that she wished to be alone with them\n",
            "choking with emotion leo kedia made a sign to her parents that she wished to be alone with them\n",
            "that would be very well my child replied her father if your plan were not liable to be frustrated by ordinary cunning but no doubt this image has been already missed by its owner and he will have set it down for certain that it was taken out of the room by the person he locked up there\n",
            "that would be very well my child replied a father if your plan were not liable to be frustrated by ordinary cunning but no doubt this image had been already missed by his owner and he will have set it down for certain that it was taken out of the room by the person he locked up there\n",
            "what you had best do my child is to keep it and pray to it that since it was a witness to your undoing it will deign to vindicate your cause by its righteous judgment\n",
            "what you had best do my child is to keep it and pray to it that since it was a witness to your undoing it will dain to vindicate your cause by its righteous judgment\n",
            "thus did this humane and right minded father comfort his unhappy daughter and her mother embracing her again did all she could to soothe her feelings\n",
            "thus did the humane and right minded father comfort his unhappy daughter and her mother embracing her again did all she could to sue the feelings\n",
            "she meanwhile passed her life with her parents in the strictest retirement never letting herself be seen but shunning every eye lest it should read her misfortune in her face\n",
            "she meanwhile passed her life with her parents in the strictest retirement never letting herself be seen but shining every eye alisted should read her misfortune in her face\n",
            "time rolled on the hour of her delivery arrived it took place in the utmost secrecy her mother taking upon her the office of midwife and she gave birth to a son one of the most beautiful ever seen\n",
            "time rolled on the hour of her delivery arrived it took place in the atmos secrecy her mother taking up on her the office of midwife as she gave birth to a son one of the most beautiful ever seen\n",
            "when the boy walked through the streets blessings were showered upon him by all who saw him blessings upon his beauty upon the mother that bore him upon the father that begot him upon those who brought him up so well\n",
            "and the boy walked through the streets blessings were shoured upon him by all who saw him blessing upon his beauty upon the mother that bore him upon the father that begot him upon those who brought him up so well\n",
            "one day when the boy was sent by his grandfather with a message to a relation he passed along a street in which there was a great concourse of horsemen\n",
            "one day when the boy was sent by his grandfather with a message to a relation he passed along his street in which there was a great concourse of horsemen\n",
            "the bed she too well remembered was there and above all the cabinet on which had stood the image she had taken away was still on the same spot\n",
            "the bed she too well remembered was there and above all the cabinet on which had stood the image she had taken away will still on the same spot\n",
            "luis was out of danger in a fortnight in a month he rose from his bed and during all that time he was visited daily by his mother and grandmother and treated by the master and mistress of the house as if he was their own child\n",
            "lewis was out of danger in a fortnight in a month he rose from his bed and during all that time he was visited daily by his mother and grandmother and treated by the master and mistress of the house as if he was their own child\n",
            "thus saying and pressing the crucifix to her breast she fell fainting into the arms of dona estafania who as a gentlewoman to whose sex pity is as natural as cruelty is to man instantly pressed her lips to those of the fainting girl shedding over her so many tears that there needed no other sprinkling of water to recover leocadia from her swoon\n",
            "thus saying and pressing the crucifix to her breast she fell fainting into the arms of donna estafania who as a gentle woman to whose sex pity is a natural as cruelty as to a man instantly pressed her lips to those of the fainting girl shedding over her so many tears that there needed no other sprinkling of water to recover leo kedia from her soon\n",
            "i have great things to tell you senor said dona estafania to her husband the cream and substance of which is this the fainting girl before you is your daughter and that boy is your grandson\n",
            "i have great things to tell you sinure sadhana and sathanya to her husband the cream and substance of which is this the fainting girl before you is your daughter and the boy is your grandson\n",
            "this truth which i have learned from her lips is confirmed by his face in which we have both beheld that of our son\n",
            "this truth which i have learned from her lips is confirmed by his face in which we have both be held that of our son\n",
            "just then leocadia came to herself and embracing the cross seemed changed into a sea of tears and the gentleman remained in utter bewilderment until his wife had repeated to him from beginning to end leocadia is whole story and he believed it through the blessed dispensation of heaven which had confirmed it by so many convincing testimonies\n",
            "just then leo kedia came to herself and embracing the cross seemed changed into a sea of tears and the gentleman remaining in out of her willement until his wife had repeated to him from beginning to end leo kedia is whole story and he believed it through the blessed dispensation of heaven which had confirmed it by so many convincing testimonies\n",
            "so persuasive were her entreaties and so strong her assurances that no harm whatever could result to them from the information she sought they were induced to confess that one summer is night the same she had mentioned themselves and another friend being out on a stroll with rodolfo they had been concerned in the abduction of a girl whom rodolfo carried off whilst the rest of them detained her family who made a great outcry and would have defended her if they could\n",
            "so persuasive were her and treaties and so strong her assurances that no harm whatever could result to them from the information she sought they were induced to confess that one summer is night the same she had mentioned themselves and another friend being out on a stroll with her dollful they had been concerned in the adoption of a girl whom her dollful carried off whilst the rest of them detained her family who made a great outcry and would have defended her if they could\n",
            "for god is sake my lady mother give me a wife who would be an agreeable companion not one who will disgust me so that we may both bear evenly and with mutual good will the yoke imposed on us by heaven instead of pulling this way and that way and fretting each other to death\n",
            "for god is sake my lady mother give me a wife who would be an agreeable companion not one who will discuss me so that we may both bear evenly and with mutual goodwill the yoke imposed on us by heaven instead of pulling this way and that way and fritting each other to death\n",
            "her bearing was graceful and animated she led her son by the hand and before her walked 2 maids with wax lights and silver candlesticks\n",
            "her bearing was graceful and animated she let her son by the hand and before her walked 2 maids with wax lights and silver candlesticks\n",
            "all rose to do her reverence as if something from heaven had miraculously appeared before them but gazing on her entranced with admiration not one of them was able to address a single word to her\n",
            "all rose to do her reverence as if something from heaven had miraculously appeared before them but gazing on her and trans with admiration not one of them was able to address a single word to her\n",
            "she reflected how near she stood to the crisis which was to determine whether she was to be blessed or unhappy for ever and racked by the intensity of her emotions she suddenly changed color her head dropped and she fell forward in a swoon into the arms of the dismayed estafania\n",
            "she reflected how near she stood to the crisis which was to determine whether she was to be blessed or unhappy forever and racked by the intensity of her emotions she suddenly changed color her head dropped and she fell forward in a soon into the arms of the dismayed estafania\n",
            "his mother had left her to him as being her destined protector but when she saw that he too was insensible she was near making a 3rd and would have done so had he not come to himself\n",
            "his mother had left her to him as being her distant protector but when she saw that he too was insensible she was near making a 3rd and would have done so had he not come to himself\n",
            "know then son of my heart that this fainting lady is your real bride i say real because she is the one whom your father and i have chosen for you and the portrait was a pretense\n",
            "know then son of my heart that this fainting lady is your real bride i say real because she is the one whom your father and i have chosen for you and the portrait was a pretense\n",
            "just at the moment when the tears of the pitying beholders flowed fastest and their ejaculations were most expressive of despair leocadia gave signs of recovery and brought back gladness to the hearts of all\n",
            "just at the moment when the tears of the pitying beholders flowed fastest and there are calculations where most expressive of despair the ocaria gaysigns of recovery and brought back gladness through the hearts of all\n",
            "when she came to her senses and blushing to find herself in rodolfo is arms would have disengaged herself no senora he said that must not be strive not to withdraw from the arms of him who holds you in his soul\n",
            "when she came to her senses and blushing to find herself and rudolfa is arms would have disengaged herself no sinura he said that must not be strive not to withdraw from the arms of him who holds you in his soul\n",
            "this was done for the event took place at a time when the consent of the parties was sufficient for the celebration of a marriage without any of the preliminary formalities which are now so properly required\n",
            "this was done for the event took place at a time when the consent of the parties was sufficient for the celebration of the marriage without any of the preliminary formalities which are now so properly required\n",
            "nor was rodolfo less surprised than they and the better to assure himself of so wonderful a fact he begged leocadia to give him some token which should make perfectly clear to him that which indeed he did not doubt since it was authenticated by his parents\n",
            "nor was rudolf a less surprised than they and the better to assure himself or so wonderful effect he begged locadia to give him some token which should make perfectly clear to him that which indeed he did not doubt since it was authenticated by his parents\n",
            "and how odd the directions will look\n",
            "and how odd the directions will look\n",
            "poor alice\n",
            "poor alice\n",
            "it was the white rabbit returning splendidly dressed with a pair of white kid gloves in one hand and a large fan in the other he came trotting along in a great hurry muttering to himself as he came 0 the duchess the duchess\n",
            "it was the white rabbit returning splendidly dressed with a pair of white kid gloves in one hand and a large fan in the other he came trotting along in a great hurry metering to himself as he came 0 the duchess the duchess\n",
            "0 will not she be savage if i have kept her waiting\n",
            "0 will not she be savage if i have kept her waiting\n",
            "alice took up the fan and gloves and as the hall was very hot she kept fanning herself all the time she went on talking dear dear how queer everything is to day\n",
            "alice took up the fan and gloves and as the hall was very hot she kept fanning herself all the time she went on talking dear dear how queer everything is today\n",
            "and yesterday things went on just as usual\n",
            "and yesterday thanks for watching and i am just as usual\n",
            "i wonder if i have been changed in the night\n",
            "i wonder if i have been changed in the night\n",
            "i almost think i can remember feeling a little different\n",
            "i almost think i can remember feeling a little different\n",
            "i will try if i know all the things i used to know\n",
            "i will try if i know all the things i used to know\n",
            "i shall never get to 20 at that rate\n",
            "i shall never get to 20 at that rate\n",
            "how cheerfully he seems to grin how neatly spread his claws and welcome little fishes in with gently smiling jaws\n",
            "how cheerfully he seems to grin how neatly spread his claws and welcome little fishes in with gently smiling jaws\n",
            "no i have made up my mind about it if i am mabel i will stay down here\n",
            "no i have made it my mind about it if i am maple i will stay down here\n",
            "it will be no use their putting their heads down and saying come up again dear\n",
            "it will be no use they are putting their heads down and saying come up again dear\n",
            "i am so very tired of being all alone here\n",
            "i am so very tired of being all alone here\n",
            "and i declare it is too bad that it is\n",
            "and i declare it is too bad that it is\n",
            "i wish i had not cried so much said alice as she swam about trying to find her way out\n",
            "i wish i had not cried so much said alice as she swim about trying to find her way out\n",
            "i shall be punished for it now i suppose by being drowned in my own tears\n",
            "i shall be punished for it now i suppose by being drowned in my own tears\n",
            "that will be a queer thing to be sure\n",
            "that will be a queer thing to be sure\n",
            "i am very tired of swimming about here 0 mouse\n",
            "i am very tired of swimming about here 0 mouse\n",
            "cried alice again for this time the mouse was bristling all over and she felt certain it must be really offended\n",
            "cried alice again for this time the mouse was bristling all over and she felt certain it must be really offended\n",
            "we will not talk about her any more if you would rather not we indeed\n",
            "we will not talk about her anymore if you would rather not we indeed\n",
            "saturday august 15th the sea unbroken all round no land in sight\n",
            "saturday august 15th the sea and broken all round no land in sight\n",
            "the horizon seems extremely distant\n",
            "the horizon seems extremely distant\n",
            "all my danger and sufferings were needed to strike a spark of human feeling out of him but now that i am well his nature has resumed its sway\n",
            "all my danger and sufferings were needed to strike a spark of human feeling out of him but now that i am well his nature has resumed its sway\n",
            "you seem anxious my uncle i said seeing him continually with his glass to his eye anxious\n",
            "you seem anxious my uncle i said seeing him continually with his glass to his eye\n",
            "one might be with less reason than now\n",
            "one might be with less reason than now\n",
            "i am not complaining that the rate is slow but that the sea is so wide\n",
            "i am not complaining that the rate is slow but that the seat is so wide\n",
            "we are losing time and the fact is i have not come all this way to take a little sail upon a pond on a raft\n",
            "we are losing time and the fact is i have not come all this way to take a little sale upon a pond on a raft\n",
            "he called this sea a pond and our long voyage taking a little sail\n",
            "he called this c upon and i long vowaged taking a little sale\n",
            "therefore do not talk to me about views and prospects\n",
            "therefore do not talk to me about views and prospects\n",
            "i take this as my answer and i leave the professor to bite his lips with impatience\n",
            "i take this as my answer and i leave the professor to bite his lips with impatience\n",
            "sunday august 16th\n",
            "sunday august 16th\n",
            "nothing new weather unchanged the wind freshens\n",
            "nothing new whether unchanged the wind freshens\n",
            "but there seemed no reason to fear\n",
            "but there is seem no reason to fear\n",
            "the shadow of the raft was clearly outlined upon the surface of the waves\n",
            "the shadow of the raft was clearly outlined upon the surface of the waves\n",
            "truly this sea is of infinite width\n",
            "truly this c is of infinite width\n",
            "it must be as wide as the mediterranean or the atlantic and why not\n",
            "it must be as wide as the mediterranean or the atlantic and why not\n",
            "these thoughts agitated me all day and my imagination scarcely calmed down after several hours sleep\n",
            "these thoughts agitated me all day and my imagination scarcely calmed down after several hours sleep\n",
            "i shudder as i recall these monsters to my remembrance\n",
            "i shatter as i recall these monsters to my remembrance\n",
            "i saw at the hamburg museum the skeleton of one of these creatures 30 feet in length\n",
            "i saw at the hamburg museum the skeleton of one of these creatures 30 feet in length\n",
            "i suppose professor liedenbrock was of my opinion too and even shared my fears for after having examined the pick his eyes traversed the ocean from side to side\n",
            "i suppose professor leidenbrock was of my opinion too and even shared my fears for after having examined the pick his eyes traverse the ocean from side to side\n",
            "tuesday august 18th\n",
            "tuesday august 18th\n",
            "during his watch i slept\n",
            "during his watch i slept\n",
            "2 hours afterwards a terrible shock awoke me\n",
            "2 hours afterwards a terrible shock awoke me\n",
            "the raft was heaved up on a watery mountain and pitched down again at a distance of 20 fathoms\n",
            "the raft was heaved up on a watery mountain and pitched down again at a distance of 20 phathoms\n",
            "there is a whale a whale cried the professor\n",
            "there is a whale a whale cried the professor\n",
            "flight was out of the question now the reptiles rose they wheeled around our little raft with a rapidity greater than that of express trains\n",
            "but flight was out of the question now the reptiles rose they wheeled around our little raft with a rapidity greater than that of express trains\n",
            "2 monsters only were creating all this commotion and before my eyes are 2 reptiles of the primitive world\n",
            "2 monsters only were creating all this commotion and before my eyes are 2 reptiles of the primitive world\n",
            "i can distinguish the eye of the ichthyosaurus glowing like a red hot coal and as large as a man is head\n",
            "i can distinguish the eye of the ick the asuras glowing like a red hot coal and as large as a man is head\n",
            "its jaw is enormous and according to naturalists it is armed with no less than 182 teeth\n",
            "its jaw is enormous and according to naturalists it is iron with no less than 182 teeth\n",
            "those huge creatures attacked each other with the greatest animosity\n",
            "those huge creatures attack each other with a greatest animosity\n",
            "suddenly the ichthyosaurus and the plesiosaurus disappear below leaving a whirlpool eddying in the water\n",
            "suddenly the iktia soras and the plusius soras disappear below leaving a warpull etching in the water\n",
            "as for the ichthyosaurus has he returned to his submarine cavern\n",
            "as for the ithiasaurus has he returned to his submarine cabin\n",
            "the roarings become lost in the distance\n",
            "the drawings become lost in the distance\n",
            "the weather if we may use that term will change before long\n",
            "the weather if we may use the term we will change before long\n",
            "the atmosphere is charged with vapors pervaded with the electricity generated by the evaporation of saline waters\n",
            "the atmosphere is charged with vapors provided with the electricity generated by the evaporation of saline waters\n",
            "the electric light can scarcely penetrate through the dense curtain which has dropped over the theater on which the battle of the elements is about to be waged\n",
            "the electric light can scarcely penetrate through the dense curtain which is dropped over the theater on which the battle of the elements is about to be waged\n",
            "the air is heavy the sea is calm\n",
            "the air is heavy the sea is calm\n",
            "from time to time a fleecy tuft of mist with yet some gleaming light left upon it drops down upon the dense floor of gray and loses itself in the opaque and impenetrable mass\n",
            "from time to time a fleecy tough to miss we yet some gleaming light left upon it drops down upon the dense floor of gray and loses itself in the opaque and impenetrable mass\n",
            "the atmosphere is evidently charged and surcharged with electricity\n",
            "the atmosphere has evidently charged and surcharged with electricity\n",
            "the wind never lulls but to acquire increased strength the vast bank of heavy clouds is a huge reservoir of fearful windy gusts and rushing storms\n",
            "the wind never lools but to acquire increased strength the vast bank of heavy clouds is a huge reservoir of fearful windy gusts and rushing storms\n",
            "there is a heavy storm coming on i cried pointing towards the horizon\n",
            "there is a heavy storm coming on i cried pointing towards the horizon\n",
            "those clouds seem as if they were going to crush the sea\n",
            "those clouds seem as if they were going to crush the sea\n",
            "on the mast already i see the light play of a lambent saint elmo is fire the outstretched sail catches not a breath of wind and hangs like a sheet of lead\n",
            "on the mast already i see the light play of alignment that saint air will fire the outstretched seal catches not a breath of wind and hangs like a sheet of lead\n",
            "but if we have now ceased to advance why do we yet leave that sail loose which at the 1st shock of the tempest may capsize us in a moment\n",
            "but if we have now ceased to advance why do we yet leave that sale loose which at the 1st shock of a tempest may capsize us in a moment\n",
            "that will be safest no no never\n",
            "that will be the safest no no never\n",
            "the piled up vapors condense into water and the air put into violent action to supply the vacuum left by the condensation of the mists rouses itself into a whirlwind\n",
            "the piled up vapor is condensed into water and the air put in the violent action to supply the vacuum left by the condensation of the mist rouses itself into a world when\n",
            "hans stirs not\n",
            "hawnster is nye\n",
            "from the under surface of the clouds there are continual emissions of lurid light electric matter is in continual evolution from their component molecules the gaseous elements of the air need to be slaked with moisture for innumerable columns of water rush upwards into the air and fall back again in white foam\n",
            "from the under surface of the clouds there are continual emissions of lured light electric matter is in continual evolution from their component molecules the gaseous elements of the air need to be slaked with moisture for innumerable columns of water rush upwards into the air and fall back again in white foam\n",
            "i refer to the thermometer it indicates the figure is obliterated\n",
            "i refer to the thermometer it indicates the figure is obliterated\n",
            "is the atmospheric condition having once reached this density to become final\n",
            "is the atmosphere condition having once reached the density to become final\n",
            "the raft bears on still to the south east\n",
            "the raft bears on still to the south east\n",
            "at noon the violence of the storm redoubles\n",
            "at noon the violence of the storm redoubles\n",
            "each of us is lashed to some part of the raft\n",
            "each of us is lashed as some part of the raft\n",
            "the waves rise above our heads\n",
            "the waves rise above our heads\n",
            "they seem to be we are lost but i am not sure\n",
            "they seem to be we are lost but i am not sure\n",
            "he nods his consent\n",
            "he nods his consent\n",
            "the fireball half of it white half azure blue and the size of a 10 inch shell moved slowly about the raft but revolving on its own axis with astonishing velocity as if whipped round by the force of the whirlwind\n",
            "the fireball half of it wide half a 0 blue and the size of a 10 inch shell moves slowly about the raft but revolving on its own axis with astonishing velocity as if whipped round by the force of the whirlwind\n",
            "here it comes there it glides now it is up the ragged stump of the mast thence it lightly leaps on the provision bag descends with a light bound and just skims the powder magazine horrible\n",
            "here it comes there it glides now it is up the ragged stump of the mast that is it lightly leaps on the provision bag decends with a light bound and just skims the powder magazine horrible\n",
            "we shall be blown up but no the dazzling disk of mysterious light nimbly leaps aside it approaches hans who fixes his blue eye upon it steadily it threatens the head of my uncle who falls upon his knees with his head down to avoid it\n",
            "we shall be blown up but no the dazzling disk of mysterious light nimbly leaps aside it approaches hans who fixes his blue eye upon it steadily it threatens the head of my uncle who falls upon his knees with his head down to avoid it\n",
            "a suffocating smell of nitrogen fills the air it enters the throat it fills the lungs\n",
            "a suffocating smell of nitrogen fills the air it enters the throat it fills the lungs\n",
            "we suffer stifling pains\n",
            "we suffer stifling pains\n",
            "the bogus legislature numbered 36 members\n",
            "the bogus legislature numbered 36 members\n",
            "this was at the march election 1855\n",
            "this was at the march election 1855\n",
            "that summer is emigration however being mainly from the free states greatly changed the relative strength of the 2 parties\n",
            "that is summer is immigration however being mainly from the free states greatly changed the relative strengths of the 2 parties\n",
            "for general service therefore requiring no special effort the numerical strength of the factions was about equal while on extraordinary occasions the 2000 border ruffian reserve lying a little farther back from the state line could at any time easily turn the scale\n",
            "for general service therefore requiring no special effort the numerical strength of the factions was about equal while on extraordinary occasions the 2000 board of reffey and reserve lying a little farther back from the state line could at any time easily turn the scale\n",
            "the free state men had only their convictions their intelligence their courage and the moral support of the north the conspiracy had its secret combination the territorial officials the legislature the bogus laws the courts the militia officers the president and the army\n",
            "the free state man had only their convictions their intelligence their courage and the moral support of the north the conspiracy had its secret combination the territorial officials the legislature the bogus laws the courts the militia officers the president and the army\n",
            "this was a formidable array of advantages slavery was playing with loaded dice\n",
            "this was a formable array of advantages slavery was playing with loaded dice\n",
            "coming by way of the missouri river towns he fell 1st among border ruffian companionship and influences and perhaps having his inclinations already molded by his washington instructions his early impressions were decidedly adverse to the free state cause\n",
            "coming by way of the missouri river towns he fell 1st among border refiant companionship and influences and perhaps having his inclinations already molded by his washington instructions his early impressions were decidedly adverse to the free state cause\n",
            "his reception speech at westport in which he maintained the legality of the legislature and his determination to enforce their laws delighted his pro slavery auditors\n",
            "his reception speech at westport in which he maintained the legality of the legislature and his determination to enforce their laws delighted his pro slavery auditors\n",
            "all the territorial dignitaries were present governor shannon presided john calhoun the surveyor general made the principal speech a denunciation of the abolitionists supporting the topeka movement chief justice lecompte dignified the occasion with approving remarks\n",
            "all the territorial dignitaries were present governor shannon presided john calhoun the surveyor general made the principal speech a denunciation of the abolitionist supporting the tipeek movement chief justice lecoffe dignified the occasion with approving remarks\n",
            "all dissent all non compliance all hesitation all mere silence even were in their stronghold towns like leavenworth branded as abolitionism declared to be hostility to the public welfare and punished with proscription personal violence expulsion and frequently death\n",
            "all descent all non compliance all hesitation all mere silence even were in their stronghold towns like levinworth branded as abolitionism declared to be hostility to the public welfare impunished with prescription personal violence expulsion and frequently death\n",
            "of the lynchings the mobs and the murders it would be impossible except in a very extended work to note the frequent and atrocious details\n",
            "of the lynchings the mobs and the murders it would be impossible except in a very extended work to note the frequent and atrocious details\n",
            "the present chapters can only touch upon the more salient movements of the civil war in kansas which happily were not sanguinary if however the individual and more isolated cases of bloodshed could be described they would show a startling aggregate of barbarity and loss of life for opinion is sake\n",
            "the present chapters can only touch upon the more salient movements of the civil war in kansas which happily are not sanguineary if however the individual and more isolated cases of bloodshed could be described they would show a startling aggregate of barbarity and a loss of life for opinion is sake\n",
            "several 100 free state men promptly responded to the summons\n",
            "several 100 free state men promptly responded to the summons\n",
            "it was in fact the best weapon of its day\n",
            "it was in fact the best weapon of its day\n",
            "the leaders of the conspiracy became distrustful of their power to crush the town\n",
            "the leaders of the conspiracy became distrustful of their power to crush the town\n",
            "one of his militia generals suggested that the governor should require the outlaws at lawrence and elsewhere to surrender the sharps rifles another wrote asking him to call out the government troops at fort leavenworth\n",
            "one of his militia generals suggested that the governor should require the outlaws at lawrence and elsewhere to surrender the sharps rifles another wrote asking him to call out the government troops at 411\n",
            "the governor on his part becoming doubtful of the legality of employing missouri militia to enforce kansas laws was also eager to secure the help of federal troops\n",
            "the governor on his part becoming doubtful of the legality of employing missouri militia to enforce kansas laws was also eager to secure the help of federal troops\n",
            "sheriff jones had his pockets always full of writs issued in the spirit of persecution but was often baffled by the sharp wits and ready resources of the free state people and sometimes defied outright\n",
            "sheriff jones had his pockets always full of rits issued in the spirit of persecution that was often baffled by the sharp wits and ready resources of the free state people and sometimes defied outright\n",
            "little by little however the latter became hemmed and bound in the meshes of the various devices and proceedings which the territorial officials evolved from the bogus laws\n",
            "little by little however the latter became himden bound in the meshes of the various devices and proceedings which the territorial officials evolved from the bogus laws\n",
            "to embarrass this damaging exposure judge lecompte issued a writ against the ex governor on a frivolous charge of contempt\n",
            "to embarrass this damaging exposure judge lecomp issued a written against the ex geviner on a frivolous charge of contempt\n",
            "the incident was not violent nor even dramatic no posse was summoned no further effort made and reeder fearing personal violence soon fled in disguise\n",
            "the incident was not violent nor even dramatic no posse was summoned no further effort made and reader fearing personal violence soon fled into skies\n",
            "but the affair was magnified as a crowning proof that the free state men were insurrectionists and outlaws\n",
            "but the affair was magnified as a crowning proof that the free state men were insurrectionists and outlaws\n",
            "from these again sprang barricaded and fortified dwellings camps and scouting parties finally culminating in roving guerrilla bands half partisan half predatory\n",
            "from these again spring barricaded and fortified dwellings camps and scout parties finally culminating in roving guerilla bands half partisan half predatory\n",
            "their distinctive characters however display one broad and unfailing difference\n",
            "their distinctive characters however display one broad and unfailing difference\n",
            "the free state men clung to their prairie towns and prairie ravines with all the obstinacy and courage of true defenders of their homes and firesides\n",
            "the freestate men clung to their prairie towns and prairie ravines with all the obstinacy and courage of true defenders of their homes and fire sides\n",
            "their assumed character changed with their changing opportunities or necessities\n",
            "there assumed character changed with their changing opportunities or necessities\n",
            "in the shooting of sheriff jones in lawrence and in the refusal of ex governor beeder to allow the deputy marshal to arrest him they discovered grave offenses against the territorial and united states laws\n",
            "in the shooting of sheriff jones and lawrence and in the refusal of ex gevinner reader to allow the deputy marshal to arrest him they discovered grave offenses against the territorial and the united states laws\n",
            "footnote sumner to shannon may 12th 1856\n",
            "footnote sumner to shannon may 12 1856\n",
            "private persons who had leased the free state hotel vainly besought the various authorities to prevent the destruction of their property\n",
            "private persons who at least the free state hotel vainly be sought the various authorities to present the destruction of their property\n",
            "10 days were consumed in these negotiations but the spirit of vengeance refused to yield\n",
            "10 days were consumed in these negotiations but the spirit of vengeance refused to yield\n",
            "he summoned half a dozen citizens to join his posse who followed obeyed and assisted him\n",
            "he summoned happy dozen citizens to join his posse who followed obeyed and assisted him\n",
            "he continued his pretended search and to give color to his errand made 2 arrests\n",
            "he continued his pretended search and to give color to his errand made to arrest\n",
            "the free state hotel a stone building in dimensions 50 by 70 feet 3 stories high and handsomely furnished previously occupied only for lodging rooms on that day for the 1st time opened its table accommodations to the public and provided a free dinner in honor of the occasion\n",
            "the free state hotel a stone building in dimension is 50 by 70 feet 3 stories high and hand simly furnished previously occupied only for lodging rooms on that day for the 1st time opened its table accommodations to the public and provided a free dinner in honor of the occasion\n",
            "as he had promised to protect the hotel the reassured citizens began to laugh at their own fears\n",
            "as he had promised to protect the hotel the reassured citizens began to laugh at their own fears\n",
            "to their sorrow they were soon undeceived\n",
            "to their sorrow they were soon and deceived\n",
            "the military force partly rabble partly organized had meanwhile moved into the town\n",
            "the military force partly rabble partly organized had meanwhile moved into the town\n",
            "he planted a company before the hotel and demanded a surrender of the arms belonging to the free state military companies\n",
            "he planeted a company before the hotel and demanded a surrender of the arms belonging to the free state military companies\n",
            "half an hour later turning a deaf ear to all remonstrance he gave the proprietors until 50 clock to remove their families and personal property from the free state hotel\n",
            "half an hour later turning a deaf ear to all remonstrants he gave the proprietors until 50 clock to remove their families and personal property from the free state hotel\n",
            "atchison who had been haranguing the mob planted his 2 guns before the building and trained them upon it\n",
            "atchison who had been harranging the mob planted his 2 guns before the building and trained them upon it\n"
          ]
        }
      ],
      "source": [
        "for i in range(11):\n",
        "  num_of_audio = 25\n",
        "  for i in range(num_of_audio):\n",
        "    current_element = next(dset_iter)\n",
        "    audio = current_element[\"audio\"]\n",
        "    input_features = processor(audio[\"array\"], sampling_rate=audio[\"sampling_rate\"], return_tensors=\"pt\").input_features\n",
        "    reference = processor.tokenizer._normalize(current_element['text'])\n",
        "    references.append(reference)\n",
        "    print(reference)\n",
        "\n",
        "    start_time = time.time()\n",
        "    predicted_ids = model.generate(input_features)\n",
        "    transcription = processor.batch_decode(predicted_ids, skip_special_tokens=True)\n",
        "    end_time = time.time()\n",
        "\n",
        "    prediction = processor.tokenizer._normalize(transcription[0])\n",
        "    predictions.append(prediction)\n",
        "    print(prediction)\n",
        "\n",
        "    file_time = end_time - start_time\n",
        "    total_time += file_time\n",
        "  wer_result = wer(references, predictions)\n",
        "  listwer.append(wer_result*100)\n",
        "  listtime.append(total_time)"
      ]
    },
    {
      "cell_type": "code",
      "execution_count": null,
      "metadata": {
        "colab": {
          "base_uri": "https://localhost:8080/"
        },
        "id": "0QdA8ttHYK34",
        "outputId": "a7db7c59-0724-4a49-cf17-fe67b360ebcf"
      },
      "outputs": [
        {
          "name": "stdout",
          "output_type": "stream",
          "text": [
            "[6.996770721205597, 7.131782945736434, 6.71957671957672, 6.698002350176263, 6.996805111821086, 7.203699196884887, 7.200523674449051, 7.115188583078491, 7.395678092399403, 7.185022769438354, 7.2533250850603155]\n",
            "[80.97493696212769, 118.98783302307129, 163.9072859287262, 209.452210187912, 252.57387328147888, 304.51140117645264, 344.50076603889465, 380.07008624076843, 419.3513617515564, 461.0697844028473, 501.16500782966614]\n"
          ]
        }
      ],
      "source": [
        "print(listwer)\n",
        "print(listtime)"
      ]
    }
  ],
  "metadata": {
    "colab": {
      "collapsed_sections": [
        "iJ_pUrRTVV4J",
        "npSJ8x79GtzK",
        "BcbXSC8YQSp6",
        "0Su40N_SQrSC",
        "oXjywehhRGZA"
      ],
      "provenance": []
    },
    "kernelspec": {
      "display_name": "Python 3",
      "name": "python3"
    },
    "language_info": {
      "name": "python"
    },
    "widgets": {
      "application/vnd.jupyter.widget-state+json": {
        "0172e78d88a84c6cad3592218de8292d": {
          "model_module": "@jupyter-widgets/base",
          "model_module_version": "1.2.0",
          "model_name": "LayoutModel",
          "state": {
            "_model_module": "@jupyter-widgets/base",
            "_model_module_version": "1.2.0",
            "_model_name": "LayoutModel",
            "_view_count": null,
            "_view_module": "@jupyter-widgets/base",
            "_view_module_version": "1.2.0",
            "_view_name": "LayoutView",
            "align_content": null,
            "align_items": null,
            "align_self": null,
            "border": null,
            "bottom": null,
            "display": null,
            "flex": null,
            "flex_flow": null,
            "grid_area": null,
            "grid_auto_columns": null,
            "grid_auto_flow": null,
            "grid_auto_rows": null,
            "grid_column": null,
            "grid_gap": null,
            "grid_row": null,
            "grid_template_areas": null,
            "grid_template_columns": null,
            "grid_template_rows": null,
            "height": null,
            "justify_content": null,
            "justify_items": null,
            "left": null,
            "margin": null,
            "max_height": null,
            "max_width": null,
            "min_height": null,
            "min_width": null,
            "object_fit": null,
            "object_position": null,
            "order": null,
            "overflow": null,
            "overflow_x": null,
            "overflow_y": null,
            "padding": null,
            "right": null,
            "top": null,
            "visibility": null,
            "width": null
          }
        },
        "1415cf8baf324a35b3e054c5fa215de0": {
          "model_module": "@jupyter-widgets/controls",
          "model_module_version": "1.5.0",
          "model_name": "HBoxModel",
          "state": {
            "_dom_classes": [],
            "_model_module": "@jupyter-widgets/controls",
            "_model_module_version": "1.5.0",
            "_model_name": "HBoxModel",
            "_view_count": null,
            "_view_module": "@jupyter-widgets/controls",
            "_view_module_version": "1.5.0",
            "_view_name": "HBoxView",
            "box_style": "",
            "children": [
              "IPY_MODEL_b179b10a50954d35b818134eadb764fb",
              "IPY_MODEL_e7b80bf498584ab68c5d8aeab55a4f9a",
              "IPY_MODEL_c44ed04af467405398304a5f8b2946c8"
            ],
            "layout": "IPY_MODEL_fe1175be3d114ac28a56c703fbdc8df9"
          }
        },
        "28508ab0f08940519732d38df7c84c21": {
          "model_module": "@jupyter-widgets/controls",
          "model_module_version": "1.5.0",
          "model_name": "ProgressStyleModel",
          "state": {
            "_model_module": "@jupyter-widgets/controls",
            "_model_module_version": "1.5.0",
            "_model_name": "ProgressStyleModel",
            "_view_count": null,
            "_view_module": "@jupyter-widgets/base",
            "_view_module_version": "1.2.0",
            "_view_name": "StyleView",
            "bar_color": null,
            "description_width": ""
          }
        },
        "28ab7a5c5d674200ab93ab6a7460bfac": {
          "model_module": "@jupyter-widgets/controls",
          "model_module_version": "1.5.0",
          "model_name": "DescriptionStyleModel",
          "state": {
            "_model_module": "@jupyter-widgets/controls",
            "_model_module_version": "1.5.0",
            "_model_name": "DescriptionStyleModel",
            "_view_count": null,
            "_view_module": "@jupyter-widgets/base",
            "_view_module_version": "1.2.0",
            "_view_name": "StyleView",
            "description_width": ""
          }
        },
        "2d72812902a743b5aa5a88dbdd420d86": {
          "model_module": "@jupyter-widgets/controls",
          "model_module_version": "1.5.0",
          "model_name": "DescriptionStyleModel",
          "state": {
            "_model_module": "@jupyter-widgets/controls",
            "_model_module_version": "1.5.0",
            "_model_name": "DescriptionStyleModel",
            "_view_count": null,
            "_view_module": "@jupyter-widgets/base",
            "_view_module_version": "1.2.0",
            "_view_name": "StyleView",
            "description_width": ""
          }
        },
        "37df4bdd2ece4f5ab96be0301e9f493c": {
          "model_module": "@jupyter-widgets/controls",
          "model_module_version": "1.5.0",
          "model_name": "ProgressStyleModel",
          "state": {
            "_model_module": "@jupyter-widgets/controls",
            "_model_module_version": "1.5.0",
            "_model_name": "ProgressStyleModel",
            "_view_count": null,
            "_view_module": "@jupyter-widgets/base",
            "_view_module_version": "1.2.0",
            "_view_name": "StyleView",
            "bar_color": null,
            "description_width": ""
          }
        },
        "5544801ae87648fbb3d619ce58ca66fc": {
          "model_module": "@jupyter-widgets/controls",
          "model_module_version": "1.5.0",
          "model_name": "FloatProgressModel",
          "state": {
            "_dom_classes": [],
            "_model_module": "@jupyter-widgets/controls",
            "_model_module_version": "1.5.0",
            "_model_name": "FloatProgressModel",
            "_view_count": null,
            "_view_module": "@jupyter-widgets/controls",
            "_view_module_version": "1.5.0",
            "_view_name": "ProgressView",
            "bar_style": "success",
            "description": "",
            "description_tooltip": null,
            "layout": "IPY_MODEL_0172e78d88a84c6cad3592218de8292d",
            "max": 10184,
            "min": 0,
            "orientation": "horizontal",
            "style": "IPY_MODEL_28508ab0f08940519732d38df7c84c21",
            "value": 10184
          }
        },
        "561958eea2c542508ebcbdbeb36623bc": {
          "model_module": "@jupyter-widgets/controls",
          "model_module_version": "1.5.0",
          "model_name": "HTMLModel",
          "state": {
            "_dom_classes": [],
            "_model_module": "@jupyter-widgets/controls",
            "_model_module_version": "1.5.0",
            "_model_name": "HTMLModel",
            "_view_count": null,
            "_view_module": "@jupyter-widgets/controls",
            "_view_module_version": "1.5.0",
            "_view_name": "HTMLView",
            "description": "",
            "description_tooltip": null,
            "layout": "IPY_MODEL_aa4cbf9762e549988b640d9bd7ef0643",
            "placeholder": "​",
            "style": "IPY_MODEL_c3f04355f962411499d9cbbb3b31949d",
            "value": " 10.2k/10.2k [00:00&lt;00:00, 360kB/s]"
          }
        },
        "639a21aed0004f979085aa066a496af2": {
          "model_module": "@jupyter-widgets/base",
          "model_module_version": "1.2.0",
          "model_name": "LayoutModel",
          "state": {
            "_model_module": "@jupyter-widgets/base",
            "_model_module_version": "1.2.0",
            "_model_name": "LayoutModel",
            "_view_count": null,
            "_view_module": "@jupyter-widgets/base",
            "_view_module_version": "1.2.0",
            "_view_name": "LayoutView",
            "align_content": null,
            "align_items": null,
            "align_self": null,
            "border": null,
            "bottom": null,
            "display": null,
            "flex": null,
            "flex_flow": null,
            "grid_area": null,
            "grid_auto_columns": null,
            "grid_auto_flow": null,
            "grid_auto_rows": null,
            "grid_column": null,
            "grid_gap": null,
            "grid_row": null,
            "grid_template_areas": null,
            "grid_template_columns": null,
            "grid_template_rows": null,
            "height": null,
            "justify_content": null,
            "justify_items": null,
            "left": null,
            "margin": null,
            "max_height": null,
            "max_width": null,
            "min_height": null,
            "min_width": null,
            "object_fit": null,
            "object_position": null,
            "order": null,
            "overflow": null,
            "overflow_x": null,
            "overflow_y": null,
            "padding": null,
            "right": null,
            "top": null,
            "visibility": null,
            "width": null
          }
        },
        "6f044524aee74edcb65cd51032f227c7": {
          "model_module": "@jupyter-widgets/controls",
          "model_module_version": "1.5.0",
          "model_name": "HBoxModel",
          "state": {
            "_dom_classes": [],
            "_model_module": "@jupyter-widgets/controls",
            "_model_module_version": "1.5.0",
            "_model_name": "HBoxModel",
            "_view_count": null,
            "_view_module": "@jupyter-widgets/controls",
            "_view_module_version": "1.5.0",
            "_view_name": "HBoxView",
            "box_style": "",
            "children": [
              "IPY_MODEL_aafa2adfd00142aebda67b16b3b9d23c",
              "IPY_MODEL_5544801ae87648fbb3d619ce58ca66fc",
              "IPY_MODEL_561958eea2c542508ebcbdbeb36623bc"
            ],
            "layout": "IPY_MODEL_9b969a562ea740ac9a5b3f6a508b2e4f"
          }
        },
        "97c596c7f97b4eee80962d22e3b6206b": {
          "model_module": "@jupyter-widgets/base",
          "model_module_version": "1.2.0",
          "model_name": "LayoutModel",
          "state": {
            "_model_module": "@jupyter-widgets/base",
            "_model_module_version": "1.2.0",
            "_model_name": "LayoutModel",
            "_view_count": null,
            "_view_module": "@jupyter-widgets/base",
            "_view_module_version": "1.2.0",
            "_view_name": "LayoutView",
            "align_content": null,
            "align_items": null,
            "align_self": null,
            "border": null,
            "bottom": null,
            "display": null,
            "flex": null,
            "flex_flow": null,
            "grid_area": null,
            "grid_auto_columns": null,
            "grid_auto_flow": null,
            "grid_auto_rows": null,
            "grid_column": null,
            "grid_gap": null,
            "grid_row": null,
            "grid_template_areas": null,
            "grid_template_columns": null,
            "grid_template_rows": null,
            "height": null,
            "justify_content": null,
            "justify_items": null,
            "left": null,
            "margin": null,
            "max_height": null,
            "max_width": null,
            "min_height": null,
            "min_width": null,
            "object_fit": null,
            "object_position": null,
            "order": null,
            "overflow": null,
            "overflow_x": null,
            "overflow_y": null,
            "padding": null,
            "right": null,
            "top": null,
            "visibility": null,
            "width": null
          }
        },
        "9b969a562ea740ac9a5b3f6a508b2e4f": {
          "model_module": "@jupyter-widgets/base",
          "model_module_version": "1.2.0",
          "model_name": "LayoutModel",
          "state": {
            "_model_module": "@jupyter-widgets/base",
            "_model_module_version": "1.2.0",
            "_model_name": "LayoutModel",
            "_view_count": null,
            "_view_module": "@jupyter-widgets/base",
            "_view_module_version": "1.2.0",
            "_view_name": "LayoutView",
            "align_content": null,
            "align_items": null,
            "align_self": null,
            "border": null,
            "bottom": null,
            "display": null,
            "flex": null,
            "flex_flow": null,
            "grid_area": null,
            "grid_auto_columns": null,
            "grid_auto_flow": null,
            "grid_auto_rows": null,
            "grid_column": null,
            "grid_gap": null,
            "grid_row": null,
            "grid_template_areas": null,
            "grid_template_columns": null,
            "grid_template_rows": null,
            "height": null,
            "justify_content": null,
            "justify_items": null,
            "left": null,
            "margin": null,
            "max_height": null,
            "max_width": null,
            "min_height": null,
            "min_width": null,
            "object_fit": null,
            "object_position": null,
            "order": null,
            "overflow": null,
            "overflow_x": null,
            "overflow_y": null,
            "padding": null,
            "right": null,
            "top": null,
            "visibility": null,
            "width": null
          }
        },
        "aa4cbf9762e549988b640d9bd7ef0643": {
          "model_module": "@jupyter-widgets/base",
          "model_module_version": "1.2.0",
          "model_name": "LayoutModel",
          "state": {
            "_model_module": "@jupyter-widgets/base",
            "_model_module_version": "1.2.0",
            "_model_name": "LayoutModel",
            "_view_count": null,
            "_view_module": "@jupyter-widgets/base",
            "_view_module_version": "1.2.0",
            "_view_name": "LayoutView",
            "align_content": null,
            "align_items": null,
            "align_self": null,
            "border": null,
            "bottom": null,
            "display": null,
            "flex": null,
            "flex_flow": null,
            "grid_area": null,
            "grid_auto_columns": null,
            "grid_auto_flow": null,
            "grid_auto_rows": null,
            "grid_column": null,
            "grid_gap": null,
            "grid_row": null,
            "grid_template_areas": null,
            "grid_template_columns": null,
            "grid_template_rows": null,
            "height": null,
            "justify_content": null,
            "justify_items": null,
            "left": null,
            "margin": null,
            "max_height": null,
            "max_width": null,
            "min_height": null,
            "min_width": null,
            "object_fit": null,
            "object_position": null,
            "order": null,
            "overflow": null,
            "overflow_x": null,
            "overflow_y": null,
            "padding": null,
            "right": null,
            "top": null,
            "visibility": null,
            "width": null
          }
        },
        "aafa2adfd00142aebda67b16b3b9d23c": {
          "model_module": "@jupyter-widgets/controls",
          "model_module_version": "1.5.0",
          "model_name": "HTMLModel",
          "state": {
            "_dom_classes": [],
            "_model_module": "@jupyter-widgets/controls",
            "_model_module_version": "1.5.0",
            "_model_name": "HTMLModel",
            "_view_count": null,
            "_view_module": "@jupyter-widgets/controls",
            "_view_module_version": "1.5.0",
            "_view_name": "HTMLView",
            "description": "",
            "description_tooltip": null,
            "layout": "IPY_MODEL_639a21aed0004f979085aa066a496af2",
            "placeholder": "​",
            "style": "IPY_MODEL_28ab7a5c5d674200ab93ab6a7460bfac",
            "value": "Downloading readme: 100%"
          }
        },
        "add35c121cf748b0ba38f8362d9525bd": {
          "model_module": "@jupyter-widgets/base",
          "model_module_version": "1.2.0",
          "model_name": "LayoutModel",
          "state": {
            "_model_module": "@jupyter-widgets/base",
            "_model_module_version": "1.2.0",
            "_model_name": "LayoutModel",
            "_view_count": null,
            "_view_module": "@jupyter-widgets/base",
            "_view_module_version": "1.2.0",
            "_view_name": "LayoutView",
            "align_content": null,
            "align_items": null,
            "align_self": null,
            "border": null,
            "bottom": null,
            "display": null,
            "flex": null,
            "flex_flow": null,
            "grid_area": null,
            "grid_auto_columns": null,
            "grid_auto_flow": null,
            "grid_auto_rows": null,
            "grid_column": null,
            "grid_gap": null,
            "grid_row": null,
            "grid_template_areas": null,
            "grid_template_columns": null,
            "grid_template_rows": null,
            "height": null,
            "justify_content": null,
            "justify_items": null,
            "left": null,
            "margin": null,
            "max_height": null,
            "max_width": null,
            "min_height": null,
            "min_width": null,
            "object_fit": null,
            "object_position": null,
            "order": null,
            "overflow": null,
            "overflow_x": null,
            "overflow_y": null,
            "padding": null,
            "right": null,
            "top": null,
            "visibility": null,
            "width": null
          }
        },
        "b179b10a50954d35b818134eadb764fb": {
          "model_module": "@jupyter-widgets/controls",
          "model_module_version": "1.5.0",
          "model_name": "HTMLModel",
          "state": {
            "_dom_classes": [],
            "_model_module": "@jupyter-widgets/controls",
            "_model_module_version": "1.5.0",
            "_model_name": "HTMLModel",
            "_view_count": null,
            "_view_module": "@jupyter-widgets/controls",
            "_view_module_version": "1.5.0",
            "_view_name": "HTMLView",
            "description": "",
            "description_tooltip": null,
            "layout": "IPY_MODEL_add35c121cf748b0ba38f8362d9525bd",
            "placeholder": "​",
            "style": "IPY_MODEL_cafd5aadc967433984dff3993bbc2ee8",
            "value": "Downloading builder script: 100%"
          }
        },
        "c3f04355f962411499d9cbbb3b31949d": {
          "model_module": "@jupyter-widgets/controls",
          "model_module_version": "1.5.0",
          "model_name": "DescriptionStyleModel",
          "state": {
            "_model_module": "@jupyter-widgets/controls",
            "_model_module_version": "1.5.0",
            "_model_name": "DescriptionStyleModel",
            "_view_count": null,
            "_view_module": "@jupyter-widgets/base",
            "_view_module_version": "1.2.0",
            "_view_name": "StyleView",
            "description_width": ""
          }
        },
        "c44ed04af467405398304a5f8b2946c8": {
          "model_module": "@jupyter-widgets/controls",
          "model_module_version": "1.5.0",
          "model_name": "HTMLModel",
          "state": {
            "_dom_classes": [],
            "_model_module": "@jupyter-widgets/controls",
            "_model_module_version": "1.5.0",
            "_model_name": "HTMLModel",
            "_view_count": null,
            "_view_module": "@jupyter-widgets/controls",
            "_view_module_version": "1.5.0",
            "_view_name": "HTMLView",
            "description": "",
            "description_tooltip": null,
            "layout": "IPY_MODEL_97c596c7f97b4eee80962d22e3b6206b",
            "placeholder": "​",
            "style": "IPY_MODEL_2d72812902a743b5aa5a88dbdd420d86",
            "value": " 11.5k/11.5k [00:00&lt;00:00, 406kB/s]"
          }
        },
        "cafd5aadc967433984dff3993bbc2ee8": {
          "model_module": "@jupyter-widgets/controls",
          "model_module_version": "1.5.0",
          "model_name": "DescriptionStyleModel",
          "state": {
            "_model_module": "@jupyter-widgets/controls",
            "_model_module_version": "1.5.0",
            "_model_name": "DescriptionStyleModel",
            "_view_count": null,
            "_view_module": "@jupyter-widgets/base",
            "_view_module_version": "1.2.0",
            "_view_name": "StyleView",
            "description_width": ""
          }
        },
        "cc51b37195094299b6d556c3f39d1191": {
          "model_module": "@jupyter-widgets/base",
          "model_module_version": "1.2.0",
          "model_name": "LayoutModel",
          "state": {
            "_model_module": "@jupyter-widgets/base",
            "_model_module_version": "1.2.0",
            "_model_name": "LayoutModel",
            "_view_count": null,
            "_view_module": "@jupyter-widgets/base",
            "_view_module_version": "1.2.0",
            "_view_name": "LayoutView",
            "align_content": null,
            "align_items": null,
            "align_self": null,
            "border": null,
            "bottom": null,
            "display": null,
            "flex": null,
            "flex_flow": null,
            "grid_area": null,
            "grid_auto_columns": null,
            "grid_auto_flow": null,
            "grid_auto_rows": null,
            "grid_column": null,
            "grid_gap": null,
            "grid_row": null,
            "grid_template_areas": null,
            "grid_template_columns": null,
            "grid_template_rows": null,
            "height": null,
            "justify_content": null,
            "justify_items": null,
            "left": null,
            "margin": null,
            "max_height": null,
            "max_width": null,
            "min_height": null,
            "min_width": null,
            "object_fit": null,
            "object_position": null,
            "order": null,
            "overflow": null,
            "overflow_x": null,
            "overflow_y": null,
            "padding": null,
            "right": null,
            "top": null,
            "visibility": null,
            "width": null
          }
        },
        "e7b80bf498584ab68c5d8aeab55a4f9a": {
          "model_module": "@jupyter-widgets/controls",
          "model_module_version": "1.5.0",
          "model_name": "FloatProgressModel",
          "state": {
            "_dom_classes": [],
            "_model_module": "@jupyter-widgets/controls",
            "_model_module_version": "1.5.0",
            "_model_name": "FloatProgressModel",
            "_view_count": null,
            "_view_module": "@jupyter-widgets/controls",
            "_view_module_version": "1.5.0",
            "_view_name": "ProgressView",
            "bar_style": "success",
            "description": "",
            "description_tooltip": null,
            "layout": "IPY_MODEL_cc51b37195094299b6d556c3f39d1191",
            "max": 11531,
            "min": 0,
            "orientation": "horizontal",
            "style": "IPY_MODEL_37df4bdd2ece4f5ab96be0301e9f493c",
            "value": 11531
          }
        },
        "fe1175be3d114ac28a56c703fbdc8df9": {
          "model_module": "@jupyter-widgets/base",
          "model_module_version": "1.2.0",
          "model_name": "LayoutModel",
          "state": {
            "_model_module": "@jupyter-widgets/base",
            "_model_module_version": "1.2.0",
            "_model_name": "LayoutModel",
            "_view_count": null,
            "_view_module": "@jupyter-widgets/base",
            "_view_module_version": "1.2.0",
            "_view_name": "LayoutView",
            "align_content": null,
            "align_items": null,
            "align_self": null,
            "border": null,
            "bottom": null,
            "display": null,
            "flex": null,
            "flex_flow": null,
            "grid_area": null,
            "grid_auto_columns": null,
            "grid_auto_flow": null,
            "grid_auto_rows": null,
            "grid_column": null,
            "grid_gap": null,
            "grid_row": null,
            "grid_template_areas": null,
            "grid_template_columns": null,
            "grid_template_rows": null,
            "height": null,
            "justify_content": null,
            "justify_items": null,
            "left": null,
            "margin": null,
            "max_height": null,
            "max_width": null,
            "min_height": null,
            "min_width": null,
            "object_fit": null,
            "object_position": null,
            "order": null,
            "overflow": null,
            "overflow_x": null,
            "overflow_y": null,
            "padding": null,
            "right": null,
            "top": null,
            "visibility": null,
            "width": null
          }
        }
      }
    }
  },
  "nbformat": 4,
  "nbformat_minor": 0
}
